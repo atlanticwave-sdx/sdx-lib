{
 "cells": [
  {
   "cell_type": "markdown",
   "metadata": {
    "tags": []
   },
   "source": [
    "# Create a FABRIC Facility Port\n",
    "\n",
    "This notebook shows how to use create an facility port to connect your FABRIC experiment to an external facility. \n",
    "\n"
   ]
  },
  {
   "cell_type": "markdown",
   "metadata": {
    "tags": []
   },
   "source": [
    "## Import the FABlib Library"
   ]
  },
  {
   "cell_type": "code",
   "execution_count": 1,
   "metadata": {
    "tags": []
   },
   "outputs": [
    {
     "data": {
      "text/html": [
       "<style type=\"text/css\">\n",
       "#T_b5cc6 tr:nth-child(even) {\n",
       "  background: #dbf3ff;\n",
       "  color: #231f20;\n",
       "}\n",
       "#T_b5cc6 tr:nth-child(odd) {\n",
       "  background: #ffffff;\n",
       "  color: #231f20;\n",
       "}\n",
       "#T_b5cc6 caption {\n",
       "  text-align: center;\n",
       "  font-size: 150%;\n",
       "}\n",
       "#T_b5cc6_row0_col0, #T_b5cc6_row0_col1, #T_b5cc6_row1_col0, #T_b5cc6_row1_col1, #T_b5cc6_row2_col0, #T_b5cc6_row2_col1, #T_b5cc6_row3_col0, #T_b5cc6_row3_col1, #T_b5cc6_row4_col0, #T_b5cc6_row4_col1, #T_b5cc6_row5_col0, #T_b5cc6_row5_col1, #T_b5cc6_row6_col0, #T_b5cc6_row6_col1, #T_b5cc6_row7_col0, #T_b5cc6_row7_col1, #T_b5cc6_row8_col0, #T_b5cc6_row8_col1, #T_b5cc6_row9_col0, #T_b5cc6_row9_col1, #T_b5cc6_row10_col0, #T_b5cc6_row10_col1, #T_b5cc6_row11_col0, #T_b5cc6_row11_col1, #T_b5cc6_row12_col0, #T_b5cc6_row12_col1, #T_b5cc6_row13_col0, #T_b5cc6_row13_col1, #T_b5cc6_row14_col0, #T_b5cc6_row14_col1, #T_b5cc6_row15_col0, #T_b5cc6_row15_col1, #T_b5cc6_row16_col0, #T_b5cc6_row16_col1 {\n",
       "  text-align: left;\n",
       "  border: 1px #231f20 solid !important;\n",
       "  overwrite: False;\n",
       "}\n",
       "</style>\n",
       "<table id=\"T_b5cc6\">\n",
       "  <caption>FABlib Config</caption>\n",
       "  <thead>\n",
       "  </thead>\n",
       "  <tbody>\n",
       "    <tr>\n",
       "      <td id=\"T_b5cc6_row0_col0\" class=\"data row0 col0\" >Orchestrator</td>\n",
       "      <td id=\"T_b5cc6_row0_col1\" class=\"data row0 col1\" >orchestrator.fabric-testbed.net</td>\n",
       "    </tr>\n",
       "    <tr>\n",
       "      <td id=\"T_b5cc6_row1_col0\" class=\"data row1 col0\" >Credential Manager</td>\n",
       "      <td id=\"T_b5cc6_row1_col1\" class=\"data row1 col1\" >cm.fabric-testbed.net</td>\n",
       "    </tr>\n",
       "    <tr>\n",
       "      <td id=\"T_b5cc6_row2_col0\" class=\"data row2 col0\" >Core API</td>\n",
       "      <td id=\"T_b5cc6_row2_col1\" class=\"data row2 col1\" >uis.fabric-testbed.net</td>\n",
       "    </tr>\n",
       "    <tr>\n",
       "      <td id=\"T_b5cc6_row3_col0\" class=\"data row3 col0\" >Token File</td>\n",
       "      <td id=\"T_b5cc6_row3_col1\" class=\"data row3 col1\" >/home/fabric/.tokens.json</td>\n",
       "    </tr>\n",
       "    <tr>\n",
       "      <td id=\"T_b5cc6_row4_col0\" class=\"data row4 col0\" >Project ID</td>\n",
       "      <td id=\"T_b5cc6_row4_col1\" class=\"data row4 col1\" >1ecd9d6a-7701-40fa-b78e-b2293c9526ed</td>\n",
       "    </tr>\n",
       "    <tr>\n",
       "      <td id=\"T_b5cc6_row5_col0\" class=\"data row5 col0\" >Bastion Host</td>\n",
       "      <td id=\"T_b5cc6_row5_col1\" class=\"data row5 col1\" >bastion.fabric-testbed.net</td>\n",
       "    </tr>\n",
       "    <tr>\n",
       "      <td id=\"T_b5cc6_row6_col0\" class=\"data row6 col0\" >Bastion Username</td>\n",
       "      <td id=\"T_b5cc6_row6_col1\" class=\"data row6 col1\" >sw_slcolson_0000101181</td>\n",
       "    </tr>\n",
       "    <tr>\n",
       "      <td id=\"T_b5cc6_row7_col0\" class=\"data row7 col0\" >Bastion Private Key File</td>\n",
       "      <td id=\"T_b5cc6_row7_col1\" class=\"data row7 col1\" >/home/fabric/work/fabric_config/fabric-bastion-key</td>\n",
       "    </tr>\n",
       "    <tr>\n",
       "      <td id=\"T_b5cc6_row8_col0\" class=\"data row8 col0\" >Slice Public Key File</td>\n",
       "      <td id=\"T_b5cc6_row8_col1\" class=\"data row8 col1\" >/home/fabric/work/fabric_config/slice_key.pub</td>\n",
       "    </tr>\n",
       "    <tr>\n",
       "      <td id=\"T_b5cc6_row9_col0\" class=\"data row9 col0\" >Slice Private Key File</td>\n",
       "      <td id=\"T_b5cc6_row9_col1\" class=\"data row9 col1\" >/home/fabric/work/fabric_config/slice_key</td>\n",
       "    </tr>\n",
       "    <tr>\n",
       "      <td id=\"T_b5cc6_row10_col0\" class=\"data row10 col0\" >Sites to avoid</td>\n",
       "      <td id=\"T_b5cc6_row10_col1\" class=\"data row10 col1\" ></td>\n",
       "    </tr>\n",
       "    <tr>\n",
       "      <td id=\"T_b5cc6_row11_col0\" class=\"data row11 col0\" >SSH Command Line</td>\n",
       "      <td id=\"T_b5cc6_row11_col1\" class=\"data row11 col1\" >ssh -i {{ _self_.private_ssh_key_file }} -F /home/fabric/work/fabric_config/ssh_config {{ _self_.username }}@{{ _self_.management_ip }}</td>\n",
       "    </tr>\n",
       "    <tr>\n",
       "      <td id=\"T_b5cc6_row12_col0\" class=\"data row12 col0\" >Log Level</td>\n",
       "      <td id=\"T_b5cc6_row12_col1\" class=\"data row12 col1\" >INFO</td>\n",
       "    </tr>\n",
       "    <tr>\n",
       "      <td id=\"T_b5cc6_row13_col0\" class=\"data row13 col0\" >Log File</td>\n",
       "      <td id=\"T_b5cc6_row13_col1\" class=\"data row13 col1\" >/tmp/fablib/fablib.log</td>\n",
       "    </tr>\n",
       "    <tr>\n",
       "      <td id=\"T_b5cc6_row14_col0\" class=\"data row14 col0\" >Bastion SSH Config File</td>\n",
       "      <td id=\"T_b5cc6_row14_col1\" class=\"data row14 col1\" >/home/fabric/work/fabric_config/ssh_config</td>\n",
       "    </tr>\n",
       "    <tr>\n",
       "      <td id=\"T_b5cc6_row15_col0\" class=\"data row15 col0\" >Version</td>\n",
       "      <td id=\"T_b5cc6_row15_col1\" class=\"data row15 col1\" >1.7.3</td>\n",
       "    </tr>\n",
       "    <tr>\n",
       "      <td id=\"T_b5cc6_row16_col0\" class=\"data row16 col0\" >Data directory</td>\n",
       "      <td id=\"T_b5cc6_row16_col1\" class=\"data row16 col1\" >/tmp/fablib</td>\n",
       "    </tr>\n",
       "  </tbody>\n",
       "</table>\n"
      ],
      "text/plain": [
       "<pandas.io.formats.style.Styler at 0x7a99d3272910>"
      ]
     },
     "metadata": {},
     "output_type": "display_data"
    }
   ],
   "source": [
    "from fabrictestbed_extensions.fablib.fablib import FablibManager as fablib_manager\n",
    "\n",
    "fablib = fablib_manager()\n",
    "                     \n",
    "fablib.show_config();"
   ]
  },
  {
   "cell_type": "markdown",
   "metadata": {
    "tags": []
   },
   "source": [
    "## Create the Experiment Slice\n",
    "\n",
    "The following creates a single node with basic compute capabilities. You build a slice by creating a new slice and adding resources to the slice. After you build the slice, you must submit a request for the slice to be instantiated.   \n",
    "\n",
    "By default, the submit function will block until the node is ready and will display the progress of your slice being built.\n",
    "\n"
   ]
  },
  {
   "cell_type": "code",
   "execution_count": 2,
   "metadata": {},
   "outputs": [],
   "source": [
    "slice_name = \"Slice-AWSDX\"\n",
    "\n",
    "facility_port_site='FIU'"
   ]
  },
  {
   "cell_type": "markdown",
   "metadata": {},
   "source": [
    "### Facility port info"
   ]
  },
  {
   "cell_type": "markdown",
   "metadata": {},
   "source": [
    "#### Find the facility ports on the site\n",
    "List the facility ports\n",
    "- Facility Port Name\n",
    "- Available VLAN range\n",
    "- Currently allocated VLAN range"
   ]
  },
  {
   "cell_type": "code",
   "execution_count": 3,
   "metadata": {},
   "outputs": [
    {
     "data": {
      "text/html": [
       "<style type=\"text/css\">\n",
       "#T_4fcdb caption {\n",
       "  text-align: center;\n",
       "  font-size: 150%;\n",
       "  caption-side: top;\n",
       "}\n",
       "#T_4fcdb th {\n",
       "  text-align: left;\n",
       "}\n",
       "#T_4fcdb tr:nth-child(even) {\n",
       "  background: #ffffff;\n",
       "  color: #231f20;\n",
       "}\n",
       "#T_4fcdb tr:nth-child(odd) {\n",
       "  background: #dbf3ff;\n",
       "  color: #231f20;\n",
       "}\n",
       "#T_4fcdb .level0 {\n",
       "  border: 1px black solid !important;\n",
       "  background: #ffffff;\n",
       "  color: #231f20;\n",
       "}\n",
       "#T_4fcdb_row0_col0, #T_4fcdb_row0_col1, #T_4fcdb_row0_col2, #T_4fcdb_row0_col3, #T_4fcdb_row0_col4, #T_4fcdb_row0_col5, #T_4fcdb_row0_col6, #T_4fcdb_row0_col7, #T_4fcdb_row1_col0, #T_4fcdb_row1_col1, #T_4fcdb_row1_col2, #T_4fcdb_row1_col3, #T_4fcdb_row1_col4, #T_4fcdb_row1_col5, #T_4fcdb_row1_col6, #T_4fcdb_row1_col7 {\n",
       "  text-align: left;\n",
       "  border: 1px #231f20 solid !important;\n",
       "  overwrite: False;\n",
       "}\n",
       "</style>\n",
       "<table id=\"T_4fcdb\">\n",
       "  <caption>Facility Ports</caption>\n",
       "  <thead>\n",
       "    <tr>\n",
       "      <th id=\"T_4fcdb_level0_col0\" class=\"col_heading level0 col0\" >Name</th>\n",
       "      <th id=\"T_4fcdb_level0_col1\" class=\"col_heading level0 col1\" >Site</th>\n",
       "      <th id=\"T_4fcdb_level0_col2\" class=\"col_heading level0 col2\" >Interface Name</th>\n",
       "      <th id=\"T_4fcdb_level0_col3\" class=\"col_heading level0 col3\" >VLAN Range</th>\n",
       "      <th id=\"T_4fcdb_level0_col4\" class=\"col_heading level0 col4\" >Allocated VLAN Range</th>\n",
       "      <th id=\"T_4fcdb_level0_col5\" class=\"col_heading level0 col5\" >Local Name</th>\n",
       "      <th id=\"T_4fcdb_level0_col6\" class=\"col_heading level0 col6\" >Device Name</th>\n",
       "      <th id=\"T_4fcdb_level0_col7\" class=\"col_heading level0 col7\" >Region</th>\n",
       "    </tr>\n",
       "  </thead>\n",
       "  <tbody>\n",
       "    <tr>\n",
       "      <td id=\"T_4fcdb_row0_col0\" class=\"data row0 col0\" >AmLight-EXP-Layer2-FIU</td>\n",
       "      <td id=\"T_4fcdb_row0_col1\" class=\"data row0 col1\" >FIU</td>\n",
       "      <td id=\"T_4fcdb_row0_col2\" class=\"data row0 col2\" >port+fiu-data-sw:HundredGigE0/0/0/23:facility+AmLight-EXP-Layer2-FIU-int</td>\n",
       "      <td id=\"T_4fcdb_row0_col3\" class=\"data row0 col3\" >['4000-4019']</td>\n",
       "      <td id=\"T_4fcdb_row0_col4\" class=\"data row0 col4\" >N/A</td>\n",
       "      <td id=\"T_4fcdb_row0_col5\" class=\"data row0 col5\" >N/A</td>\n",
       "      <td id=\"T_4fcdb_row0_col6\" class=\"data row0 col6\" >N/A</td>\n",
       "      <td id=\"T_4fcdb_row0_col7\" class=\"data row0 col7\" >N/A</td>\n",
       "    </tr>\n",
       "    <tr>\n",
       "      <td id=\"T_4fcdb_row1_col0\" class=\"data row1 col0\" >AmLight-Layer3-FIU</td>\n",
       "      <td id=\"T_4fcdb_row1_col1\" class=\"data row1 col1\" >FIU</td>\n",
       "      <td id=\"T_4fcdb_row1_col2\" class=\"data row1 col2\" >port+fiu-data-sw:HundredGigE0/0/0/23:facility+AmLight-Layer3-FIU-int</td>\n",
       "      <td id=\"T_4fcdb_row1_col3\" class=\"data row1 col3\" >['3001-3008']</td>\n",
       "      <td id=\"T_4fcdb_row1_col4\" class=\"data row1 col4\" >N/A</td>\n",
       "      <td id=\"T_4fcdb_row1_col5\" class=\"data row1 col5\" >N/A</td>\n",
       "      <td id=\"T_4fcdb_row1_col6\" class=\"data row1 col6\" >N/A</td>\n",
       "      <td id=\"T_4fcdb_row1_col7\" class=\"data row1 col7\" >N/A</td>\n",
       "    </tr>\n",
       "  </tbody>\n",
       "</table>\n"
      ],
      "text/plain": [
       "<pandas.io.formats.style.Styler at 0x7a99bc5d1b90>"
      ]
     },
     "metadata": {},
     "output_type": "display_data"
    }
   ],
   "source": [
    "cell_output = 'pandas' # 'json'\n",
    "output_list = fablib.list_facility_ports(filter_function=lambda x: x['site_name'] == facility_port_site, output=cell_output)"
   ]
  },
  {
   "cell_type": "markdown",
   "metadata": {},
   "source": [
    "#### Select the Facility Port on the site\n",
    "\n",
    "Set the facility port name and select the VLAN to use"
   ]
  },
  {
   "cell_type": "code",
   "execution_count": 4,
   "metadata": {},
   "outputs": [],
   "source": [
    "facility_port_name = 'AmLight-EXP-Layer2-FIU' # VLAN Range: 4000-4019\n",
    "#facility_port_name ='AmLight-Layer3-FIU'     # VLAN Range: 3001-3008\n",
    "\n",
    "facility_port_vlan='4015'"
   ]
  },
  {
   "cell_type": "markdown",
   "metadata": {},
   "source": [
    "### Create Slice"
   ]
  },
  {
   "cell_type": "markdown",
   "metadata": {},
   "source": [
    "Create new_slice and add node(s) to the FABRIC topology"
   ]
  },
  {
   "cell_type": "code",
   "execution_count": 5,
   "metadata": {
    "tags": []
   },
   "outputs": [],
   "source": [
    "slice = fablib.new_slice(name=slice_name)\n",
    "\n",
    "# Example: One VM on FABRIC-STAR with a NIC - sharedNIC (basic) or dedicated smartNIC (ConnectX_6)\n",
    "node = slice.add_node(name=f\"Node1\", site='STAR')\n",
    "\n",
    "#node_iface = node.add_component(model='NIC_ConnectX_6', name=\"nic1\").get_interfaces()[0]\n",
    "node_iface = node.add_component(model='NIC_Basic', name=\"nic1\").get_interfaces()[0]"
   ]
  },
  {
   "cell_type": "markdown",
   "metadata": {},
   "source": [
    "Add facility port to the network service configuration along with the node interface(s)"
   ]
  },
  {
   "cell_type": "code",
   "execution_count": 6,
   "metadata": {},
   "outputs": [],
   "source": [
    "facility_port = slice.add_facility_port(name=facility_port_name, site=facility_port_site, vlan=facility_port_vlan)\n",
    "facility_port_interface =facility_port.get_interfaces()[0]\n",
    "\n",
    "#net = slice.add_l2network(name=f'net_facility_port', interfaces=[node_iface,facility_port_interface])\n",
    "net = slice.add_l2network(name=f'net_facility_port', interfaces=[])\n",
    "net.add_interface(node_iface)\n",
    "net.add_interface(facility_port_interface)"
   ]
  },
  {
   "cell_type": "code",
   "execution_count": 7,
   "metadata": {},
   "outputs": [
    {
     "name": "stdout",
     "output_type": "stream",
     "text": [
      "facility_port.get_site(): FIU\n",
      "facility_port.get_fim_interface(): {'node_id': '1fb977b1-2c8e-4eee-b64a-46f38815ec5a', 'name': 'AmLight-EXP-Layer2-FIU', 'site': 'FIU', 'type': 'Facility'}\n"
     ]
    }
   ],
   "source": [
    "print(f\"facility_port.get_site(): {facility_port.get_site()}\")\n",
    "print(f\"facility_port.get_fim_interface(): {facility_port.get_fim_interface()}\")"
   ]
  },
  {
   "cell_type": "markdown",
   "metadata": {},
   "source": [
    "Submit slice request to create"
   ]
  },
  {
   "cell_type": "code",
   "execution_count": 8,
   "metadata": {},
   "outputs": [
    {
     "name": "stdout",
     "output_type": "stream",
     "text": [
      "\n",
      "Retry: 8, Time: 248 sec\n"
     ]
    },
    {
     "data": {
      "text/html": [
       "<style type=\"text/css\">\n",
       "#T_ad632 tr:nth-child(even) {\n",
       "  background: #dbf3ff;\n",
       "  color: #231f20;\n",
       "}\n",
       "#T_ad632 tr:nth-child(odd) {\n",
       "  background: #ffffff;\n",
       "  color: #231f20;\n",
       "}\n",
       "#T_ad632 caption {\n",
       "  text-align: center;\n",
       "  font-size: 150%;\n",
       "}\n",
       "#T_ad632_row0_col0, #T_ad632_row0_col1, #T_ad632_row1_col0, #T_ad632_row1_col1, #T_ad632_row2_col0, #T_ad632_row2_col1, #T_ad632_row3_col0, #T_ad632_row3_col1, #T_ad632_row4_col0, #T_ad632_row4_col1, #T_ad632_row5_col0 {\n",
       "  text-align: left;\n",
       "  border: 1px #231f20 solid !important;\n",
       "  overwrite: False;\n",
       "  background-color: ;\n",
       "}\n",
       "#T_ad632_row5_col1 {\n",
       "  text-align: left;\n",
       "  border: 1px #231f20 solid !important;\n",
       "  overwrite: False;\n",
       "  background-color: #c3ffc4;\n",
       "}\n",
       "</style>\n",
       "<table id=\"T_ad632\">\n",
       "  <caption>Slice</caption>\n",
       "  <thead>\n",
       "  </thead>\n",
       "  <tbody>\n",
       "    <tr>\n",
       "      <td id=\"T_ad632_row0_col0\" class=\"data row0 col0\" >ID</td>\n",
       "      <td id=\"T_ad632_row0_col1\" class=\"data row0 col1\" >488dad25-f5fc-401b-a2df-212dd499514d</td>\n",
       "    </tr>\n",
       "    <tr>\n",
       "      <td id=\"T_ad632_row1_col0\" class=\"data row1 col0\" >Name</td>\n",
       "      <td id=\"T_ad632_row1_col1\" class=\"data row1 col1\" >Slice-AWSDX</td>\n",
       "    </tr>\n",
       "    <tr>\n",
       "      <td id=\"T_ad632_row2_col0\" class=\"data row2 col0\" >Lease Expiration (UTC)</td>\n",
       "      <td id=\"T_ad632_row2_col1\" class=\"data row2 col1\" >2024-10-24 11:26:44 +0000</td>\n",
       "    </tr>\n",
       "    <tr>\n",
       "      <td id=\"T_ad632_row3_col0\" class=\"data row3 col0\" >Lease Start (UTC)</td>\n",
       "      <td id=\"T_ad632_row3_col1\" class=\"data row3 col1\" >2024-10-23 11:26:44 +0000</td>\n",
       "    </tr>\n",
       "    <tr>\n",
       "      <td id=\"T_ad632_row4_col0\" class=\"data row4 col0\" >Project ID</td>\n",
       "      <td id=\"T_ad632_row4_col1\" class=\"data row4 col1\" >1ecd9d6a-7701-40fa-b78e-b2293c9526ed</td>\n",
       "    </tr>\n",
       "    <tr>\n",
       "      <td id=\"T_ad632_row5_col0\" class=\"data row5 col0\" >State</td>\n",
       "      <td id=\"T_ad632_row5_col1\" class=\"data row5 col1\" >StableOK</td>\n",
       "    </tr>\n",
       "  </tbody>\n",
       "</table>\n"
      ],
      "text/plain": [
       "<pandas.io.formats.style.Styler at 0x7a99bc3c5ad0>"
      ]
     },
     "metadata": {},
     "output_type": "display_data"
    },
    {
     "data": {
      "text/html": [
       "<style type=\"text/css\">\n",
       "#T_7e39c caption {\n",
       "  text-align: center;\n",
       "  font-size: 150%;\n",
       "  caption-side: top;\n",
       "}\n",
       "#T_7e39c th {\n",
       "  text-align: left;\n",
       "}\n",
       "#T_7e39c tr:nth-child(even) {\n",
       "  background: #ffffff;\n",
       "  color: #231f20;\n",
       "}\n",
       "#T_7e39c tr:nth-child(odd) {\n",
       "  background: #dbf3ff;\n",
       "  color: #231f20;\n",
       "}\n",
       "#T_7e39c .level0 {\n",
       "  border: 1px black solid !important;\n",
       "  background: #ffffff;\n",
       "  color: #231f20;\n",
       "}\n",
       "#T_7e39c_row0_col0, #T_7e39c_row0_col1, #T_7e39c_row0_col2, #T_7e39c_row0_col3, #T_7e39c_row0_col4, #T_7e39c_row0_col5, #T_7e39c_row0_col6, #T_7e39c_row0_col7, #T_7e39c_row0_col8, #T_7e39c_row0_col9, #T_7e39c_row0_col10, #T_7e39c_row0_col13, #T_7e39c_row0_col14, #T_7e39c_row0_col15 {\n",
       "  text-align: left;\n",
       "  border: 1px #231f20 solid !important;\n",
       "  overwrite: False;\n",
       "}\n",
       "#T_7e39c_row0_col11 {\n",
       "  text-align: left;\n",
       "  border: 1px #231f20 solid !important;\n",
       "  overwrite: False;\n",
       "  background-color: #c3ffc4;\n",
       "}\n",
       "#T_7e39c_row0_col12 {\n",
       "  text-align: left;\n",
       "  border: 1px #231f20 solid !important;\n",
       "  overwrite: False;\n",
       "  background-color: ;\n",
       "}\n",
       "</style>\n",
       "<table id=\"T_7e39c\">\n",
       "  <caption>Nodes</caption>\n",
       "  <thead>\n",
       "    <tr>\n",
       "      <th id=\"T_7e39c_level0_col0\" class=\"col_heading level0 col0\" >ID</th>\n",
       "      <th id=\"T_7e39c_level0_col1\" class=\"col_heading level0 col1\" >Name</th>\n",
       "      <th id=\"T_7e39c_level0_col2\" class=\"col_heading level0 col2\" >Cores</th>\n",
       "      <th id=\"T_7e39c_level0_col3\" class=\"col_heading level0 col3\" >RAM</th>\n",
       "      <th id=\"T_7e39c_level0_col4\" class=\"col_heading level0 col4\" >Disk</th>\n",
       "      <th id=\"T_7e39c_level0_col5\" class=\"col_heading level0 col5\" >Image</th>\n",
       "      <th id=\"T_7e39c_level0_col6\" class=\"col_heading level0 col6\" >Image Type</th>\n",
       "      <th id=\"T_7e39c_level0_col7\" class=\"col_heading level0 col7\" >Host</th>\n",
       "      <th id=\"T_7e39c_level0_col8\" class=\"col_heading level0 col8\" >Site</th>\n",
       "      <th id=\"T_7e39c_level0_col9\" class=\"col_heading level0 col9\" >Username</th>\n",
       "      <th id=\"T_7e39c_level0_col10\" class=\"col_heading level0 col10\" >Management IP</th>\n",
       "      <th id=\"T_7e39c_level0_col11\" class=\"col_heading level0 col11\" >State</th>\n",
       "      <th id=\"T_7e39c_level0_col12\" class=\"col_heading level0 col12\" >Error</th>\n",
       "      <th id=\"T_7e39c_level0_col13\" class=\"col_heading level0 col13\" >SSH Command</th>\n",
       "      <th id=\"T_7e39c_level0_col14\" class=\"col_heading level0 col14\" >Public SSH Key File</th>\n",
       "      <th id=\"T_7e39c_level0_col15\" class=\"col_heading level0 col15\" >Private SSH Key File</th>\n",
       "    </tr>\n",
       "  </thead>\n",
       "  <tbody>\n",
       "    <tr>\n",
       "      <td id=\"T_7e39c_row0_col0\" class=\"data row0 col0\" >578eea53-0109-4817-a6b9-9452046c7b28</td>\n",
       "      <td id=\"T_7e39c_row0_col1\" class=\"data row0 col1\" >Node1</td>\n",
       "      <td id=\"T_7e39c_row0_col2\" class=\"data row0 col2\" >2</td>\n",
       "      <td id=\"T_7e39c_row0_col3\" class=\"data row0 col3\" >8</td>\n",
       "      <td id=\"T_7e39c_row0_col4\" class=\"data row0 col4\" >10</td>\n",
       "      <td id=\"T_7e39c_row0_col5\" class=\"data row0 col5\" >default_rocky_8</td>\n",
       "      <td id=\"T_7e39c_row0_col6\" class=\"data row0 col6\" >qcow2</td>\n",
       "      <td id=\"T_7e39c_row0_col7\" class=\"data row0 col7\" >star-w5.fabric-testbed.net</td>\n",
       "      <td id=\"T_7e39c_row0_col8\" class=\"data row0 col8\" >STAR</td>\n",
       "      <td id=\"T_7e39c_row0_col9\" class=\"data row0 col9\" >rocky</td>\n",
       "      <td id=\"T_7e39c_row0_col10\" class=\"data row0 col10\" >2001:400:a100:3030:f816:3eff:fe90:e999</td>\n",
       "      <td id=\"T_7e39c_row0_col11\" class=\"data row0 col11\" >Active</td>\n",
       "      <td id=\"T_7e39c_row0_col12\" class=\"data row0 col12\" ></td>\n",
       "      <td id=\"T_7e39c_row0_col13\" class=\"data row0 col13\" >ssh -i /home/fabric/work/fabric_config/slice_key -F /home/fabric/work/fabric_config/ssh_config rocky@2001:400:a100:3030:f816:3eff:fe90:e999</td>\n",
       "      <td id=\"T_7e39c_row0_col14\" class=\"data row0 col14\" >/home/fabric/work/fabric_config/slice_key.pub</td>\n",
       "      <td id=\"T_7e39c_row0_col15\" class=\"data row0 col15\" >/home/fabric/work/fabric_config/slice_key</td>\n",
       "    </tr>\n",
       "  </tbody>\n",
       "</table>\n"
      ],
      "text/plain": [
       "<pandas.io.formats.style.Styler at 0x7a99bc3d6a10>"
      ]
     },
     "metadata": {},
     "output_type": "display_data"
    },
    {
     "data": {
      "text/html": [
       "<style type=\"text/css\">\n",
       "#T_016c5 caption {\n",
       "  text-align: center;\n",
       "  font-size: 150%;\n",
       "  caption-side: top;\n",
       "}\n",
       "#T_016c5 th {\n",
       "  text-align: left;\n",
       "}\n",
       "#T_016c5 tr:nth-child(even) {\n",
       "  background: #ffffff;\n",
       "  color: #231f20;\n",
       "}\n",
       "#T_016c5 tr:nth-child(odd) {\n",
       "  background: #dbf3ff;\n",
       "  color: #231f20;\n",
       "}\n",
       "#T_016c5 .level0 {\n",
       "  border: 1px black solid !important;\n",
       "  background: #ffffff;\n",
       "  color: #231f20;\n",
       "}\n",
       "#T_016c5_row0_col0, #T_016c5_row0_col1, #T_016c5_row0_col2, #T_016c5_row0_col3, #T_016c5_row0_col4, #T_016c5_row0_col5, #T_016c5_row0_col6 {\n",
       "  text-align: left;\n",
       "  border: 1px #231f20 solid !important;\n",
       "  overwrite: False;\n",
       "}\n",
       "#T_016c5_row0_col7 {\n",
       "  text-align: left;\n",
       "  border: 1px #231f20 solid !important;\n",
       "  overwrite: False;\n",
       "  background-color: #c3ffc4;\n",
       "}\n",
       "#T_016c5_row0_col8 {\n",
       "  text-align: left;\n",
       "  border: 1px #231f20 solid !important;\n",
       "  overwrite: False;\n",
       "  background-color: ;\n",
       "}\n",
       "</style>\n",
       "<table id=\"T_016c5\">\n",
       "  <caption>Networks</caption>\n",
       "  <thead>\n",
       "    <tr>\n",
       "      <th id=\"T_016c5_level0_col0\" class=\"col_heading level0 col0\" >ID</th>\n",
       "      <th id=\"T_016c5_level0_col1\" class=\"col_heading level0 col1\" >Name</th>\n",
       "      <th id=\"T_016c5_level0_col2\" class=\"col_heading level0 col2\" >Layer</th>\n",
       "      <th id=\"T_016c5_level0_col3\" class=\"col_heading level0 col3\" >Type</th>\n",
       "      <th id=\"T_016c5_level0_col4\" class=\"col_heading level0 col4\" >Site</th>\n",
       "      <th id=\"T_016c5_level0_col5\" class=\"col_heading level0 col5\" >Subnet</th>\n",
       "      <th id=\"T_016c5_level0_col6\" class=\"col_heading level0 col6\" >Gateway</th>\n",
       "      <th id=\"T_016c5_level0_col7\" class=\"col_heading level0 col7\" >State</th>\n",
       "      <th id=\"T_016c5_level0_col8\" class=\"col_heading level0 col8\" >Error</th>\n",
       "    </tr>\n",
       "  </thead>\n",
       "  <tbody>\n",
       "    <tr>\n",
       "      <td id=\"T_016c5_row0_col0\" class=\"data row0 col0\" >a7c7a4ef-48ef-4a9c-98ff-d89f76ccf063</td>\n",
       "      <td id=\"T_016c5_row0_col1\" class=\"data row0 col1\" >net_facility_port</td>\n",
       "      <td id=\"T_016c5_row0_col2\" class=\"data row0 col2\" >L2</td>\n",
       "      <td id=\"T_016c5_row0_col3\" class=\"data row0 col3\" >L2STS</td>\n",
       "      <td id=\"T_016c5_row0_col4\" class=\"data row0 col4\" >None</td>\n",
       "      <td id=\"T_016c5_row0_col5\" class=\"data row0 col5\" >None</td>\n",
       "      <td id=\"T_016c5_row0_col6\" class=\"data row0 col6\" >None</td>\n",
       "      <td id=\"T_016c5_row0_col7\" class=\"data row0 col7\" >Active</td>\n",
       "      <td id=\"T_016c5_row0_col8\" class=\"data row0 col8\" ></td>\n",
       "    </tr>\n",
       "  </tbody>\n",
       "</table>\n"
      ],
      "text/plain": [
       "<pandas.io.formats.style.Styler at 0x7a99bc3d7e90>"
      ]
     },
     "metadata": {},
     "output_type": "display_data"
    },
    {
     "data": {
      "text/html": [
       "<style type=\"text/css\">\n",
       "#T_4475b caption {\n",
       "  text-align: center;\n",
       "  font-size: 150%;\n",
       "  caption-side: top;\n",
       "}\n",
       "#T_4475b th {\n",
       "  text-align: left;\n",
       "}\n",
       "#T_4475b tr:nth-child(even) {\n",
       "  background: #ffffff;\n",
       "  color: #231f20;\n",
       "}\n",
       "#T_4475b tr:nth-child(odd) {\n",
       "  background: #dbf3ff;\n",
       "  color: #231f20;\n",
       "}\n",
       "#T_4475b .level0 {\n",
       "  border: 1px black solid !important;\n",
       "  background: #ffffff;\n",
       "  color: #231f20;\n",
       "}\n",
       "#T_4475b_row0_col0, #T_4475b_row0_col1, #T_4475b_row0_col2, #T_4475b_row0_col3, #T_4475b_row0_col4, #T_4475b_row0_col5, #T_4475b_row0_col6, #T_4475b_row0_col7, #T_4475b_row0_col8, #T_4475b_row0_col9, #T_4475b_row0_col10, #T_4475b_row0_col11, #T_4475b_row0_col12 {\n",
       "  text-align: left;\n",
       "  border: 1px #231f20 solid !important;\n",
       "  overwrite: False;\n",
       "}\n",
       "</style>\n",
       "<table id=\"T_4475b\">\n",
       "  <caption>Interfaces</caption>\n",
       "  <thead>\n",
       "    <tr>\n",
       "      <th id=\"T_4475b_level0_col0\" class=\"col_heading level0 col0\" >Name</th>\n",
       "      <th id=\"T_4475b_level0_col1\" class=\"col_heading level0 col1\" >Short Name</th>\n",
       "      <th id=\"T_4475b_level0_col2\" class=\"col_heading level0 col2\" >Node</th>\n",
       "      <th id=\"T_4475b_level0_col3\" class=\"col_heading level0 col3\" >Network</th>\n",
       "      <th id=\"T_4475b_level0_col4\" class=\"col_heading level0 col4\" >Bandwidth</th>\n",
       "      <th id=\"T_4475b_level0_col5\" class=\"col_heading level0 col5\" >Mode</th>\n",
       "      <th id=\"T_4475b_level0_col6\" class=\"col_heading level0 col6\" >VLAN</th>\n",
       "      <th id=\"T_4475b_level0_col7\" class=\"col_heading level0 col7\" >MAC</th>\n",
       "      <th id=\"T_4475b_level0_col8\" class=\"col_heading level0 col8\" >Physical Device</th>\n",
       "      <th id=\"T_4475b_level0_col9\" class=\"col_heading level0 col9\" >Device</th>\n",
       "      <th id=\"T_4475b_level0_col10\" class=\"col_heading level0 col10\" >IP Address</th>\n",
       "      <th id=\"T_4475b_level0_col11\" class=\"col_heading level0 col11\" >Numa Node</th>\n",
       "      <th id=\"T_4475b_level0_col12\" class=\"col_heading level0 col12\" >Switch Port</th>\n",
       "    </tr>\n",
       "  </thead>\n",
       "  <tbody>\n",
       "    <tr>\n",
       "      <td id=\"T_4475b_row0_col0\" class=\"data row0 col0\" >Node1-nic1-p1</td>\n",
       "      <td id=\"T_4475b_row0_col1\" class=\"data row0 col1\" >p1</td>\n",
       "      <td id=\"T_4475b_row0_col2\" class=\"data row0 col2\" >Node1</td>\n",
       "      <td id=\"T_4475b_row0_col3\" class=\"data row0 col3\" >net_facility_port</td>\n",
       "      <td id=\"T_4475b_row0_col4\" class=\"data row0 col4\" >100</td>\n",
       "      <td id=\"T_4475b_row0_col5\" class=\"data row0 col5\" >config</td>\n",
       "      <td id=\"T_4475b_row0_col6\" class=\"data row0 col6\" ></td>\n",
       "      <td id=\"T_4475b_row0_col7\" class=\"data row0 col7\" >06:C2:F3:99:A2:F2</td>\n",
       "      <td id=\"T_4475b_row0_col8\" class=\"data row0 col8\" >eth1</td>\n",
       "      <td id=\"T_4475b_row0_col9\" class=\"data row0 col9\" >eth1</td>\n",
       "      <td id=\"T_4475b_row0_col10\" class=\"data row0 col10\" >fe80::7522:9541:2884:493b</td>\n",
       "      <td id=\"T_4475b_row0_col11\" class=\"data row0 col11\" >4</td>\n",
       "      <td id=\"T_4475b_row0_col12\" class=\"data row0 col12\" >HundredGigE0/0/0/1</td>\n",
       "    </tr>\n",
       "  </tbody>\n",
       "</table>\n"
      ],
      "text/plain": [
       "<pandas.io.formats.style.Styler at 0x7a999a4b89d0>"
      ]
     },
     "metadata": {},
     "output_type": "display_data"
    },
    {
     "name": "stdout",
     "output_type": "stream",
     "text": [
      "\n",
      "Time to print interfaces 252 seconds\n"
     ]
    }
   ],
   "source": [
    "slice.submit();"
   ]
  },
  {
   "cell_type": "markdown",
   "metadata": {},
   "source": [
    "## Observe the Slice's Attributes\n"
   ]
  },
  {
   "cell_type": "code",
   "execution_count": 9,
   "metadata": {},
   "outputs": [],
   "source": [
    "slice = fablib.get_slice(slice_name)"
   ]
  },
  {
   "cell_type": "code",
   "execution_count": 10,
   "metadata": {
    "tags": []
   },
   "outputs": [
    {
     "data": {
      "text/html": [
       "<style type=\"text/css\">\n",
       "#T_90c33 tr:nth-child(even) {\n",
       "  background: #dbf3ff;\n",
       "  color: #231f20;\n",
       "}\n",
       "#T_90c33 tr:nth-child(odd) {\n",
       "  background: #ffffff;\n",
       "  color: #231f20;\n",
       "}\n",
       "#T_90c33 caption {\n",
       "  text-align: center;\n",
       "  font-size: 150%;\n",
       "}\n",
       "#T_90c33_row0_col0, #T_90c33_row0_col1, #T_90c33_row1_col0, #T_90c33_row1_col1, #T_90c33_row2_col0, #T_90c33_row2_col1, #T_90c33_row3_col0, #T_90c33_row3_col1, #T_90c33_row4_col0, #T_90c33_row4_col1, #T_90c33_row5_col0, #T_90c33_row5_col1 {\n",
       "  text-align: left;\n",
       "  border: 1px #231f20 solid !important;\n",
       "  overwrite: False;\n",
       "}\n",
       "</style>\n",
       "<table id=\"T_90c33\">\n",
       "  <caption>Slice</caption>\n",
       "  <thead>\n",
       "  </thead>\n",
       "  <tbody>\n",
       "    <tr>\n",
       "      <td id=\"T_90c33_row0_col0\" class=\"data row0 col0\" >ID</td>\n",
       "      <td id=\"T_90c33_row0_col1\" class=\"data row0 col1\" >488dad25-f5fc-401b-a2df-212dd499514d</td>\n",
       "    </tr>\n",
       "    <tr>\n",
       "      <td id=\"T_90c33_row1_col0\" class=\"data row1 col0\" >Name</td>\n",
       "      <td id=\"T_90c33_row1_col1\" class=\"data row1 col1\" >Slice-AWSDX</td>\n",
       "    </tr>\n",
       "    <tr>\n",
       "      <td id=\"T_90c33_row2_col0\" class=\"data row2 col0\" >Lease Expiration (UTC)</td>\n",
       "      <td id=\"T_90c33_row2_col1\" class=\"data row2 col1\" >2024-10-24 11:26:44 +0000</td>\n",
       "    </tr>\n",
       "    <tr>\n",
       "      <td id=\"T_90c33_row3_col0\" class=\"data row3 col0\" >Lease Start (UTC)</td>\n",
       "      <td id=\"T_90c33_row3_col1\" class=\"data row3 col1\" >2024-10-23 11:26:44 +0000</td>\n",
       "    </tr>\n",
       "    <tr>\n",
       "      <td id=\"T_90c33_row4_col0\" class=\"data row4 col0\" >Project ID</td>\n",
       "      <td id=\"T_90c33_row4_col1\" class=\"data row4 col1\" >1ecd9d6a-7701-40fa-b78e-b2293c9526ed</td>\n",
       "    </tr>\n",
       "    <tr>\n",
       "      <td id=\"T_90c33_row5_col0\" class=\"data row5 col0\" >State</td>\n",
       "      <td id=\"T_90c33_row5_col1\" class=\"data row5 col1\" >StableOK</td>\n",
       "    </tr>\n",
       "  </tbody>\n",
       "</table>\n"
      ],
      "text/plain": [
       "<pandas.io.formats.style.Styler at 0x7a99bc232010>"
      ]
     },
     "metadata": {},
     "output_type": "display_data"
    },
    {
     "data": {
      "text/html": [
       "<style type=\"text/css\">\n",
       "#T_62be5 caption {\n",
       "  text-align: center;\n",
       "  font-size: 150%;\n",
       "  caption-side: top;\n",
       "}\n",
       "#T_62be5 th {\n",
       "  text-align: left;\n",
       "}\n",
       "#T_62be5 tr:nth-child(even) {\n",
       "  background: #ffffff;\n",
       "  color: #231f20;\n",
       "}\n",
       "#T_62be5 tr:nth-child(odd) {\n",
       "  background: #dbf3ff;\n",
       "  color: #231f20;\n",
       "}\n",
       "#T_62be5 .level0 {\n",
       "  border: 1px black solid !important;\n",
       "  background: #ffffff;\n",
       "  color: #231f20;\n",
       "}\n",
       "#T_62be5_row0_col0, #T_62be5_row0_col1, #T_62be5_row0_col2, #T_62be5_row0_col3, #T_62be5_row0_col4, #T_62be5_row0_col5, #T_62be5_row0_col6, #T_62be5_row0_col7, #T_62be5_row0_col8, #T_62be5_row0_col9, #T_62be5_row0_col10, #T_62be5_row0_col11, #T_62be5_row0_col12, #T_62be5_row0_col13, #T_62be5_row0_col14, #T_62be5_row0_col15 {\n",
       "  text-align: left;\n",
       "  border: 1px #231f20 solid !important;\n",
       "  overwrite: False;\n",
       "}\n",
       "</style>\n",
       "<table id=\"T_62be5\">\n",
       "  <caption>Nodes</caption>\n",
       "  <thead>\n",
       "    <tr>\n",
       "      <th id=\"T_62be5_level0_col0\" class=\"col_heading level0 col0\" >ID</th>\n",
       "      <th id=\"T_62be5_level0_col1\" class=\"col_heading level0 col1\" >Name</th>\n",
       "      <th id=\"T_62be5_level0_col2\" class=\"col_heading level0 col2\" >Cores</th>\n",
       "      <th id=\"T_62be5_level0_col3\" class=\"col_heading level0 col3\" >RAM</th>\n",
       "      <th id=\"T_62be5_level0_col4\" class=\"col_heading level0 col4\" >Disk</th>\n",
       "      <th id=\"T_62be5_level0_col5\" class=\"col_heading level0 col5\" >Image</th>\n",
       "      <th id=\"T_62be5_level0_col6\" class=\"col_heading level0 col6\" >Image Type</th>\n",
       "      <th id=\"T_62be5_level0_col7\" class=\"col_heading level0 col7\" >Host</th>\n",
       "      <th id=\"T_62be5_level0_col8\" class=\"col_heading level0 col8\" >Site</th>\n",
       "      <th id=\"T_62be5_level0_col9\" class=\"col_heading level0 col9\" >Username</th>\n",
       "      <th id=\"T_62be5_level0_col10\" class=\"col_heading level0 col10\" >Management IP</th>\n",
       "      <th id=\"T_62be5_level0_col11\" class=\"col_heading level0 col11\" >State</th>\n",
       "      <th id=\"T_62be5_level0_col12\" class=\"col_heading level0 col12\" >Error</th>\n",
       "      <th id=\"T_62be5_level0_col13\" class=\"col_heading level0 col13\" >SSH Command</th>\n",
       "      <th id=\"T_62be5_level0_col14\" class=\"col_heading level0 col14\" >Public SSH Key File</th>\n",
       "      <th id=\"T_62be5_level0_col15\" class=\"col_heading level0 col15\" >Private SSH Key File</th>\n",
       "    </tr>\n",
       "  </thead>\n",
       "  <tbody>\n",
       "    <tr>\n",
       "      <td id=\"T_62be5_row0_col0\" class=\"data row0 col0\" >578eea53-0109-4817-a6b9-9452046c7b28</td>\n",
       "      <td id=\"T_62be5_row0_col1\" class=\"data row0 col1\" >Node1</td>\n",
       "      <td id=\"T_62be5_row0_col2\" class=\"data row0 col2\" >2</td>\n",
       "      <td id=\"T_62be5_row0_col3\" class=\"data row0 col3\" >8</td>\n",
       "      <td id=\"T_62be5_row0_col4\" class=\"data row0 col4\" >10</td>\n",
       "      <td id=\"T_62be5_row0_col5\" class=\"data row0 col5\" >default_rocky_8</td>\n",
       "      <td id=\"T_62be5_row0_col6\" class=\"data row0 col6\" >qcow2</td>\n",
       "      <td id=\"T_62be5_row0_col7\" class=\"data row0 col7\" >star-w5.fabric-testbed.net</td>\n",
       "      <td id=\"T_62be5_row0_col8\" class=\"data row0 col8\" >STAR</td>\n",
       "      <td id=\"T_62be5_row0_col9\" class=\"data row0 col9\" >rocky</td>\n",
       "      <td id=\"T_62be5_row0_col10\" class=\"data row0 col10\" >2001:400:a100:3030:f816:3eff:fe90:e999</td>\n",
       "      <td id=\"T_62be5_row0_col11\" class=\"data row0 col11\" >Active</td>\n",
       "      <td id=\"T_62be5_row0_col12\" class=\"data row0 col12\" ></td>\n",
       "      <td id=\"T_62be5_row0_col13\" class=\"data row0 col13\" >ssh -i /home/fabric/work/fabric_config/slice_key -F /home/fabric/work/fabric_config/ssh_config rocky@2001:400:a100:3030:f816:3eff:fe90:e999</td>\n",
       "      <td id=\"T_62be5_row0_col14\" class=\"data row0 col14\" >/home/fabric/work/fabric_config/slice_key.pub</td>\n",
       "      <td id=\"T_62be5_row0_col15\" class=\"data row0 col15\" >/home/fabric/work/fabric_config/slice_key</td>\n",
       "    </tr>\n",
       "  </tbody>\n",
       "</table>\n"
      ],
      "text/plain": [
       "<pandas.io.formats.style.Styler at 0x7a99ce41d590>"
      ]
     },
     "metadata": {},
     "output_type": "display_data"
    },
    {
     "data": {
      "text/html": [
       "<style type=\"text/css\">\n",
       "#T_4610c caption {\n",
       "  text-align: center;\n",
       "  font-size: 150%;\n",
       "  caption-side: top;\n",
       "}\n",
       "#T_4610c th {\n",
       "  text-align: left;\n",
       "}\n",
       "#T_4610c tr:nth-child(even) {\n",
       "  background: #ffffff;\n",
       "  color: #231f20;\n",
       "}\n",
       "#T_4610c tr:nth-child(odd) {\n",
       "  background: #dbf3ff;\n",
       "  color: #231f20;\n",
       "}\n",
       "#T_4610c .level0 {\n",
       "  border: 1px black solid !important;\n",
       "  background: #ffffff;\n",
       "  color: #231f20;\n",
       "}\n",
       "#T_4610c_row0_col0, #T_4610c_row0_col1, #T_4610c_row0_col2, #T_4610c_row0_col3, #T_4610c_row0_col4, #T_4610c_row0_col5, #T_4610c_row0_col6, #T_4610c_row0_col7, #T_4610c_row0_col8 {\n",
       "  text-align: left;\n",
       "  border: 1px #231f20 solid !important;\n",
       "  overwrite: False;\n",
       "}\n",
       "</style>\n",
       "<table id=\"T_4610c\">\n",
       "  <caption>Networks</caption>\n",
       "  <thead>\n",
       "    <tr>\n",
       "      <th id=\"T_4610c_level0_col0\" class=\"col_heading level0 col0\" >ID</th>\n",
       "      <th id=\"T_4610c_level0_col1\" class=\"col_heading level0 col1\" >Name</th>\n",
       "      <th id=\"T_4610c_level0_col2\" class=\"col_heading level0 col2\" >Layer</th>\n",
       "      <th id=\"T_4610c_level0_col3\" class=\"col_heading level0 col3\" >Type</th>\n",
       "      <th id=\"T_4610c_level0_col4\" class=\"col_heading level0 col4\" >Site</th>\n",
       "      <th id=\"T_4610c_level0_col5\" class=\"col_heading level0 col5\" >Subnet</th>\n",
       "      <th id=\"T_4610c_level0_col6\" class=\"col_heading level0 col6\" >Gateway</th>\n",
       "      <th id=\"T_4610c_level0_col7\" class=\"col_heading level0 col7\" >State</th>\n",
       "      <th id=\"T_4610c_level0_col8\" class=\"col_heading level0 col8\" >Error</th>\n",
       "    </tr>\n",
       "  </thead>\n",
       "  <tbody>\n",
       "    <tr>\n",
       "      <td id=\"T_4610c_row0_col0\" class=\"data row0 col0\" >a7c7a4ef-48ef-4a9c-98ff-d89f76ccf063</td>\n",
       "      <td id=\"T_4610c_row0_col1\" class=\"data row0 col1\" >net_facility_port</td>\n",
       "      <td id=\"T_4610c_row0_col2\" class=\"data row0 col2\" >L2</td>\n",
       "      <td id=\"T_4610c_row0_col3\" class=\"data row0 col3\" >L2STS</td>\n",
       "      <td id=\"T_4610c_row0_col4\" class=\"data row0 col4\" >None</td>\n",
       "      <td id=\"T_4610c_row0_col5\" class=\"data row0 col5\" >None</td>\n",
       "      <td id=\"T_4610c_row0_col6\" class=\"data row0 col6\" >None</td>\n",
       "      <td id=\"T_4610c_row0_col7\" class=\"data row0 col7\" >Active</td>\n",
       "      <td id=\"T_4610c_row0_col8\" class=\"data row0 col8\" ></td>\n",
       "    </tr>\n",
       "  </tbody>\n",
       "</table>\n"
      ],
      "text/plain": [
       "<pandas.io.formats.style.Styler at 0x7a999af2c410>"
      ]
     },
     "metadata": {},
     "output_type": "display_data"
    },
    {
     "data": {
      "text/html": [
       "<style type=\"text/css\">\n",
       "#T_343f9 caption {\n",
       "  text-align: center;\n",
       "  font-size: 150%;\n",
       "  caption-side: top;\n",
       "}\n",
       "#T_343f9 th {\n",
       "  text-align: left;\n",
       "}\n",
       "#T_343f9 tr:nth-child(even) {\n",
       "  background: #ffffff;\n",
       "  color: #231f20;\n",
       "}\n",
       "#T_343f9 tr:nth-child(odd) {\n",
       "  background: #dbf3ff;\n",
       "  color: #231f20;\n",
       "}\n",
       "#T_343f9 .level0 {\n",
       "  border: 1px black solid !important;\n",
       "  background: #ffffff;\n",
       "  color: #231f20;\n",
       "}\n",
       "#T_343f9_row0_col0, #T_343f9_row0_col1, #T_343f9_row0_col2, #T_343f9_row0_col3, #T_343f9_row0_col4, #T_343f9_row0_col5, #T_343f9_row0_col6, #T_343f9_row0_col7, #T_343f9_row0_col8, #T_343f9_row0_col9, #T_343f9_row0_col10, #T_343f9_row0_col11, #T_343f9_row0_col12 {\n",
       "  text-align: left;\n",
       "  border: 1px #231f20 solid !important;\n",
       "  overwrite: False;\n",
       "}\n",
       "</style>\n",
       "<table id=\"T_343f9\">\n",
       "  <caption>Interfaces</caption>\n",
       "  <thead>\n",
       "    <tr>\n",
       "      <th id=\"T_343f9_level0_col0\" class=\"col_heading level0 col0\" >Name</th>\n",
       "      <th id=\"T_343f9_level0_col1\" class=\"col_heading level0 col1\" >Short Name</th>\n",
       "      <th id=\"T_343f9_level0_col2\" class=\"col_heading level0 col2\" >Node</th>\n",
       "      <th id=\"T_343f9_level0_col3\" class=\"col_heading level0 col3\" >Network</th>\n",
       "      <th id=\"T_343f9_level0_col4\" class=\"col_heading level0 col4\" >Bandwidth</th>\n",
       "      <th id=\"T_343f9_level0_col5\" class=\"col_heading level0 col5\" >Mode</th>\n",
       "      <th id=\"T_343f9_level0_col6\" class=\"col_heading level0 col6\" >VLAN</th>\n",
       "      <th id=\"T_343f9_level0_col7\" class=\"col_heading level0 col7\" >MAC</th>\n",
       "      <th id=\"T_343f9_level0_col8\" class=\"col_heading level0 col8\" >Physical Device</th>\n",
       "      <th id=\"T_343f9_level0_col9\" class=\"col_heading level0 col9\" >Device</th>\n",
       "      <th id=\"T_343f9_level0_col10\" class=\"col_heading level0 col10\" >IP Address</th>\n",
       "      <th id=\"T_343f9_level0_col11\" class=\"col_heading level0 col11\" >Numa Node</th>\n",
       "      <th id=\"T_343f9_level0_col12\" class=\"col_heading level0 col12\" >Switch Port</th>\n",
       "    </tr>\n",
       "  </thead>\n",
       "  <tbody>\n",
       "    <tr>\n",
       "      <td id=\"T_343f9_row0_col0\" class=\"data row0 col0\" >Node1-nic1-p1</td>\n",
       "      <td id=\"T_343f9_row0_col1\" class=\"data row0 col1\" >p1</td>\n",
       "      <td id=\"T_343f9_row0_col2\" class=\"data row0 col2\" >Node1</td>\n",
       "      <td id=\"T_343f9_row0_col3\" class=\"data row0 col3\" >net_facility_port</td>\n",
       "      <td id=\"T_343f9_row0_col4\" class=\"data row0 col4\" >100</td>\n",
       "      <td id=\"T_343f9_row0_col5\" class=\"data row0 col5\" >config</td>\n",
       "      <td id=\"T_343f9_row0_col6\" class=\"data row0 col6\" ></td>\n",
       "      <td id=\"T_343f9_row0_col7\" class=\"data row0 col7\" >06:C2:F3:99:A2:F2</td>\n",
       "      <td id=\"T_343f9_row0_col8\" class=\"data row0 col8\" >eth1</td>\n",
       "      <td id=\"T_343f9_row0_col9\" class=\"data row0 col9\" >eth1</td>\n",
       "      <td id=\"T_343f9_row0_col10\" class=\"data row0 col10\" >fe80::7522:9541:2884:493b</td>\n",
       "      <td id=\"T_343f9_row0_col11\" class=\"data row0 col11\" >4</td>\n",
       "      <td id=\"T_343f9_row0_col12\" class=\"data row0 col12\" >HundredGigE0/0/0/1</td>\n",
       "    </tr>\n",
       "  </tbody>\n",
       "</table>\n"
      ],
      "text/plain": [
       "<pandas.io.formats.style.Styler at 0x7a999aff3750>"
      ]
     },
     "metadata": {},
     "output_type": "display_data"
    },
    {
     "data": {
      "text/html": [
       "<style type=\"text/css\">\n",
       "#T_343f9 caption {\n",
       "  text-align: center;\n",
       "  font-size: 150%;\n",
       "  caption-side: top;\n",
       "}\n",
       "#T_343f9 th {\n",
       "  text-align: left;\n",
       "}\n",
       "#T_343f9 tr:nth-child(even) {\n",
       "  background: #ffffff;\n",
       "  color: #231f20;\n",
       "}\n",
       "#T_343f9 tr:nth-child(odd) {\n",
       "  background: #dbf3ff;\n",
       "  color: #231f20;\n",
       "}\n",
       "#T_343f9 .level0 {\n",
       "  border: 1px black solid !important;\n",
       "  background: #ffffff;\n",
       "  color: #231f20;\n",
       "}\n",
       "#T_343f9_row0_col0, #T_343f9_row0_col1, #T_343f9_row0_col2, #T_343f9_row0_col3, #T_343f9_row0_col4, #T_343f9_row0_col5, #T_343f9_row0_col6, #T_343f9_row0_col7, #T_343f9_row0_col8, #T_343f9_row0_col9, #T_343f9_row0_col10, #T_343f9_row0_col11, #T_343f9_row0_col12 {\n",
       "  text-align: left;\n",
       "  border: 1px #231f20 solid !important;\n",
       "  overwrite: False;\n",
       "}\n",
       "</style>\n",
       "<table id=\"T_343f9\">\n",
       "  <caption>Interfaces</caption>\n",
       "  <thead>\n",
       "    <tr>\n",
       "      <th id=\"T_343f9_level0_col0\" class=\"col_heading level0 col0\" >Name</th>\n",
       "      <th id=\"T_343f9_level0_col1\" class=\"col_heading level0 col1\" >Short Name</th>\n",
       "      <th id=\"T_343f9_level0_col2\" class=\"col_heading level0 col2\" >Node</th>\n",
       "      <th id=\"T_343f9_level0_col3\" class=\"col_heading level0 col3\" >Network</th>\n",
       "      <th id=\"T_343f9_level0_col4\" class=\"col_heading level0 col4\" >Bandwidth</th>\n",
       "      <th id=\"T_343f9_level0_col5\" class=\"col_heading level0 col5\" >Mode</th>\n",
       "      <th id=\"T_343f9_level0_col6\" class=\"col_heading level0 col6\" >VLAN</th>\n",
       "      <th id=\"T_343f9_level0_col7\" class=\"col_heading level0 col7\" >MAC</th>\n",
       "      <th id=\"T_343f9_level0_col8\" class=\"col_heading level0 col8\" >Physical Device</th>\n",
       "      <th id=\"T_343f9_level0_col9\" class=\"col_heading level0 col9\" >Device</th>\n",
       "      <th id=\"T_343f9_level0_col10\" class=\"col_heading level0 col10\" >IP Address</th>\n",
       "      <th id=\"T_343f9_level0_col11\" class=\"col_heading level0 col11\" >Numa Node</th>\n",
       "      <th id=\"T_343f9_level0_col12\" class=\"col_heading level0 col12\" >Switch Port</th>\n",
       "    </tr>\n",
       "  </thead>\n",
       "  <tbody>\n",
       "    <tr>\n",
       "      <td id=\"T_343f9_row0_col0\" class=\"data row0 col0\" >Node1-nic1-p1</td>\n",
       "      <td id=\"T_343f9_row0_col1\" class=\"data row0 col1\" >p1</td>\n",
       "      <td id=\"T_343f9_row0_col2\" class=\"data row0 col2\" >Node1</td>\n",
       "      <td id=\"T_343f9_row0_col3\" class=\"data row0 col3\" >net_facility_port</td>\n",
       "      <td id=\"T_343f9_row0_col4\" class=\"data row0 col4\" >100</td>\n",
       "      <td id=\"T_343f9_row0_col5\" class=\"data row0 col5\" >config</td>\n",
       "      <td id=\"T_343f9_row0_col6\" class=\"data row0 col6\" ></td>\n",
       "      <td id=\"T_343f9_row0_col7\" class=\"data row0 col7\" >06:C2:F3:99:A2:F2</td>\n",
       "      <td id=\"T_343f9_row0_col8\" class=\"data row0 col8\" >eth1</td>\n",
       "      <td id=\"T_343f9_row0_col9\" class=\"data row0 col9\" >eth1</td>\n",
       "      <td id=\"T_343f9_row0_col10\" class=\"data row0 col10\" >fe80::7522:9541:2884:493b</td>\n",
       "      <td id=\"T_343f9_row0_col11\" class=\"data row0 col11\" >4</td>\n",
       "      <td id=\"T_343f9_row0_col12\" class=\"data row0 col12\" >HundredGigE0/0/0/1</td>\n",
       "    </tr>\n",
       "  </tbody>\n",
       "</table>\n"
      ],
      "text/plain": [
       "<pandas.io.formats.style.Styler at 0x7a999aff3750>"
      ]
     },
     "execution_count": 10,
     "metadata": {},
     "output_type": "execute_result"
    }
   ],
   "source": [
    "slice.show()\n",
    "slice.list_nodes()\n",
    "slice.list_networks()\n",
    "slice.list_interfaces()\n"
   ]
  },
  {
   "cell_type": "markdown",
   "metadata": {
    "tags": []
   },
   "source": [
    "## Run the Experiment\n",
    "\n",
    "Most experiments will require automated configuration and execution. You can use the fablib library to execute arbitrary commands on your node. \n",
    "\n",
    "The following code demonstrates how to use fablib to execute a \"Hello, FABRIC\" bash script. The library uses the bastion and VM keys defined at the top of this notebook to jump through the bastion host and execute the script."
   ]
  },
  {
   "cell_type": "code",
   "execution_count": 11,
   "metadata": {
    "tags": []
   },
   "outputs": [],
   "source": [
    "from ipaddress import ip_address, IPv4Address, IPv6Address, IPv4Network, IPv6Network\n",
    "\n",
    "# Configure the interface(s) of the VM(s) with designated subnet\n",
    "subnet = IPv4Network(\"192.168.1.0/24\")\n",
    "available_ips = list(subnet)[2:]"
   ]
  },
  {
   "cell_type": "code",
   "execution_count": 12,
   "metadata": {
    "tags": []
   },
   "outputs": [
    {
     "name": "stdout",
     "output_type": "stream",
     "text": [
      "node1_addr: 192.168.1.101\n",
      "3: eth1: <BROADCAST,MULTICAST,UP,LOWER_UP> mtu 1500 qdisc mq state UP group default qlen 1000\n",
      "    link/ether 06:c2:f3:99:a2:f2 brd ff:ff:ff:ff:ff:ff\n",
      "    altname enp7s0\n",
      "    inet 192.168.1.101/24 scope global eth1\n",
      "       valid_lft forever preferred_lft forever\n",
      "    inet6 fe80::7522:9541:2884:493b/64 scope link noprefixroute \n",
      "       valid_lft forever preferred_lft forever\n"
     ]
    }
   ],
   "source": [
    "node1 = slice.get_node(name=f\"Node1\")        \n",
    "node1_iface = node1.get_interface(network_name=f'net_facility_port') \n",
    "node1_addr = available_ips.pop(99)\n",
    "print(f\"node1_addr: {node1_addr}\")\n",
    "node1_iface.ip_addr_add(addr=node1_addr, subnet=subnet)\n",
    "\n",
    "stdout, stderr = node1.execute(f'ip addr show {node1_iface.get_os_interface()}')\n",
    "\n",
    "stdout, stderr = node1.execute(f'sudo ip link set dev {node1_iface.get_physical_os_interface_name()} up')\n",
    "\n",
    "stdout, stderr = node1.execute(f'sudo ip link set dev {node1_iface.get_os_interface()} up')"
   ]
  },
  {
   "cell_type": "code",
   "execution_count": 13,
   "metadata": {
    "tags": []
   },
   "outputs": [
    {
     "name": "stdout",
     "output_type": "stream",
     "text": [
      "PING 192.168.1.10 (192.168.1.10) 56(84) bytes of data.\n",
      "From 192.168.1.101 icmp_seq=1 Destination Host Unreachable\n",
      "From 192.168.1.101 icmp_seq=2 Destination Host Unreachable\n",
      "From 192.168.1.101 icmp_seq=3 Destination Host Unreachable\n",
      "From 192.168.1.101 icmp_seq=4 Destination Host Unreachable\n",
      "From 192.168.1.101 icmp_seq=5 Destination Host Unreachable\n",
      "\n",
      "--- 192.168.1.10 ping statistics ---\n",
      "5 packets transmitted, 0 received, +5 errors, 100% packet loss, time 4119ms\n",
      "pipe 3\n"
     ]
    }
   ],
   "source": [
    "# Ping the node(s) that are active on the Facility Port side (e.g 192.168.1.10)\n",
    "node1 = slice.get_node(name=f\"Node1\")     \n",
    "node1_iface = node1.get_interface(network_name=f'net_facility_port') \n",
    "\n",
    "stdout, stderr = node1.execute(f'ping -c 5 192.168.1.10')   # This is expected to fail. "
   ]
  },
  {
   "cell_type": "markdown",
   "metadata": {},
   "source": [
    "# Add SDXlib code here"
   ]
  },
  {
   "cell_type": "code",
   "execution_count": 1,
   "metadata": {},
   "outputs": [],
   "source": [
    "import json\n",
    "import pandas as pd\n",
    "from pprint import pprint\n",
    "import requests\n",
    "\n",
    "from config import *\n",
    "from sdxlib.sdx_client import SDXClient\n",
    "from sdxlib.sdx_exception import SDXException"
   ]
  },
  {
   "cell_type": "code",
   "execution_count": 2,
   "metadata": {},
   "outputs": [],
   "source": [
    "# Define the required attributes\n",
    "url = \"http://67.17.206.205:8080/SDX-Controller\""
   ]
  },
  {
   "cell_type": "markdown",
   "metadata": {},
   "source": [
    "## List All Available Ports\n"
   ]
  },
  {
   "cell_type": "code",
   "execution_count": 3,
   "metadata": {},
   "outputs": [
    {
     "data": {
      "text/html": [
       "<style type=\"text/css\">\n",
       "</style>\n",
       "<table id=\"T_44fee\">\n",
       "  <thead>\n",
       "    <tr>\n",
       "      <th id=\"T_44fee_level0_col0\" class=\"col_heading level0 col0\" >Port ID</th>\n",
       "      <th id=\"T_44fee_level0_col1\" class=\"col_heading level0 col1\" >Status</th>\n",
       "    </tr>\n",
       "  </thead>\n",
       "  <tbody>\n",
       "    <tr>\n",
       "      <td id=\"T_44fee_row0_col0\" class=\"data row0 col0\" >urn:sdx:port:ampath.net:Ampath3:50</td>\n",
       "      <td id=\"T_44fee_row0_col1\" class=\"data row0 col1\" >up</td>\n",
       "    </tr>\n",
       "    <tr>\n",
       "      <td id=\"T_44fee_row1_col0\" class=\"data row1 col0\" >urn:sdx:port:ampath.net:Ampath2:50</td>\n",
       "      <td id=\"T_44fee_row1_col1\" class=\"data row1 col1\" >up</td>\n",
       "    </tr>\n",
       "    <tr>\n",
       "      <td id=\"T_44fee_row2_col0\" class=\"data row2 col0\" >urn:sdx:port:ampath.net:Ampath1:50</td>\n",
       "      <td id=\"T_44fee_row2_col1\" class=\"data row2 col1\" >up</td>\n",
       "    </tr>\n",
       "    <tr>\n",
       "      <td id=\"T_44fee_row3_col0\" class=\"data row3 col0\" >urn:sdx:port:sax.net:Sax01:50</td>\n",
       "      <td id=\"T_44fee_row3_col1\" class=\"data row3 col1\" >up</td>\n",
       "    </tr>\n",
       "    <tr>\n",
       "      <td id=\"T_44fee_row4_col0\" class=\"data row4 col0\" >urn:sdx:port:sax.net:Sax02:50</td>\n",
       "      <td id=\"T_44fee_row4_col1\" class=\"data row4 col1\" >up</td>\n",
       "    </tr>\n",
       "    <tr>\n",
       "      <td id=\"T_44fee_row5_col0\" class=\"data row5 col0\" >urn:sdx:port:tenet.ac.za:Tenet02:50</td>\n",
       "      <td id=\"T_44fee_row5_col1\" class=\"data row5 col1\" >up</td>\n",
       "    </tr>\n",
       "    <tr>\n",
       "      <td id=\"T_44fee_row6_col0\" class=\"data row6 col0\" >urn:sdx:port:tenet.ac.za:Tenet03:50</td>\n",
       "      <td id=\"T_44fee_row6_col1\" class=\"data row6 col1\" >up</td>\n",
       "    </tr>\n",
       "    <tr>\n",
       "      <td id=\"T_44fee_row7_col0\" class=\"data row7 col0\" >urn:sdx:port:tenet.ac.za:Tenet01:50</td>\n",
       "      <td id=\"T_44fee_row7_col1\" class=\"data row7 col1\" >up</td>\n",
       "    </tr>\n",
       "  </tbody>\n",
       "</table>\n"
      ],
      "text/plain": [
       "<pandas.io.formats.style.Styler at 0x7bf2ab47db90>"
      ]
     },
     "execution_count": 3,
     "metadata": {},
     "output_type": "execute_result"
    }
   ],
   "source": [
    "topology_url = url + \"/topology\"\n",
    "response = requests.get(topology_url)\n",
    "\n",
    "port_list = []\n",
    "\n",
    "if response.status_code == 200:\n",
    "    data = response.json()\n",
    "    \n",
    "    topology_data = response.json()\n",
    "    for node in topology_data['nodes']:\n",
    "        for port in node['ports']:\n",
    "            if port['status'] == \"up\" and port['nni'] == \"\":\n",
    "                port_list.append(\n",
    "                    {\n",
    "                        \"Port ID\": port[\"id\"],\n",
    "                        \"Status\": port[\"status\"]\n",
    "                    }\n",
    "                )\n",
    "else:\n",
    "    print(f\"Failed to retrieve data. Status code: {response.status_code}\")\n",
    "\n",
    "available_ports = pd.DataFrame(port_list, index=None)\n",
    "available_ports.style.hide(axis=\"index\")"
   ]
  },
  {
   "cell_type": "markdown",
   "metadata": {},
   "source": [
    "## Create Client"
   ]
  },
  {
   "cell_type": "code",
   "execution_count": 4,
   "metadata": {},
   "outputs": [],
   "source": [
    "client_name = \"Test SDX SC24 L2VPN\"\n",
    "client_endpoints = [\n",
    "    {\"port_id\": \"urn:sdx:port:ampath.net:Ampath2:50\", \"vlan\": \"302\"}, \n",
    "    {\"port_id\": \"urn:sdx:port:tenet.ac.za:Tenet02:50\", \"vlan\": \"302\"},\n",
    "]"
   ]
  },
  {
   "cell_type": "code",
   "execution_count": 5,
   "metadata": {},
   "outputs": [],
   "source": [
    "# Create the L2VPN object\n",
    "client = SDXClient(url, client_name, client_endpoints)"
   ]
  },
  {
   "cell_type": "code",
   "execution_count": 6,
   "metadata": {
    "scrolled": true
   },
   "outputs": [
    {
     "name": "stdout",
     "output_type": "stream",
     "text": [
      "L2VPN creation successful!\n",
      "{'service_id': '029cd862-e9c0-4300-872b-b4bcd856ed2e'}\n"
     ]
    }
   ],
   "source": [
    "try:\n",
    "    response = client.create_l2vpn()  \n",
    "    print(\"L2VPN creation successful!\")\n",
    "    pprint(response)\n",
    "except SDXException as e:\n",
    "    print(f\"L2VPN creation failed: {e}\") "
   ]
  },
  {
   "cell_type": "code",
   "execution_count": 7,
   "metadata": {},
   "outputs": [
    {
     "data": {
      "text/html": [
       "<style type=\"text/css\">\n",
       "</style>\n",
       "<table id=\"T_9b7d0\">\n",
       "  <thead>\n",
       "    <tr>\n",
       "      <th id=\"T_9b7d0_level0_col0\" class=\"col_heading level0 col0\" >service_id</th>\n",
       "      <th id=\"T_9b7d0_level0_col1\" class=\"col_heading level0 col1\" >name</th>\n",
       "      <th id=\"T_9b7d0_level0_col2\" class=\"col_heading level0 col2\" >endpoints</th>\n",
       "      <th id=\"T_9b7d0_level0_col3\" class=\"col_heading level0 col3\" >description</th>\n",
       "      <th id=\"T_9b7d0_level0_col4\" class=\"col_heading level0 col4\" >qos_metrics</th>\n",
       "      <th id=\"T_9b7d0_level0_col5\" class=\"col_heading level0 col5\" >notifications</th>\n",
       "      <th id=\"T_9b7d0_level0_col6\" class=\"col_heading level0 col6\" >ownership</th>\n",
       "      <th id=\"T_9b7d0_level0_col7\" class=\"col_heading level0 col7\" >creation_date</th>\n",
       "      <th id=\"T_9b7d0_level0_col8\" class=\"col_heading level0 col8\" >archived_date</th>\n",
       "      <th id=\"T_9b7d0_level0_col9\" class=\"col_heading level0 col9\" >status</th>\n",
       "      <th id=\"T_9b7d0_level0_col10\" class=\"col_heading level0 col10\" >state</th>\n",
       "      <th id=\"T_9b7d0_level0_col11\" class=\"col_heading level0 col11\" >counters_location</th>\n",
       "      <th id=\"T_9b7d0_level0_col12\" class=\"col_heading level0 col12\" >last_modified</th>\n",
       "      <th id=\"T_9b7d0_level0_col13\" class=\"col_heading level0 col13\" >current_path</th>\n",
       "      <th id=\"T_9b7d0_level0_col14\" class=\"col_heading level0 col14\" >oxp_service_ids</th>\n",
       "    </tr>\n",
       "  </thead>\n",
       "  <tbody>\n",
       "    <tr>\n",
       "      <td id=\"T_9b7d0_row0_col0\" class=\"data row0 col0\" >029cd862-e9c0-4300-872b-b4bcd856ed2e</td>\n",
       "      <td id=\"T_9b7d0_row0_col1\" class=\"data row0 col1\" >Test SDX SC24 L2VPN</td>\n",
       "      <td id=\"T_9b7d0_row0_col2\" class=\"data row0 col2\" >[{'port_id': 'urn:sdx:port:ampath.net:Ampath2:50', 'vlan': '302'}, {'port_id': 'urn:sdx:port:tenet.ac.za:Tenet02:50', 'vlan': '302'}]</td>\n",
       "      <td id=\"T_9b7d0_row0_col3\" class=\"data row0 col3\" >None</td>\n",
       "      <td id=\"T_9b7d0_row0_col4\" class=\"data row0 col4\" >None</td>\n",
       "      <td id=\"T_9b7d0_row0_col5\" class=\"data row0 col5\" >None</td>\n",
       "      <td id=\"T_9b7d0_row0_col6\" class=\"data row0 col6\" >None</td>\n",
       "      <td id=\"T_9b7d0_row0_col7\" class=\"data row0 col7\" >None</td>\n",
       "      <td id=\"T_9b7d0_row0_col8\" class=\"data row0 col8\" >None</td>\n",
       "      <td id=\"T_9b7d0_row0_col9\" class=\"data row0 col9\" >None</td>\n",
       "      <td id=\"T_9b7d0_row0_col10\" class=\"data row0 col10\" >None</td>\n",
       "      <td id=\"T_9b7d0_row0_col11\" class=\"data row0 col11\" >None</td>\n",
       "      <td id=\"T_9b7d0_row0_col12\" class=\"data row0 col12\" >None</td>\n",
       "      <td id=\"T_9b7d0_row0_col13\" class=\"data row0 col13\" >[{'port_id': 'urn:sdx:port:ampath.net:Ampath2:50', 'vlan': '302'}, {'port_id': 'urn:sdx:port:ampath.net:Ampath2:40', 'vlan': '4095'}, {'port_id': 'urn:sdx:port:sax.net:Sax02:40', 'vlan': '4095'}, {'port_id': 'urn:sdx:port:sax.net:Sax02:41', 'vlan': '4094'}, {'port_id': 'urn:sdx:port:tenet.ac.za:Tenet02:41', 'vlan': '4093'}, {'port_id': 'urn:sdx:port:tenet.ac.za:Tenet02:50', 'vlan': '302'}]</td>\n",
       "      <td id=\"T_9b7d0_row0_col14\" class=\"data row0 col14\" >None</td>\n",
       "    </tr>\n",
       "    <tr>\n",
       "      <td id=\"T_9b7d0_row1_col0\" class=\"data row1 col0\" >0f8fa69c-68e8-48dc-ad0d-a46c1971af2c</td>\n",
       "      <td id=\"T_9b7d0_row1_col1\" class=\"data row1 col1\" >demo 1 -- nni to nni</td>\n",
       "      <td id=\"T_9b7d0_row1_col2\" class=\"data row1 col2\" >[{'port_id': 'urn:sdx:port:ampath.net:Ampath1:40', 'vlan': '4090'}, {'port_id': 'urn:sdx:port:ampath.net:Ampath1:40', 'vlan': '4089'}, {'port_id': 'urn:sdx:port:sax.net:Sax01:40', 'vlan': '4087'}, {'port_id': 'urn:sdx:port:sax.net:Sax01:40', 'vlan': '4086'}]</td>\n",
       "      <td id=\"T_9b7d0_row1_col3\" class=\"data row1 col3\" >None</td>\n",
       "      <td id=\"T_9b7d0_row1_col4\" class=\"data row1 col4\" >None</td>\n",
       "      <td id=\"T_9b7d0_row1_col5\" class=\"data row1 col5\" >None</td>\n",
       "      <td id=\"T_9b7d0_row1_col6\" class=\"data row1 col6\" >None</td>\n",
       "      <td id=\"T_9b7d0_row1_col7\" class=\"data row1 col7\" >None</td>\n",
       "      <td id=\"T_9b7d0_row1_col8\" class=\"data row1 col8\" >None</td>\n",
       "      <td id=\"T_9b7d0_row1_col9\" class=\"data row1 col9\" >None</td>\n",
       "      <td id=\"T_9b7d0_row1_col10\" class=\"data row1 col10\" >None</td>\n",
       "      <td id=\"T_9b7d0_row1_col11\" class=\"data row1 col11\" >None</td>\n",
       "      <td id=\"T_9b7d0_row1_col12\" class=\"data row1 col12\" >None</td>\n",
       "      <td id=\"T_9b7d0_row1_col13\" class=\"data row1 col13\" >[{'port_id': 'urn:sdx:port:ampath.net:Ampath1:40', 'vlan': '4090'}, {'port_id': 'urn:sdx:port:ampath.net:Ampath1:40', 'vlan': '4089'}, {'port_id': 'urn:sdx:port:sax.net:Sax01:40', 'vlan': '4087'}, {'port_id': 'urn:sdx:port:sax.net:Sax01:40', 'vlan': '4086'}]</td>\n",
       "      <td id=\"T_9b7d0_row1_col14\" class=\"data row1 col14\" >None</td>\n",
       "    </tr>\n",
       "    <tr>\n",
       "      <td id=\"T_9b7d0_row2_col0\" class=\"data row2 col0\" >272e6b82-0883-47ea-986e-5c7afea271bb</td>\n",
       "      <td id=\"T_9b7d0_row2_col1\" class=\"data row2 col1\" >demo 1</td>\n",
       "      <td id=\"T_9b7d0_row2_col2\" class=\"data row2 col2\" >[{'port_id': 'urn:sdx:port:ampath.net:Ampath3:50', 'vlan': '4094'}, {'port_id': 'urn:sdx:port:tenet.ac.za:Tenet02:41', 'vlan': '4095'}, {'port_id': 'urn:sdx:port:tenet.ac.za:Tenet02:41', 'vlan': '4094'}]</td>\n",
       "      <td id=\"T_9b7d0_row2_col3\" class=\"data row2 col3\" >None</td>\n",
       "      <td id=\"T_9b7d0_row2_col4\" class=\"data row2 col4\" >None</td>\n",
       "      <td id=\"T_9b7d0_row2_col5\" class=\"data row2 col5\" >None</td>\n",
       "      <td id=\"T_9b7d0_row2_col6\" class=\"data row2 col6\" >None</td>\n",
       "      <td id=\"T_9b7d0_row2_col7\" class=\"data row2 col7\" >None</td>\n",
       "      <td id=\"T_9b7d0_row2_col8\" class=\"data row2 col8\" >None</td>\n",
       "      <td id=\"T_9b7d0_row2_col9\" class=\"data row2 col9\" >None</td>\n",
       "      <td id=\"T_9b7d0_row2_col10\" class=\"data row2 col10\" >None</td>\n",
       "      <td id=\"T_9b7d0_row2_col11\" class=\"data row2 col11\" >None</td>\n",
       "      <td id=\"T_9b7d0_row2_col12\" class=\"data row2 col12\" >None</td>\n",
       "      <td id=\"T_9b7d0_row2_col13\" class=\"data row2 col13\" >[{'port_id': 'urn:sdx:port:ampath.net:Ampath3:50', 'vlan': '4094'}, {'port_id': 'urn:sdx:port:ampath.net:Ampath2:40', 'vlan': '4091'}, {'port_id': 'urn:sdx:port:sax.net:Sax02:40', 'vlan': '4091'}, {'port_id': 'urn:sdx:port:sax.net:Sax02:41', 'vlan': '4095'}, {'port_id': 'urn:sdx:port:tenet.ac.za:Tenet02:41', 'vlan': '4095'}, {'port_id': 'urn:sdx:port:tenet.ac.za:Tenet02:41', 'vlan': '4094'}]</td>\n",
       "      <td id=\"T_9b7d0_row2_col14\" class=\"data row2 col14\" >None</td>\n",
       "    </tr>\n",
       "    <tr>\n",
       "      <td id=\"T_9b7d0_row3_col0\" class=\"data row3 col0\" >4ab7ae01-a8b4-45c6-b7ed-82d9fecd1131</td>\n",
       "      <td id=\"T_9b7d0_row3_col1\" class=\"data row3 col1\" >VLAN between AMPATH/300 and TENET/300</td>\n",
       "      <td id=\"T_9b7d0_row3_col2\" class=\"data row3 col2\" >[{'port_id': 'urn:sdx:port:ampath.net:Ampath3:50', 'vlan': '307'}, {'port_id': 'urn:sdx:port:tenet.ac.za:Tenet03:50', 'vlan': '4095'}]</td>\n",
       "      <td id=\"T_9b7d0_row3_col3\" class=\"data row3 col3\" >None</td>\n",
       "      <td id=\"T_9b7d0_row3_col4\" class=\"data row3 col4\" >None</td>\n",
       "      <td id=\"T_9b7d0_row3_col5\" class=\"data row3 col5\" >None</td>\n",
       "      <td id=\"T_9b7d0_row3_col6\" class=\"data row3 col6\" >None</td>\n",
       "      <td id=\"T_9b7d0_row3_col7\" class=\"data row3 col7\" >None</td>\n",
       "      <td id=\"T_9b7d0_row3_col8\" class=\"data row3 col8\" >None</td>\n",
       "      <td id=\"T_9b7d0_row3_col9\" class=\"data row3 col9\" >None</td>\n",
       "      <td id=\"T_9b7d0_row3_col10\" class=\"data row3 col10\" >None</td>\n",
       "      <td id=\"T_9b7d0_row3_col11\" class=\"data row3 col11\" >None</td>\n",
       "      <td id=\"T_9b7d0_row3_col12\" class=\"data row3 col12\" >None</td>\n",
       "      <td id=\"T_9b7d0_row3_col13\" class=\"data row3 col13\" >[{'port_id': 'urn:sdx:port:ampath.net:Ampath3:50', 'vlan': '307'}, {'port_id': 'urn:sdx:port:ampath.net:Ampath1:40', 'vlan': '4095'}, {'port_id': 'urn:sdx:port:sax.net:Sax01:40', 'vlan': '4095'}, {'port_id': 'urn:sdx:port:sax.net:Sax01:41', 'vlan': '4091'}, {'port_id': 'urn:sdx:port:tenet.ac.za:Tenet01:41', 'vlan': '4091'}, {'port_id': 'urn:sdx:port:tenet.ac.za:Tenet03:50', 'vlan': '4095'}]</td>\n",
       "      <td id=\"T_9b7d0_row3_col14\" class=\"data row3 col14\" >None</td>\n",
       "    </tr>\n",
       "    <tr>\n",
       "      <td id=\"T_9b7d0_row4_col0\" class=\"data row4 col0\" >ba1db993-b1b1-4f25-99bb-57d6cba7c87a</td>\n",
       "      <td id=\"T_9b7d0_row4_col1\" class=\"data row4 col1\" >demo 1</td>\n",
       "      <td id=\"T_9b7d0_row4_col2\" class=\"data row4 col2\" >[{'port_id': 'urn:sdx:port:ampath.net:Ampath3:50', 'vlan': '666'}]</td>\n",
       "      <td id=\"T_9b7d0_row4_col3\" class=\"data row4 col3\" >None</td>\n",
       "      <td id=\"T_9b7d0_row4_col4\" class=\"data row4 col4\" >None</td>\n",
       "      <td id=\"T_9b7d0_row4_col5\" class=\"data row4 col5\" >None</td>\n",
       "      <td id=\"T_9b7d0_row4_col6\" class=\"data row4 col6\" >None</td>\n",
       "      <td id=\"T_9b7d0_row4_col7\" class=\"data row4 col7\" >None</td>\n",
       "      <td id=\"T_9b7d0_row4_col8\" class=\"data row4 col8\" >None</td>\n",
       "      <td id=\"T_9b7d0_row4_col9\" class=\"data row4 col9\" >None</td>\n",
       "      <td id=\"T_9b7d0_row4_col10\" class=\"data row4 col10\" >None</td>\n",
       "      <td id=\"T_9b7d0_row4_col11\" class=\"data row4 col11\" >None</td>\n",
       "      <td id=\"T_9b7d0_row4_col12\" class=\"data row4 col12\" >None</td>\n",
       "      <td id=\"T_9b7d0_row4_col13\" class=\"data row4 col13\" >[{'port_id': 'urn:sdx:port:ampath.net:Ampath3:50', 'vlan': '666'}, {'port_id': 'urn:sdx:port:ampath.net:Ampath1:40', 'vlan': '4092'}, {'port_id': 'urn:sdx:port:sax.net:Sax01:40', 'vlan': '4090'}, {'port_id': 'urn:sdx:port:sax.net:Sax01:40', 'vlan': '4089'}]</td>\n",
       "      <td id=\"T_9b7d0_row4_col14\" class=\"data row4 col14\" >None</td>\n",
       "    </tr>\n",
       "    <tr>\n",
       "      <td id=\"T_9b7d0_row5_col0\" class=\"data row5 col0\" >cc9f077b-3ed1-41ef-a762-d8b992b83638</td>\n",
       "      <td id=\"T_9b7d0_row5_col1\" class=\"data row5 col1\" >demo 1</td>\n",
       "      <td id=\"T_9b7d0_row5_col2\" class=\"data row5 col2\" >[{'port_id': 'urn:sdx:port:ampath.net:Ampath3:50', 'vlan': '4093'}]</td>\n",
       "      <td id=\"T_9b7d0_row5_col3\" class=\"data row5 col3\" >None</td>\n",
       "      <td id=\"T_9b7d0_row5_col4\" class=\"data row5 col4\" >None</td>\n",
       "      <td id=\"T_9b7d0_row5_col5\" class=\"data row5 col5\" >None</td>\n",
       "      <td id=\"T_9b7d0_row5_col6\" class=\"data row5 col6\" >None</td>\n",
       "      <td id=\"T_9b7d0_row5_col7\" class=\"data row5 col7\" >None</td>\n",
       "      <td id=\"T_9b7d0_row5_col8\" class=\"data row5 col8\" >None</td>\n",
       "      <td id=\"T_9b7d0_row5_col9\" class=\"data row5 col9\" >None</td>\n",
       "      <td id=\"T_9b7d0_row5_col10\" class=\"data row5 col10\" >None</td>\n",
       "      <td id=\"T_9b7d0_row5_col11\" class=\"data row5 col11\" >None</td>\n",
       "      <td id=\"T_9b7d0_row5_col12\" class=\"data row5 col12\" >None</td>\n",
       "      <td id=\"T_9b7d0_row5_col13\" class=\"data row5 col13\" >[{'port_id': 'urn:sdx:port:ampath.net:Ampath3:50', 'vlan': '4093'}, {'port_id': 'urn:sdx:port:ampath.net:Ampath1:40', 'vlan': '4093'}, {'port_id': 'urn:sdx:port:sax.net:Sax01:40', 'vlan': '4092'}, {'port_id': 'urn:sdx:port:sax.net:Sax01:40', 'vlan': '4091'}]</td>\n",
       "      <td id=\"T_9b7d0_row5_col14\" class=\"data row5 col14\" >None</td>\n",
       "    </tr>\n",
       "    <tr>\n",
       "      <td id=\"T_9b7d0_row6_col0\" class=\"data row6 col0\" >da5e7cc3-57f6-4e05-b5f4-575be256047a</td>\n",
       "      <td id=\"T_9b7d0_row6_col1\" class=\"data row6 col1\" >demo 1</td>\n",
       "      <td id=\"T_9b7d0_row6_col2\" class=\"data row6 col2\" >[{'port_id': 'urn:sdx:port:ampath.net:Ampath3:50', 'vlan': '1312'}, {'port_id': 'urn:sdx:port:sax.net:Sax02:50', 'vlan': '1312'}]</td>\n",
       "      <td id=\"T_9b7d0_row6_col3\" class=\"data row6 col3\" >None</td>\n",
       "      <td id=\"T_9b7d0_row6_col4\" class=\"data row6 col4\" >None</td>\n",
       "      <td id=\"T_9b7d0_row6_col5\" class=\"data row6 col5\" >None</td>\n",
       "      <td id=\"T_9b7d0_row6_col6\" class=\"data row6 col6\" >None</td>\n",
       "      <td id=\"T_9b7d0_row6_col7\" class=\"data row6 col7\" >None</td>\n",
       "      <td id=\"T_9b7d0_row6_col8\" class=\"data row6 col8\" >None</td>\n",
       "      <td id=\"T_9b7d0_row6_col9\" class=\"data row6 col9\" >None</td>\n",
       "      <td id=\"T_9b7d0_row6_col10\" class=\"data row6 col10\" >None</td>\n",
       "      <td id=\"T_9b7d0_row6_col11\" class=\"data row6 col11\" >None</td>\n",
       "      <td id=\"T_9b7d0_row6_col12\" class=\"data row6 col12\" >None</td>\n",
       "      <td id=\"T_9b7d0_row6_col13\" class=\"data row6 col13\" >[{'port_id': 'urn:sdx:port:ampath.net:Ampath3:50', 'vlan': '1312'}, {'port_id': 'urn:sdx:port:ampath.net:Ampath2:40', 'vlan': '4090'}, {'port_id': 'urn:sdx:port:sax.net:Sax02:40', 'vlan': '4090'}, {'port_id': 'urn:sdx:port:sax.net:Sax02:50', 'vlan': '1312'}]</td>\n",
       "      <td id=\"T_9b7d0_row6_col14\" class=\"data row6 col14\" >None</td>\n",
       "    </tr>\n",
       "    <tr>\n",
       "      <td id=\"T_9b7d0_row7_col0\" class=\"data row7 col0\" >dca2f11f-15b7-46c9-843b-c63fc74bf73e</td>\n",
       "      <td id=\"T_9b7d0_row7_col1\" class=\"data row7 col1\" >demo 1</td>\n",
       "      <td id=\"T_9b7d0_row7_col2\" class=\"data row7 col2\" >[{'port_id': 'urn:sdx:port:ampath.net:Ampath3:50', 'vlan': '4095'}]</td>\n",
       "      <td id=\"T_9b7d0_row7_col3\" class=\"data row7 col3\" >None</td>\n",
       "      <td id=\"T_9b7d0_row7_col4\" class=\"data row7 col4\" >None</td>\n",
       "      <td id=\"T_9b7d0_row7_col5\" class=\"data row7 col5\" >None</td>\n",
       "      <td id=\"T_9b7d0_row7_col6\" class=\"data row7 col6\" >None</td>\n",
       "      <td id=\"T_9b7d0_row7_col7\" class=\"data row7 col7\" >None</td>\n",
       "      <td id=\"T_9b7d0_row7_col8\" class=\"data row7 col8\" >None</td>\n",
       "      <td id=\"T_9b7d0_row7_col9\" class=\"data row7 col9\" >None</td>\n",
       "      <td id=\"T_9b7d0_row7_col10\" class=\"data row7 col10\" >None</td>\n",
       "      <td id=\"T_9b7d0_row7_col11\" class=\"data row7 col11\" >None</td>\n",
       "      <td id=\"T_9b7d0_row7_col12\" class=\"data row7 col12\" >None</td>\n",
       "      <td id=\"T_9b7d0_row7_col13\" class=\"data row7 col13\" >[{'port_id': 'urn:sdx:port:ampath.net:Ampath3:50', 'vlan': '4095'}, {'port_id': 'urn:sdx:port:ampath.net:Ampath1:40', 'vlan': '4094'}, {'port_id': 'urn:sdx:port:sax.net:Sax01:40', 'vlan': '4094'}, {'port_id': 'urn:sdx:port:sax.net:Sax01:40', 'vlan': '4093'}]</td>\n",
       "      <td id=\"T_9b7d0_row7_col14\" class=\"data row7 col14\" >None</td>\n",
       "    </tr>\n",
       "    <tr>\n",
       "      <td id=\"T_9b7d0_row8_col0\" class=\"data row8 col0\" >feacaae7-f116-4594-8060-a530f3640d8b</td>\n",
       "      <td id=\"T_9b7d0_row8_col1\" class=\"data row8 col1\" >demo 1</td>\n",
       "      <td id=\"T_9b7d0_row8_col2\" class=\"data row8 col2\" >[{'port_id': 'urn:sdx:port:ampath.net:Ampath3:50', 'vlan': '1313'}, {'port_id': 'urn:sdx:port:sax.net:Sax01:50', 'vlan': '1313'}]</td>\n",
       "      <td id=\"T_9b7d0_row8_col3\" class=\"data row8 col3\" >None</td>\n",
       "      <td id=\"T_9b7d0_row8_col4\" class=\"data row8 col4\" >None</td>\n",
       "      <td id=\"T_9b7d0_row8_col5\" class=\"data row8 col5\" >None</td>\n",
       "      <td id=\"T_9b7d0_row8_col6\" class=\"data row8 col6\" >None</td>\n",
       "      <td id=\"T_9b7d0_row8_col7\" class=\"data row8 col7\" >None</td>\n",
       "      <td id=\"T_9b7d0_row8_col8\" class=\"data row8 col8\" >None</td>\n",
       "      <td id=\"T_9b7d0_row8_col9\" class=\"data row8 col9\" >None</td>\n",
       "      <td id=\"T_9b7d0_row8_col10\" class=\"data row8 col10\" >None</td>\n",
       "      <td id=\"T_9b7d0_row8_col11\" class=\"data row8 col11\" >None</td>\n",
       "      <td id=\"T_9b7d0_row8_col12\" class=\"data row8 col12\" >None</td>\n",
       "      <td id=\"T_9b7d0_row8_col13\" class=\"data row8 col13\" >[{'port_id': 'urn:sdx:port:ampath.net:Ampath3:50', 'vlan': '1313'}, {'port_id': 'urn:sdx:port:ampath.net:Ampath1:40', 'vlan': '4091'}, {'port_id': 'urn:sdx:port:sax.net:Sax01:40', 'vlan': '4088'}, {'port_id': 'urn:sdx:port:sax.net:Sax01:50', 'vlan': '1313'}]</td>\n",
       "      <td id=\"T_9b7d0_row8_col14\" class=\"data row8 col14\" >None</td>\n",
       "    </tr>\n",
       "  </tbody>\n",
       "</table>\n"
      ],
      "text/plain": [
       "<pandas.io.formats.style.Styler at 0x7bf2a933f550>"
      ]
     },
     "execution_count": 7,
     "metadata": {},
     "output_type": "execute_result"
    }
   ],
   "source": [
    "l2vpn_data = client.get_all_l2vpns()\n",
    "\n",
    "node_info_list = []\n",
    "\n",
    "for service_id, service_details in l2vpn_data.items():\n",
    "    service_dict = {}\n",
    "    for key, value in service_details.items():\n",
    "        service_dict[key] = value\n",
    "    node_info_list.append(service_dict)\n",
    "\n",
    "df = pd.DataFrame(node_info_list)\n",
    "df.style.hide(axis=\"index\")"
   ]
  },
  {
   "cell_type": "code",
   "execution_count": 12,
   "metadata": {},
   "outputs": [
    {
     "data": {
      "text/html": [
       "<style type=\"text/css\">\n",
       "</style>\n",
       "<table id=\"T_445f4\">\n",
       "  <thead>\n",
       "    <tr>\n",
       "      <th id=\"T_445f4_level0_col0\" class=\"col_heading level0 col0\" >service_id</th>\n",
       "      <th id=\"T_445f4_level0_col1\" class=\"col_heading level0 col1\" >name</th>\n",
       "      <th id=\"T_445f4_level0_col2\" class=\"col_heading level0 col2\" >endpoints</th>\n",
       "      <th id=\"T_445f4_level0_col3\" class=\"col_heading level0 col3\" >description</th>\n",
       "      <th id=\"T_445f4_level0_col4\" class=\"col_heading level0 col4\" >qos_metrics</th>\n",
       "      <th id=\"T_445f4_level0_col5\" class=\"col_heading level0 col5\" >notifications</th>\n",
       "      <th id=\"T_445f4_level0_col6\" class=\"col_heading level0 col6\" >ownership</th>\n",
       "      <th id=\"T_445f4_level0_col7\" class=\"col_heading level0 col7\" >creation_date</th>\n",
       "      <th id=\"T_445f4_level0_col8\" class=\"col_heading level0 col8\" >archived_date</th>\n",
       "      <th id=\"T_445f4_level0_col9\" class=\"col_heading level0 col9\" >status</th>\n",
       "      <th id=\"T_445f4_level0_col10\" class=\"col_heading level0 col10\" >state</th>\n",
       "      <th id=\"T_445f4_level0_col11\" class=\"col_heading level0 col11\" >counters_location</th>\n",
       "      <th id=\"T_445f4_level0_col12\" class=\"col_heading level0 col12\" >last_modified</th>\n",
       "      <th id=\"T_445f4_level0_col13\" class=\"col_heading level0 col13\" >current_path</th>\n",
       "      <th id=\"T_445f4_level0_col14\" class=\"col_heading level0 col14\" >oxp_service_ids</th>\n",
       "    </tr>\n",
       "  </thead>\n",
       "  <tbody>\n",
       "    <tr>\n",
       "      <td id=\"T_445f4_row0_col0\" class=\"data row0 col0\" >feacaae7-f116-4594-8060-a530f3640d8b</td>\n",
       "      <td id=\"T_445f4_row0_col1\" class=\"data row0 col1\" >demo 1</td>\n",
       "      <td id=\"T_445f4_row0_col2\" class=\"data row0 col2\" >[{'port_id': 'urn:sdx:port:ampath.net:Ampath3:50', 'vlan': '1313'}, {'port_id': 'urn:sdx:port:sax.net:Sax01:50', 'vlan': '1313'}]</td>\n",
       "      <td id=\"T_445f4_row0_col3\" class=\"data row0 col3\" >None</td>\n",
       "      <td id=\"T_445f4_row0_col4\" class=\"data row0 col4\" >None</td>\n",
       "      <td id=\"T_445f4_row0_col5\" class=\"data row0 col5\" >None</td>\n",
       "      <td id=\"T_445f4_row0_col6\" class=\"data row0 col6\" >None</td>\n",
       "      <td id=\"T_445f4_row0_col7\" class=\"data row0 col7\" >None</td>\n",
       "      <td id=\"T_445f4_row0_col8\" class=\"data row0 col8\" >None</td>\n",
       "      <td id=\"T_445f4_row0_col9\" class=\"data row0 col9\" >None</td>\n",
       "      <td id=\"T_445f4_row0_col10\" class=\"data row0 col10\" >None</td>\n",
       "      <td id=\"T_445f4_row0_col11\" class=\"data row0 col11\" >None</td>\n",
       "      <td id=\"T_445f4_row0_col12\" class=\"data row0 col12\" >None</td>\n",
       "      <td id=\"T_445f4_row0_col13\" class=\"data row0 col13\" >[{'port_id': 'urn:sdx:port:ampath.net:Ampath3:50', 'vlan': '1313'}, {'port_id': 'urn:sdx:port:ampath.net:Ampath1:40', 'vlan': '4091'}, {'port_id': 'urn:sdx:port:sax.net:Sax01:40', 'vlan': '4088'}, {'port_id': 'urn:sdx:port:sax.net:Sax01:50', 'vlan': '1313'}]</td>\n",
       "      <td id=\"T_445f4_row0_col14\" class=\"data row0 col14\" >None</td>\n",
       "    </tr>\n",
       "  </tbody>\n",
       "</table>\n"
      ],
      "text/plain": [
       "<pandas.io.formats.style.Styler at 0x7bf2dc291250>"
      ]
     },
     "execution_count": 12,
     "metadata": {},
     "output_type": "execute_result"
    }
   ],
   "source": [
    "l2vpn_data = client.get_l2vpn(service_id='feacaae7-f116-4594-8060-a530f3640d8b')\n",
    "\n",
    "node_info_list = []\n",
    "\n",
    "for service_id, service_details in l2vpn_data.items():\n",
    "    service_dict = {}\n",
    "    for key, value in service_details.items():\n",
    "        service_dict[key] = value\n",
    "    node_info_list.append(service_dict)\n",
    "\n",
    "df = pd.DataFrame(node_info_list)\n",
    "df.style.hide(axis=\"index\")"
   ]
  },
  {
   "cell_type": "code",
   "execution_count": 13,
   "metadata": {},
   "outputs": [],
   "source": [
    "delete_list = []\n",
    "for service_id,item in l2vpn_data.items():\n",
    "    if item['name'] == \"Test SDX SC24 L2VPN\":\n",
    "        print(service_id)\n",
    "        print(item['name'])\n",
    "        delete_list.append(service_id)"
   ]
  },
  {
   "cell_type": "code",
   "execution_count": 14,
   "metadata": {},
   "outputs": [],
   "source": [
    "for client.service_id in delete_list:\n",
    "    print (client.service_id)\n",
    "    client.delete_l2vpn(service_id = client.service_id)"
   ]
  },
  {
   "cell_type": "code",
   "execution_count": 33,
   "metadata": {},
   "outputs": [],
   "source": [
    "# This one should pass"
   ]
  },
  {
   "cell_type": "code",
   "execution_count": 34,
   "metadata": {},
   "outputs": [
    {
     "name": "stdout",
     "output_type": "stream",
     "text": [
      "PING 192.168.1.10 (192.168.1.10) 56(84) bytes of data.\n",
      "From 192.168.1.101 icmp_seq=1 Destination Host Unreachable\n",
      "From 192.168.1.101 icmp_seq=2 Destination Host Unreachable\n",
      "From 192.168.1.101 icmp_seq=3 Destination Host Unreachable\n",
      "From 192.168.1.101 icmp_seq=4 Destination Host Unreachable\n",
      "From 192.168.1.101 icmp_seq=5 Destination Host Unreachable\n",
      "\n",
      "--- 192.168.1.10 ping statistics ---\n",
      "5 packets transmitted, 0 received, +5 errors, 100% packet loss, time 4074ms\n",
      "pipe 3\n"
     ]
    }
   ],
   "source": [
    "stdout, stderr = node1.execute(f'ping -c 5 192.168.1.10')"
   ]
  },
  {
   "cell_type": "code",
   "execution_count": null,
   "metadata": {},
   "outputs": [],
   "source": []
  },
  {
   "cell_type": "code",
   "execution_count": null,
   "metadata": {},
   "outputs": [],
   "source": []
  },
  {
   "cell_type": "code",
   "execution_count": null,
   "metadata": {},
   "outputs": [],
   "source": []
  },
  {
   "cell_type": "markdown",
   "metadata": {
    "tags": []
   },
   "source": [
    "## Delete the Slice\n",
    "\n",
    "Please delete your slice when you are done with your experiment."
   ]
  },
  {
   "cell_type": "code",
   "execution_count": 35,
   "metadata": {
    "tags": []
   },
   "outputs": [],
   "source": [
    "slice.delete()"
   ]
  },
  {
   "cell_type": "code",
   "execution_count": null,
   "metadata": {},
   "outputs": [],
   "source": []
  }
 ],
 "metadata": {
  "kernelspec": {
   "display_name": "Python 3 (ipykernel)",
   "language": "python",
   "name": "python3"
  },
  "language_info": {
   "codemirror_mode": {
    "name": "ipython",
    "version": 3
   },
   "file_extension": ".py",
   "mimetype": "text/x-python",
   "name": "python",
   "nbconvert_exporter": "python",
   "pygments_lexer": "ipython3",
   "version": "3.11.8"
  }
 },
 "nbformat": 4,
 "nbformat_minor": 4
}
