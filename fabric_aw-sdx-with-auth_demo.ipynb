{
 "cells": [
  {
   "cell_type": "markdown",
   "metadata": {
    "tags": []
   },
   "source": [
    "# AtlanticWave SDX Cross-Domain Orchestration and Provisioning for Facilities and R&E Networks user interfaces with the SDXLib in Fabric Jupyter Notebook\n",
    "\n",
    "\n",
    "\n"
   ]
  },
  {
   "cell_type": "markdown",
   "metadata": {},
   "source": [
    "# FABRIC users authentication using CILogon\n",
    "\n",
    "This Jupyter notebook will walk you through implementing authentication using Fabric CILogon to pass JSON authentication to SDX project. The \"FABRIC users authentication using CILogon\" experiment tests the configuration of your environment to ensure you can create and access resources on FABRIC.  Specifically, the experiment deploys a slice of resources with a single virtual machine and confirms you can log into the virtual machine using FABLib methods.\n",
    "\n",
    "## Configure the Environment\n",
    "\n",
    "Before running this notebook, you will need to configure your environment using the [Configure Environment](../../../configure_and_validate.ipynb) notebook. Please stop here, open and run that notebook, then return to this notebook.\n",
    "\n",
    "If you are using the FABRIC JupyterHub many of the environment variables will be automatically configured for you.  You will still need to set your bastion username, upload your bastion private key, and set the path to where you put your bastion private key. Your bastion username and private key should already be in your possession.  \n",
    "\n",
    "If you are using the FABRIC API outside of the JupyterHub you will need to configure all of the environment variables. Defaults below will be correct in many situations but you will need to confirm your configuration.  If you have questions about this configuration, please contact the FABRIC admins using the [FABRIC User Forum](https://learn.fabric-testbed.net/forums/) \n",
    "\n",
    "More information about accessing your experiments through the FABRIC bastion hosts can be found [here](https://learn.fabric-testbed.net/knowledge-base/logging-into-fabric-vms/).\n"
   ]
  },
  {
   "cell_type": "markdown",
   "metadata": {},
   "source": [
    "## Import the FABlib Library"
   ]
  },
  {
   "cell_type": "code",
   "execution_count": 1,
   "metadata": {},
   "outputs": [
    {
     "data": {
      "text/html": [
       "<style type=\"text/css\">\n",
       "#T_b9c23 tr:nth-child(even) {\n",
       "  background: #dbf3ff;\n",
       "  color: #231f20;\n",
       "}\n",
       "#T_b9c23 tr:nth-child(odd) {\n",
       "  background: #ffffff;\n",
       "  color: #231f20;\n",
       "}\n",
       "#T_b9c23 caption {\n",
       "  text-align: center;\n",
       "  font-size: 150%;\n",
       "}\n",
       "#T_b9c23_row0_col0, #T_b9c23_row0_col1, #T_b9c23_row1_col0, #T_b9c23_row1_col1, #T_b9c23_row2_col0, #T_b9c23_row2_col1, #T_b9c23_row3_col0, #T_b9c23_row3_col1, #T_b9c23_row4_col0, #T_b9c23_row4_col1, #T_b9c23_row5_col0, #T_b9c23_row5_col1, #T_b9c23_row6_col0, #T_b9c23_row6_col1, #T_b9c23_row7_col0, #T_b9c23_row7_col1, #T_b9c23_row8_col0, #T_b9c23_row8_col1, #T_b9c23_row9_col0, #T_b9c23_row9_col1, #T_b9c23_row10_col0, #T_b9c23_row10_col1, #T_b9c23_row11_col0, #T_b9c23_row11_col1, #T_b9c23_row12_col0, #T_b9c23_row12_col1, #T_b9c23_row13_col0, #T_b9c23_row13_col1, #T_b9c23_row14_col0, #T_b9c23_row14_col1, #T_b9c23_row15_col0, #T_b9c23_row15_col1, #T_b9c23_row16_col0, #T_b9c23_row16_col1, #T_b9c23_row17_col0, #T_b9c23_row17_col1, #T_b9c23_row18_col0, #T_b9c23_row18_col1 {\n",
       "  text-align: left;\n",
       "  border: 1px #231f20 solid !important;\n",
       "  overwrite: False;\n",
       "}\n",
       "</style>\n",
       "<table id=\"T_b9c23\">\n",
       "  <caption>FABlib Config</caption>\n",
       "  <thead>\n",
       "  </thead>\n",
       "  <tbody>\n",
       "    <tr>\n",
       "      <td id=\"T_b9c23_row0_col0\" class=\"data row0 col0\" >Orchestrator</td>\n",
       "      <td id=\"T_b9c23_row0_col1\" class=\"data row0 col1\" >orchestrator.fabric-testbed.net</td>\n",
       "    </tr>\n",
       "    <tr>\n",
       "      <td id=\"T_b9c23_row1_col0\" class=\"data row1 col0\" >Credential Manager</td>\n",
       "      <td id=\"T_b9c23_row1_col1\" class=\"data row1 col1\" >cm.fabric-testbed.net</td>\n",
       "    </tr>\n",
       "    <tr>\n",
       "      <td id=\"T_b9c23_row2_col0\" class=\"data row2 col0\" >Core API</td>\n",
       "      <td id=\"T_b9c23_row2_col1\" class=\"data row2 col1\" >uis.fabric-testbed.net</td>\n",
       "    </tr>\n",
       "    <tr>\n",
       "      <td id=\"T_b9c23_row3_col0\" class=\"data row3 col0\" >Artifact Manager</td>\n",
       "      <td id=\"T_b9c23_row3_col1\" class=\"data row3 col1\" >artifacts.fabric-testbed.net</td>\n",
       "    </tr>\n",
       "    <tr>\n",
       "      <td id=\"T_b9c23_row4_col0\" class=\"data row4 col0\" >Token File</td>\n",
       "      <td id=\"T_b9c23_row4_col1\" class=\"data row4 col1\" >/home/fabric/.tokens.json</td>\n",
       "    </tr>\n",
       "    <tr>\n",
       "      <td id=\"T_b9c23_row5_col0\" class=\"data row5 col0\" >Project ID</td>\n",
       "      <td id=\"T_b9c23_row5_col1\" class=\"data row5 col1\" >1ecd9d6a-7701-40fa-b78e-b2293c9526ed</td>\n",
       "    </tr>\n",
       "    <tr>\n",
       "      <td id=\"T_b9c23_row6_col0\" class=\"data row6 col0\" >Bastion Host</td>\n",
       "      <td id=\"T_b9c23_row6_col1\" class=\"data row6 col1\" >bastion-1.fabric-testbed.net</td>\n",
       "    </tr>\n",
       "    <tr>\n",
       "      <td id=\"T_b9c23_row7_col0\" class=\"data row7 col0\" >Bastion Username</td>\n",
       "      <td id=\"T_b9c23_row7_col1\" class=\"data row7 col1\" >lmarinve_0000011754</td>\n",
       "    </tr>\n",
       "    <tr>\n",
       "      <td id=\"T_b9c23_row8_col0\" class=\"data row8 col0\" >Bastion Private Key File</td>\n",
       "      <td id=\"T_b9c23_row8_col1\" class=\"data row8 col1\" >/home/fabric/work/fabric_config/newonekey</td>\n",
       "    </tr>\n",
       "    <tr>\n",
       "      <td id=\"T_b9c23_row9_col0\" class=\"data row9 col0\" >Slice Public Key File</td>\n",
       "      <td id=\"T_b9c23_row9_col1\" class=\"data row9 col1\" >/home/fabric/work/fabric_config/silverkey.pub</td>\n",
       "    </tr>\n",
       "    <tr>\n",
       "      <td id=\"T_b9c23_row10_col0\" class=\"data row10 col0\" >Slice Private Key File</td>\n",
       "      <td id=\"T_b9c23_row10_col1\" class=\"data row10 col1\" >/home/fabric/work/fabric_config/silverkey</td>\n",
       "    </tr>\n",
       "    <tr>\n",
       "      <td id=\"T_b9c23_row11_col0\" class=\"data row11 col0\" >Sites to avoid</td>\n",
       "      <td id=\"T_b9c23_row11_col1\" class=\"data row11 col1\" ></td>\n",
       "    </tr>\n",
       "    <tr>\n",
       "      <td id=\"T_b9c23_row12_col0\" class=\"data row12 col0\" >SSH Command Line</td>\n",
       "      <td id=\"T_b9c23_row12_col1\" class=\"data row12 col1\" >ssh -i {{ _self_.private_ssh_key_file }} -F /home/fabric/work/fabric_config/ssh_config {{ _self_.username }}@{{ _self_.management_ip }}</td>\n",
       "    </tr>\n",
       "    <tr>\n",
       "      <td id=\"T_b9c23_row13_col0\" class=\"data row13 col0\" >Log Level</td>\n",
       "      <td id=\"T_b9c23_row13_col1\" class=\"data row13 col1\" >INFO</td>\n",
       "    </tr>\n",
       "    <tr>\n",
       "      <td id=\"T_b9c23_row14_col0\" class=\"data row14 col0\" >Log File</td>\n",
       "      <td id=\"T_b9c23_row14_col1\" class=\"data row14 col1\" >/tmp/fablib/fablib.log</td>\n",
       "    </tr>\n",
       "    <tr>\n",
       "      <td id=\"T_b9c23_row15_col0\" class=\"data row15 col0\" >Bastion SSH Config File</td>\n",
       "      <td id=\"T_b9c23_row15_col1\" class=\"data row15 col1\" >/home/fabric/work/fabric_config/ssh_config</td>\n",
       "    </tr>\n",
       "    <tr>\n",
       "      <td id=\"T_b9c23_row16_col0\" class=\"data row16 col0\" >Version</td>\n",
       "      <td id=\"T_b9c23_row16_col1\" class=\"data row16 col1\" >1.8.2</td>\n",
       "    </tr>\n",
       "    <tr>\n",
       "      <td id=\"T_b9c23_row17_col0\" class=\"data row17 col0\" >Data directory</td>\n",
       "      <td id=\"T_b9c23_row17_col1\" class=\"data row17 col1\" >/tmp/fablib</td>\n",
       "    </tr>\n",
       "    <tr>\n",
       "      <td id=\"T_b9c23_row18_col0\" class=\"data row18 col0\" >Project Name</td>\n",
       "      <td id=\"T_b9c23_row18_col1\" class=\"data row18 col1\" >AtlanticWave-SDX</td>\n",
       "    </tr>\n",
       "  </tbody>\n",
       "</table>\n"
      ],
      "text/plain": [
       "<pandas.io.formats.style.Styler at 0x7fa6487d6510>"
      ]
     },
     "metadata": {},
     "output_type": "display_data"
    }
   ],
   "source": [
    "from fabrictestbed_extensions.fablib.fablib import FablibManager as fablib_manager\n",
    "\n",
    "fablib = fablib_manager()\n",
    "\n",
    "fablib.show_config();"
   ]
  },
  {
   "cell_type": "markdown",
   "metadata": {},
   "source": [
    "## Create the Experiment Slice\n",
    "\n",
    "The following creates a single node with basic compute capabilities. You build a slice by creating a new slice and adding resources to the slice. After you build the slice, you must submit a request for the slice to be instantiated.   \n",
    "\n",
    "By default, the submit function will block until the node is ready and will display the progress of your slice being built."
   ]
  },
  {
   "cell_type": "code",
   "execution_count": 2,
   "metadata": {},
   "outputs": [],
   "source": [
    "slice_name = \"Slice-AWSDX\"\n",
    "\n",
    "facility_port_site='FIU'"
   ]
  },
  {
   "cell_type": "markdown",
   "metadata": {},
   "source": [
    "### Facility port info"
   ]
  },
  {
   "cell_type": "markdown",
   "metadata": {},
   "source": [
    "#### Find the facility ports on the site\n",
    "List the facility ports\n",
    "- Facility Port Name\n",
    "- Available VLAN range\n",
    "- Currently allocated VLAN range"
   ]
  },
  {
   "cell_type": "code",
   "execution_count": 3,
   "metadata": {},
   "outputs": [
    {
     "data": {
      "text/html": [
       "<style type=\"text/css\">\n",
       "#T_8b090 caption {\n",
       "  text-align: center;\n",
       "  font-size: 150%;\n",
       "  caption-side: top;\n",
       "}\n",
       "#T_8b090 th {\n",
       "  text-align: left;\n",
       "}\n",
       "#T_8b090 tr:nth-child(even) {\n",
       "  background: #ffffff;\n",
       "  color: #231f20;\n",
       "}\n",
       "#T_8b090 tr:nth-child(odd) {\n",
       "  background: #dbf3ff;\n",
       "  color: #231f20;\n",
       "}\n",
       "#T_8b090 .level0 {\n",
       "  border: 1px black solid !important;\n",
       "  background: #ffffff;\n",
       "  color: #231f20;\n",
       "}\n",
       "#T_8b090_row0_col0, #T_8b090_row0_col1, #T_8b090_row0_col2, #T_8b090_row0_col3, #T_8b090_row0_col4, #T_8b090_row0_col5, #T_8b090_row0_col6, #T_8b090_row0_col7, #T_8b090_row1_col0, #T_8b090_row1_col1, #T_8b090_row1_col2, #T_8b090_row1_col3, #T_8b090_row1_col4, #T_8b090_row1_col5, #T_8b090_row1_col6, #T_8b090_row1_col7 {\n",
       "  text-align: left;\n",
       "  border: 1px #231f20 solid !important;\n",
       "  overwrite: False;\n",
       "}\n",
       "</style>\n",
       "<table id=\"T_8b090\">\n",
       "  <caption>Facility Ports</caption>\n",
       "  <thead>\n",
       "    <tr>\n",
       "      <th id=\"T_8b090_level0_col0\" class=\"col_heading level0 col0\" >Name</th>\n",
       "      <th id=\"T_8b090_level0_col1\" class=\"col_heading level0 col1\" >Site</th>\n",
       "      <th id=\"T_8b090_level0_col2\" class=\"col_heading level0 col2\" >Interface Name</th>\n",
       "      <th id=\"T_8b090_level0_col3\" class=\"col_heading level0 col3\" >VLAN Range</th>\n",
       "      <th id=\"T_8b090_level0_col4\" class=\"col_heading level0 col4\" >Allocated VLAN Range</th>\n",
       "      <th id=\"T_8b090_level0_col5\" class=\"col_heading level0 col5\" >Local Name</th>\n",
       "      <th id=\"T_8b090_level0_col6\" class=\"col_heading level0 col6\" >Device Name</th>\n",
       "      <th id=\"T_8b090_level0_col7\" class=\"col_heading level0 col7\" >Region</th>\n",
       "    </tr>\n",
       "  </thead>\n",
       "  <tbody>\n",
       "    <tr>\n",
       "      <td id=\"T_8b090_row0_col0\" class=\"data row0 col0\" >AmLight-EXP-Layer2-FIU</td>\n",
       "      <td id=\"T_8b090_row0_col1\" class=\"data row0 col1\" >FIU</td>\n",
       "      <td id=\"T_8b090_row0_col2\" class=\"data row0 col2\" >port+fiu-data-sw:HundredGigE0/0/0/23:facility+AmLight-EXP-Layer2-FIU-int</td>\n",
       "      <td id=\"T_8b090_row0_col3\" class=\"data row0 col3\" >['4000-4019']</td>\n",
       "      <td id=\"T_8b090_row0_col4\" class=\"data row0 col4\" >['4015']</td>\n",
       "      <td id=\"T_8b090_row0_col5\" class=\"data row0 col5\" >HundredGigE0/0/0/23</td>\n",
       "      <td id=\"T_8b090_row0_col6\" class=\"data row0 col6\" >N/A</td>\n",
       "      <td id=\"T_8b090_row0_col7\" class=\"data row0 col7\" >N/A</td>\n",
       "    </tr>\n",
       "    <tr>\n",
       "      <td id=\"T_8b090_row1_col0\" class=\"data row1 col0\" >AmLight-Layer3-FIU</td>\n",
       "      <td id=\"T_8b090_row1_col1\" class=\"data row1 col1\" >FIU</td>\n",
       "      <td id=\"T_8b090_row1_col2\" class=\"data row1 col2\" >port+fiu-data-sw:HundredGigE0/0/0/23:facility+AmLight-Layer3-FIU-int</td>\n",
       "      <td id=\"T_8b090_row1_col3\" class=\"data row1 col3\" >['3001-3008']</td>\n",
       "      <td id=\"T_8b090_row1_col4\" class=\"data row1 col4\" >N/A</td>\n",
       "      <td id=\"T_8b090_row1_col5\" class=\"data row1 col5\" >HundredGigE0/0/0/23</td>\n",
       "      <td id=\"T_8b090_row1_col6\" class=\"data row1 col6\" >N/A</td>\n",
       "      <td id=\"T_8b090_row1_col7\" class=\"data row1 col7\" >N/A</td>\n",
       "    </tr>\n",
       "  </tbody>\n",
       "</table>\n"
      ],
      "text/plain": [
       "<pandas.io.formats.style.Styler at 0x7fa64738e910>"
      ]
     },
     "metadata": {},
     "output_type": "display_data"
    }
   ],
   "source": [
    "cell_output = 'pandas'\n",
    "output_list = fablib.list_facility_ports(filter_function=lambda x: x['site_name'] == facility_port_site, output=cell_output)"
   ]
  },
  {
   "cell_type": "markdown",
   "metadata": {},
   "source": [
    "#### Select the Facility Port on the site"
   ]
  },
  {
   "cell_type": "code",
   "execution_count": 4,
   "metadata": {},
   "outputs": [],
   "source": [
    "facility_port_name = 'AmLight-EXP-Layer2-FIU'\n",
    "\n",
    "facility_port_vlan='4015'"
   ]
  },
  {
   "cell_type": "markdown",
   "metadata": {},
   "source": [
    "### Create Slice"
   ]
  },
  {
   "cell_type": "code",
   "execution_count": 5,
   "metadata": {
    "tags": []
   },
   "outputs": [],
   "source": [
    "slice = fablib.new_slice(name=slice_name)\n",
    "\n",
    "# Example: One VM on FABRIC-STAR with a NIC - sharedNIC (basic) or dedicated smartNIC (ConnectX_6)\n",
    "node = slice.add_node(name=f\"Node1\", site='STAR')\n",
    "\n",
    "node_iface = node.add_component(model='NIC_Basic', name=\"nic1\").get_interfaces()[0]"
   ]
  },
  {
   "cell_type": "markdown",
   "metadata": {},
   "source": [
    "# Add facility port to the network service configuration along with the node interface(s)"
   ]
  },
  {
   "cell_type": "code",
   "execution_count": 6,
   "metadata": {},
   "outputs": [],
   "source": [
    "facility_port = slice.add_facility_port(name=facility_port_name, site=facility_port_site, vlan=facility_port_vlan)\n",
    "facility_port_interface =facility_port.get_interfaces()[0]\n",
    "\n",
    "net = slice.add_l2network(name=f'net_facility_port', interfaces=[])\n",
    "net.add_interface(node_iface)\n",
    "net.add_interface(facility_port_interface)"
   ]
  },
  {
   "cell_type": "markdown",
   "metadata": {},
   "source": [
    "# Print Facility port Info"
   ]
  },
  {
   "cell_type": "code",
   "execution_count": 7,
   "metadata": {},
   "outputs": [
    {
     "name": "stdout",
     "output_type": "stream",
     "text": [
      "facility_port.get_site(): FIU\n",
      "facility_port.get_fim_interface(): {'node_id': '7df901b0-b59e-4596-b1ec-73092f754528', 'name': 'AmLight-EXP-Layer2-FIU', 'site': 'FIU', 'type': 'Facility'}\n"
     ]
    }
   ],
   "source": [
    "print(f\"facility_port.get_site(): {facility_port.get_site()}\")\n",
    "print(f\"facility_port.get_fim_interface(): {facility_port.get_fim_interface()}\")"
   ]
  },
  {
   "cell_type": "markdown",
   "metadata": {},
   "source": [
    "## Observe the Slice's Attributes\n"
   ]
  },
  {
   "cell_type": "code",
   "execution_count": 8,
   "metadata": {},
   "outputs": [],
   "source": [
    "slice = fablib.get_slice(slice_name)"
   ]
  },
  {
   "cell_type": "code",
   "execution_count": 9,
   "metadata": {
    "tags": []
   },
   "outputs": [
    {
     "data": {
      "text/html": [
       "<style type=\"text/css\">\n",
       "#T_849e3 tr:nth-child(even) {\n",
       "  background: #dbf3ff;\n",
       "  color: #231f20;\n",
       "}\n",
       "#T_849e3 tr:nth-child(odd) {\n",
       "  background: #ffffff;\n",
       "  color: #231f20;\n",
       "}\n",
       "#T_849e3 caption {\n",
       "  text-align: center;\n",
       "  font-size: 150%;\n",
       "}\n",
       "#T_849e3_row0_col0, #T_849e3_row0_col1, #T_849e3_row1_col0, #T_849e3_row1_col1, #T_849e3_row2_col0, #T_849e3_row2_col1, #T_849e3_row3_col0, #T_849e3_row3_col1, #T_849e3_row4_col0, #T_849e3_row4_col1, #T_849e3_row5_col0, #T_849e3_row5_col1 {\n",
       "  text-align: left;\n",
       "  border: 1px #231f20 solid !important;\n",
       "  overwrite: False;\n",
       "}\n",
       "</style>\n",
       "<table id=\"T_849e3\">\n",
       "  <caption>Slice</caption>\n",
       "  <thead>\n",
       "  </thead>\n",
       "  <tbody>\n",
       "    <tr>\n",
       "      <td id=\"T_849e3_row0_col0\" class=\"data row0 col0\" >ID</td>\n",
       "      <td id=\"T_849e3_row0_col1\" class=\"data row0 col1\" >9cdbea32-cb32-4c3e-b810-1270df1fec42</td>\n",
       "    </tr>\n",
       "    <tr>\n",
       "      <td id=\"T_849e3_row1_col0\" class=\"data row1 col0\" >Name</td>\n",
       "      <td id=\"T_849e3_row1_col1\" class=\"data row1 col1\" >Slice-AWSDX</td>\n",
       "    </tr>\n",
       "    <tr>\n",
       "      <td id=\"T_849e3_row2_col0\" class=\"data row2 col0\" >Lease Expiration (UTC)</td>\n",
       "      <td id=\"T_849e3_row2_col1\" class=\"data row2 col1\" >2025-03-06 05:09:00 +0000</td>\n",
       "    </tr>\n",
       "    <tr>\n",
       "      <td id=\"T_849e3_row3_col0\" class=\"data row3 col0\" >Lease Start (UTC)</td>\n",
       "      <td id=\"T_849e3_row3_col1\" class=\"data row3 col1\" >2025-02-26 05:09:00 +0000</td>\n",
       "    </tr>\n",
       "    <tr>\n",
       "      <td id=\"T_849e3_row4_col0\" class=\"data row4 col0\" >Project ID</td>\n",
       "      <td id=\"T_849e3_row4_col1\" class=\"data row4 col1\" >1ecd9d6a-7701-40fa-b78e-b2293c9526ed</td>\n",
       "    </tr>\n",
       "    <tr>\n",
       "      <td id=\"T_849e3_row5_col0\" class=\"data row5 col0\" >State</td>\n",
       "      <td id=\"T_849e3_row5_col1\" class=\"data row5 col1\" >StableOK</td>\n",
       "    </tr>\n",
       "  </tbody>\n",
       "</table>\n"
      ],
      "text/plain": [
       "<pandas.io.formats.style.Styler at 0x7fa6400c61d0>"
      ]
     },
     "metadata": {},
     "output_type": "display_data"
    },
    {
     "data": {
      "text/html": [
       "<style type=\"text/css\">\n",
       "#T_d924a caption {\n",
       "  text-align: center;\n",
       "  font-size: 150%;\n",
       "  caption-side: top;\n",
       "}\n",
       "#T_d924a th {\n",
       "  text-align: left;\n",
       "}\n",
       "#T_d924a tr:nth-child(even) {\n",
       "  background: #ffffff;\n",
       "  color: #231f20;\n",
       "}\n",
       "#T_d924a tr:nth-child(odd) {\n",
       "  background: #dbf3ff;\n",
       "  color: #231f20;\n",
       "}\n",
       "#T_d924a .level0 {\n",
       "  border: 1px black solid !important;\n",
       "  background: #ffffff;\n",
       "  color: #231f20;\n",
       "}\n",
       "#T_d924a_row0_col0, #T_d924a_row0_col1, #T_d924a_row0_col2, #T_d924a_row0_col3, #T_d924a_row0_col4, #T_d924a_row0_col5, #T_d924a_row0_col6, #T_d924a_row0_col7, #T_d924a_row0_col8, #T_d924a_row0_col9, #T_d924a_row0_col10, #T_d924a_row0_col11, #T_d924a_row0_col12, #T_d924a_row0_col13, #T_d924a_row0_col14, #T_d924a_row0_col15 {\n",
       "  text-align: left;\n",
       "  border: 1px #231f20 solid !important;\n",
       "  overwrite: False;\n",
       "}\n",
       "</style>\n",
       "<table id=\"T_d924a\">\n",
       "  <caption>Nodes</caption>\n",
       "  <thead>\n",
       "    <tr>\n",
       "      <th id=\"T_d924a_level0_col0\" class=\"col_heading level0 col0\" >ID</th>\n",
       "      <th id=\"T_d924a_level0_col1\" class=\"col_heading level0 col1\" >Name</th>\n",
       "      <th id=\"T_d924a_level0_col2\" class=\"col_heading level0 col2\" >Cores</th>\n",
       "      <th id=\"T_d924a_level0_col3\" class=\"col_heading level0 col3\" >RAM</th>\n",
       "      <th id=\"T_d924a_level0_col4\" class=\"col_heading level0 col4\" >Disk</th>\n",
       "      <th id=\"T_d924a_level0_col5\" class=\"col_heading level0 col5\" >Image</th>\n",
       "      <th id=\"T_d924a_level0_col6\" class=\"col_heading level0 col6\" >Image Type</th>\n",
       "      <th id=\"T_d924a_level0_col7\" class=\"col_heading level0 col7\" >Host</th>\n",
       "      <th id=\"T_d924a_level0_col8\" class=\"col_heading level0 col8\" >Site</th>\n",
       "      <th id=\"T_d924a_level0_col9\" class=\"col_heading level0 col9\" >Username</th>\n",
       "      <th id=\"T_d924a_level0_col10\" class=\"col_heading level0 col10\" >Management IP</th>\n",
       "      <th id=\"T_d924a_level0_col11\" class=\"col_heading level0 col11\" >State</th>\n",
       "      <th id=\"T_d924a_level0_col12\" class=\"col_heading level0 col12\" >Error</th>\n",
       "      <th id=\"T_d924a_level0_col13\" class=\"col_heading level0 col13\" >SSH Command</th>\n",
       "      <th id=\"T_d924a_level0_col14\" class=\"col_heading level0 col14\" >Public SSH Key File</th>\n",
       "      <th id=\"T_d924a_level0_col15\" class=\"col_heading level0 col15\" >Private SSH Key File</th>\n",
       "    </tr>\n",
       "  </thead>\n",
       "  <tbody>\n",
       "    <tr>\n",
       "      <td id=\"T_d924a_row0_col0\" class=\"data row0 col0\" >45e61a7a-a838-4726-ade0-4218e01d3f60</td>\n",
       "      <td id=\"T_d924a_row0_col1\" class=\"data row0 col1\" >Node1</td>\n",
       "      <td id=\"T_d924a_row0_col2\" class=\"data row0 col2\" >2</td>\n",
       "      <td id=\"T_d924a_row0_col3\" class=\"data row0 col3\" >8</td>\n",
       "      <td id=\"T_d924a_row0_col4\" class=\"data row0 col4\" >10</td>\n",
       "      <td id=\"T_d924a_row0_col5\" class=\"data row0 col5\" >default_rocky_8</td>\n",
       "      <td id=\"T_d924a_row0_col6\" class=\"data row0 col6\" >qcow2</td>\n",
       "      <td id=\"T_d924a_row0_col7\" class=\"data row0 col7\" >star-w3.fabric-testbed.net</td>\n",
       "      <td id=\"T_d924a_row0_col8\" class=\"data row0 col8\" >STAR</td>\n",
       "      <td id=\"T_d924a_row0_col9\" class=\"data row0 col9\" >rocky</td>\n",
       "      <td id=\"T_d924a_row0_col10\" class=\"data row0 col10\" >2001:400:a100:3030:f816:3eff:fe1c:7d3d</td>\n",
       "      <td id=\"T_d924a_row0_col11\" class=\"data row0 col11\" >Active</td>\n",
       "      <td id=\"T_d924a_row0_col12\" class=\"data row0 col12\" ></td>\n",
       "      <td id=\"T_d924a_row0_col13\" class=\"data row0 col13\" >ssh -i /home/fabric/work/fabric_config/silverkey -F /home/fabric/work/fabric_config/ssh_config rocky@2001:400:a100:3030:f816:3eff:fe1c:7d3d</td>\n",
       "      <td id=\"T_d924a_row0_col14\" class=\"data row0 col14\" >/home/fabric/work/fabric_config/silverkey.pub</td>\n",
       "      <td id=\"T_d924a_row0_col15\" class=\"data row0 col15\" >/home/fabric/work/fabric_config/silverkey</td>\n",
       "    </tr>\n",
       "  </tbody>\n",
       "</table>\n"
      ],
      "text/plain": [
       "<pandas.io.formats.style.Styler at 0x7fa64039b450>"
      ]
     },
     "metadata": {},
     "output_type": "display_data"
    },
    {
     "data": {
      "text/html": [
       "<style type=\"text/css\">\n",
       "#T_281e3 caption {\n",
       "  text-align: center;\n",
       "  font-size: 150%;\n",
       "  caption-side: top;\n",
       "}\n",
       "#T_281e3 th {\n",
       "  text-align: left;\n",
       "}\n",
       "#T_281e3 tr:nth-child(even) {\n",
       "  background: #ffffff;\n",
       "  color: #231f20;\n",
       "}\n",
       "#T_281e3 tr:nth-child(odd) {\n",
       "  background: #dbf3ff;\n",
       "  color: #231f20;\n",
       "}\n",
       "#T_281e3 .level0 {\n",
       "  border: 1px black solid !important;\n",
       "  background: #ffffff;\n",
       "  color: #231f20;\n",
       "}\n",
       "#T_281e3_row0_col0, #T_281e3_row0_col1, #T_281e3_row0_col2, #T_281e3_row0_col3, #T_281e3_row0_col4, #T_281e3_row0_col5, #T_281e3_row0_col6, #T_281e3_row0_col7, #T_281e3_row0_col8 {\n",
       "  text-align: left;\n",
       "  border: 1px #231f20 solid !important;\n",
       "  overwrite: False;\n",
       "}\n",
       "</style>\n",
       "<table id=\"T_281e3\">\n",
       "  <caption>Networks</caption>\n",
       "  <thead>\n",
       "    <tr>\n",
       "      <th id=\"T_281e3_level0_col0\" class=\"col_heading level0 col0\" >ID</th>\n",
       "      <th id=\"T_281e3_level0_col1\" class=\"col_heading level0 col1\" >Name</th>\n",
       "      <th id=\"T_281e3_level0_col2\" class=\"col_heading level0 col2\" >Layer</th>\n",
       "      <th id=\"T_281e3_level0_col3\" class=\"col_heading level0 col3\" >Type</th>\n",
       "      <th id=\"T_281e3_level0_col4\" class=\"col_heading level0 col4\" >Site</th>\n",
       "      <th id=\"T_281e3_level0_col5\" class=\"col_heading level0 col5\" >Subnet</th>\n",
       "      <th id=\"T_281e3_level0_col6\" class=\"col_heading level0 col6\" >Gateway</th>\n",
       "      <th id=\"T_281e3_level0_col7\" class=\"col_heading level0 col7\" >State</th>\n",
       "      <th id=\"T_281e3_level0_col8\" class=\"col_heading level0 col8\" >Error</th>\n",
       "    </tr>\n",
       "  </thead>\n",
       "  <tbody>\n",
       "    <tr>\n",
       "      <td id=\"T_281e3_row0_col0\" class=\"data row0 col0\" >0ed0c353-9791-426f-8aba-df7aba825e36</td>\n",
       "      <td id=\"T_281e3_row0_col1\" class=\"data row0 col1\" >net_facility_port</td>\n",
       "      <td id=\"T_281e3_row0_col2\" class=\"data row0 col2\" >L2</td>\n",
       "      <td id=\"T_281e3_row0_col3\" class=\"data row0 col3\" >L2STS</td>\n",
       "      <td id=\"T_281e3_row0_col4\" class=\"data row0 col4\" >None</td>\n",
       "      <td id=\"T_281e3_row0_col5\" class=\"data row0 col5\" >None</td>\n",
       "      <td id=\"T_281e3_row0_col6\" class=\"data row0 col6\" >None</td>\n",
       "      <td id=\"T_281e3_row0_col7\" class=\"data row0 col7\" >Active</td>\n",
       "      <td id=\"T_281e3_row0_col8\" class=\"data row0 col8\" ></td>\n",
       "    </tr>\n",
       "  </tbody>\n",
       "</table>\n"
      ],
      "text/plain": [
       "<pandas.io.formats.style.Styler at 0x7fa620799910>"
      ]
     },
     "metadata": {},
     "output_type": "display_data"
    },
    {
     "data": {
      "text/html": [
       "<style type=\"text/css\">\n",
       "#T_2b1c2 caption {\n",
       "  text-align: center;\n",
       "  font-size: 150%;\n",
       "  caption-side: top;\n",
       "}\n",
       "#T_2b1c2 th {\n",
       "  text-align: left;\n",
       "}\n",
       "#T_2b1c2 tr:nth-child(even) {\n",
       "  background: #ffffff;\n",
       "  color: #231f20;\n",
       "}\n",
       "#T_2b1c2 tr:nth-child(odd) {\n",
       "  background: #dbf3ff;\n",
       "  color: #231f20;\n",
       "}\n",
       "#T_2b1c2 .level0 {\n",
       "  border: 1px black solid !important;\n",
       "  background: #ffffff;\n",
       "  color: #231f20;\n",
       "}\n",
       "#T_2b1c2_row0_col0, #T_2b1c2_row0_col1, #T_2b1c2_row0_col2, #T_2b1c2_row0_col3, #T_2b1c2_row0_col4, #T_2b1c2_row0_col5, #T_2b1c2_row0_col6, #T_2b1c2_row0_col7, #T_2b1c2_row0_col8, #T_2b1c2_row0_col9, #T_2b1c2_row0_col10, #T_2b1c2_row0_col11, #T_2b1c2_row0_col12 {\n",
       "  text-align: left;\n",
       "  border: 1px #231f20 solid !important;\n",
       "  overwrite: False;\n",
       "}\n",
       "</style>\n",
       "<table id=\"T_2b1c2\">\n",
       "  <caption>Interfaces</caption>\n",
       "  <thead>\n",
       "    <tr>\n",
       "      <th id=\"T_2b1c2_level0_col0\" class=\"col_heading level0 col0\" >Name</th>\n",
       "      <th id=\"T_2b1c2_level0_col1\" class=\"col_heading level0 col1\" >Short Name</th>\n",
       "      <th id=\"T_2b1c2_level0_col2\" class=\"col_heading level0 col2\" >Node</th>\n",
       "      <th id=\"T_2b1c2_level0_col3\" class=\"col_heading level0 col3\" >Network</th>\n",
       "      <th id=\"T_2b1c2_level0_col4\" class=\"col_heading level0 col4\" >Bandwidth</th>\n",
       "      <th id=\"T_2b1c2_level0_col5\" class=\"col_heading level0 col5\" >Mode</th>\n",
       "      <th id=\"T_2b1c2_level0_col6\" class=\"col_heading level0 col6\" >VLAN</th>\n",
       "      <th id=\"T_2b1c2_level0_col7\" class=\"col_heading level0 col7\" >MAC</th>\n",
       "      <th id=\"T_2b1c2_level0_col8\" class=\"col_heading level0 col8\" >Physical Device</th>\n",
       "      <th id=\"T_2b1c2_level0_col9\" class=\"col_heading level0 col9\" >Device</th>\n",
       "      <th id=\"T_2b1c2_level0_col10\" class=\"col_heading level0 col10\" >IP Address</th>\n",
       "      <th id=\"T_2b1c2_level0_col11\" class=\"col_heading level0 col11\" >Numa Node</th>\n",
       "      <th id=\"T_2b1c2_level0_col12\" class=\"col_heading level0 col12\" >Switch Port</th>\n",
       "    </tr>\n",
       "  </thead>\n",
       "  <tbody>\n",
       "    <tr>\n",
       "      <td id=\"T_2b1c2_row0_col0\" class=\"data row0 col0\" >Node1-nic1-p1</td>\n",
       "      <td id=\"T_2b1c2_row0_col1\" class=\"data row0 col1\" >p1</td>\n",
       "      <td id=\"T_2b1c2_row0_col2\" class=\"data row0 col2\" >Node1</td>\n",
       "      <td id=\"T_2b1c2_row0_col3\" class=\"data row0 col3\" >net_facility_port</td>\n",
       "      <td id=\"T_2b1c2_row0_col4\" class=\"data row0 col4\" >100</td>\n",
       "      <td id=\"T_2b1c2_row0_col5\" class=\"data row0 col5\" >config</td>\n",
       "      <td id=\"T_2b1c2_row0_col6\" class=\"data row0 col6\" ></td>\n",
       "      <td id=\"T_2b1c2_row0_col7\" class=\"data row0 col7\" >1E:64:D4:3A:C4:B0</td>\n",
       "      <td id=\"T_2b1c2_row0_col8\" class=\"data row0 col8\" >eth1</td>\n",
       "      <td id=\"T_2b1c2_row0_col9\" class=\"data row0 col9\" >eth1</td>\n",
       "      <td id=\"T_2b1c2_row0_col10\" class=\"data row0 col10\" >192.168.1.101</td>\n",
       "      <td id=\"T_2b1c2_row0_col11\" class=\"data row0 col11\" >4</td>\n",
       "      <td id=\"T_2b1c2_row0_col12\" class=\"data row0 col12\" >HundredGigE0/0/0/9</td>\n",
       "    </tr>\n",
       "  </tbody>\n",
       "</table>\n"
      ],
      "text/plain": [
       "<pandas.io.formats.style.Styler at 0x7fa6400b2a50>"
      ]
     },
     "metadata": {},
     "output_type": "display_data"
    },
    {
     "data": {
      "text/html": [
       "<style type=\"text/css\">\n",
       "#T_2b1c2 caption {\n",
       "  text-align: center;\n",
       "  font-size: 150%;\n",
       "  caption-side: top;\n",
       "}\n",
       "#T_2b1c2 th {\n",
       "  text-align: left;\n",
       "}\n",
       "#T_2b1c2 tr:nth-child(even) {\n",
       "  background: #ffffff;\n",
       "  color: #231f20;\n",
       "}\n",
       "#T_2b1c2 tr:nth-child(odd) {\n",
       "  background: #dbf3ff;\n",
       "  color: #231f20;\n",
       "}\n",
       "#T_2b1c2 .level0 {\n",
       "  border: 1px black solid !important;\n",
       "  background: #ffffff;\n",
       "  color: #231f20;\n",
       "}\n",
       "#T_2b1c2_row0_col0, #T_2b1c2_row0_col1, #T_2b1c2_row0_col2, #T_2b1c2_row0_col3, #T_2b1c2_row0_col4, #T_2b1c2_row0_col5, #T_2b1c2_row0_col6, #T_2b1c2_row0_col7, #T_2b1c2_row0_col8, #T_2b1c2_row0_col9, #T_2b1c2_row0_col10, #T_2b1c2_row0_col11, #T_2b1c2_row0_col12 {\n",
       "  text-align: left;\n",
       "  border: 1px #231f20 solid !important;\n",
       "  overwrite: False;\n",
       "}\n",
       "</style>\n",
       "<table id=\"T_2b1c2\">\n",
       "  <caption>Interfaces</caption>\n",
       "  <thead>\n",
       "    <tr>\n",
       "      <th id=\"T_2b1c2_level0_col0\" class=\"col_heading level0 col0\" >Name</th>\n",
       "      <th id=\"T_2b1c2_level0_col1\" class=\"col_heading level0 col1\" >Short Name</th>\n",
       "      <th id=\"T_2b1c2_level0_col2\" class=\"col_heading level0 col2\" >Node</th>\n",
       "      <th id=\"T_2b1c2_level0_col3\" class=\"col_heading level0 col3\" >Network</th>\n",
       "      <th id=\"T_2b1c2_level0_col4\" class=\"col_heading level0 col4\" >Bandwidth</th>\n",
       "      <th id=\"T_2b1c2_level0_col5\" class=\"col_heading level0 col5\" >Mode</th>\n",
       "      <th id=\"T_2b1c2_level0_col6\" class=\"col_heading level0 col6\" >VLAN</th>\n",
       "      <th id=\"T_2b1c2_level0_col7\" class=\"col_heading level0 col7\" >MAC</th>\n",
       "      <th id=\"T_2b1c2_level0_col8\" class=\"col_heading level0 col8\" >Physical Device</th>\n",
       "      <th id=\"T_2b1c2_level0_col9\" class=\"col_heading level0 col9\" >Device</th>\n",
       "      <th id=\"T_2b1c2_level0_col10\" class=\"col_heading level0 col10\" >IP Address</th>\n",
       "      <th id=\"T_2b1c2_level0_col11\" class=\"col_heading level0 col11\" >Numa Node</th>\n",
       "      <th id=\"T_2b1c2_level0_col12\" class=\"col_heading level0 col12\" >Switch Port</th>\n",
       "    </tr>\n",
       "  </thead>\n",
       "  <tbody>\n",
       "    <tr>\n",
       "      <td id=\"T_2b1c2_row0_col0\" class=\"data row0 col0\" >Node1-nic1-p1</td>\n",
       "      <td id=\"T_2b1c2_row0_col1\" class=\"data row0 col1\" >p1</td>\n",
       "      <td id=\"T_2b1c2_row0_col2\" class=\"data row0 col2\" >Node1</td>\n",
       "      <td id=\"T_2b1c2_row0_col3\" class=\"data row0 col3\" >net_facility_port</td>\n",
       "      <td id=\"T_2b1c2_row0_col4\" class=\"data row0 col4\" >100</td>\n",
       "      <td id=\"T_2b1c2_row0_col5\" class=\"data row0 col5\" >config</td>\n",
       "      <td id=\"T_2b1c2_row0_col6\" class=\"data row0 col6\" ></td>\n",
       "      <td id=\"T_2b1c2_row0_col7\" class=\"data row0 col7\" >1E:64:D4:3A:C4:B0</td>\n",
       "      <td id=\"T_2b1c2_row0_col8\" class=\"data row0 col8\" >eth1</td>\n",
       "      <td id=\"T_2b1c2_row0_col9\" class=\"data row0 col9\" >eth1</td>\n",
       "      <td id=\"T_2b1c2_row0_col10\" class=\"data row0 col10\" >192.168.1.101</td>\n",
       "      <td id=\"T_2b1c2_row0_col11\" class=\"data row0 col11\" >4</td>\n",
       "      <td id=\"T_2b1c2_row0_col12\" class=\"data row0 col12\" >HundredGigE0/0/0/9</td>\n",
       "    </tr>\n",
       "  </tbody>\n",
       "</table>\n"
      ],
      "text/plain": [
       "<pandas.io.formats.style.Styler at 0x7fa6400b2a50>"
      ]
     },
     "execution_count": 9,
     "metadata": {},
     "output_type": "execute_result"
    }
   ],
   "source": [
    "slice.show()\n",
    "slice.list_nodes()\n",
    "slice.list_networks()\n",
    "slice.list_interfaces()\n"
   ]
  },
  {
   "cell_type": "markdown",
   "metadata": {
    "tags": []
   },
   "source": [
    "## Run the Experiment"
   ]
  },
  {
   "cell_type": "code",
   "execution_count": 10,
   "metadata": {
    "tags": []
   },
   "outputs": [],
   "source": [
    "from ipaddress import ip_address, IPv4Address, IPv6Address, IPv4Network, IPv6Network\n",
    "\n",
    "# Configure the interface(s) of the VM(s) with designated subnet\n",
    "subnet = IPv4Network(\"192.168.1.0/24\")\n",
    "available_ips = list(subnet)[2:]"
   ]
  },
  {
   "cell_type": "code",
   "execution_count": 11,
   "metadata": {
    "tags": []
   },
   "outputs": [
    {
     "name": "stdout",
     "output_type": "stream",
     "text": [
      "node1_addr: 192.168.1.101\n",
      "3: eth1: <BROADCAST,MULTICAST,UP,LOWER_UP> mtu 1500 qdisc mq state UP group default qlen 1000\n",
      "    link/ether 1e:64:d4:3a:c4:b0 brd ff:ff:ff:ff:ff:ff\n",
      "    altname enp7s0\n",
      "    inet 192.168.1.101/24 scope global eth1\n",
      "       valid_lft forever preferred_lft forever\n"
     ]
    }
   ],
   "source": [
    "node1 = slice.get_node(name=f\"Node1\")        \n",
    "node1_iface = node1.get_interface(network_name=f'net_facility_port') \n",
    "node1_addr = available_ips.pop(99)\n",
    "print(f\"node1_addr: {node1_addr}\")\n",
    "node1_iface.ip_addr_add(addr=node1_addr, subnet=subnet)\n",
    "\n",
    "stdout, stderr = node1.execute(f'ip addr show {node1_iface.get_os_interface()}')\n",
    "\n",
    "stdout, stderr = node1.execute(f'sudo ip link set dev {node1_iface.get_physical_os_interface_name()} up')\n",
    "\n",
    "stdout, stderr = node1.execute(f'sudo ip link set dev {node1_iface.get_os_interface()} up')"
   ]
  },
  {
   "cell_type": "code",
   "execution_count": 12,
   "metadata": {
    "tags": []
   },
   "outputs": [
    {
     "name": "stdout",
     "output_type": "stream",
     "text": [
      "PING 192.168.1.10 (192.168.1.10) 56(84) bytes of data.\n",
      "From 192.168.1.101 icmp_seq=1 Destination Host Unreachable\n",
      "From 192.168.1.101 icmp_seq=2 Destination Host Unreachable\n",
      "From 192.168.1.101 icmp_seq=3 Destination Host Unreachable\n",
      "From 192.168.1.101 icmp_seq=4 Destination Host Unreachable\n",
      "From 192.168.1.101 icmp_seq=5 Destination Host Unreachable\n",
      "\n",
      "--- 192.168.1.10 ping statistics ---\n",
      "5 packets transmitted, 0 received, +5 errors, 100% packet loss, time 4075ms\n",
      "pipe 3\n"
     ]
    }
   ],
   "source": [
    "# Ping the node(s) that are active on the Facility Port side (e.g 192.168.1.10)\n",
    "node1 = slice.get_node(name=f\"Node1\")     \n",
    "node1_iface = node1.get_interface(network_name=f'net_facility_port') \n",
    "\n",
    "stdout, stderr = node1.execute(f'ping -c 5 192.168.1.10')   # This is expected to fail. "
   ]
  },
  {
   "cell_type": "markdown",
   "metadata": {},
   "source": [
    "# Import SDXLIB and FABLib Libraries"
   ]
  },
  {
   "cell_type": "code",
   "execution_count": 13,
   "metadata": {},
   "outputs": [],
   "source": [
    "from pprint import pprint\n",
    "from sdxlib.sdx_token_auth import TokenAuthentication\n",
    "from sdxlib.sdx_client import SDXClient\n",
    "from sdxlib.sdx_exception import SDXException"
   ]
  },
  {
   "cell_type": "markdown",
   "metadata": {},
   "source": [
    "# Instantiate the TokenAuthentication class with the correct token file path (if needed)"
   ]
  },
  {
   "cell_type": "code",
   "execution_count": 14,
   "metadata": {},
   "outputs": [],
   "source": [
    "# Read token from Jupyter Hub environment\n",
    "import os\n",
    "\n",
    "# token_file_path = \"expired_id_token.json\"\n",
    "token_file_path = os.getenv(\"FABRIC_TOKEN_LOCATION\", \"/home/fabric/.tokens.json\")\n",
    "\n",
    "# Specify proxy_host\n",
    "proxy_hostname = \"sdxapi.atlanticwave-sdx.ai\"\n",
    "\n",
    "# Specify proxy_port\n",
    "proxy_port = \"443\"\n",
    "\n",
    "# Specify the endpoint\n",
    "endpoint = \"topology\"  # Replace with your desired endpoint\n",
    "\n",
    "# Instantiate the TokenAuthentication class with the correct token file path and endpoint\n",
    "token_auth = TokenAuthentication(\n",
    "    token_path=token_file_path,\n",
    "    proxy_hostname=proxy_hostname,\n",
    "    proxy_port=proxy_port,\n",
    "    endpoint=endpoint)"
   ]
  },
  {
   "cell_type": "raw",
   "metadata": {},
   "source": [
    "# Load and Validate the token"
   ]
  },
  {
   "cell_type": "code",
   "execution_count": 15,
   "metadata": {},
   "outputs": [
    {
     "name": "stdout",
     "output_type": "stream",
     "text": [
      "FABRIC Token Path: /home/fabric/.tokens.json\n",
      "FABRIC JWT Token: eyJhbGciOiJSUzI1NiIsImtpZCI6ImI0MTUxNjcyMTExOTFlMmUwNWIyMmI1NGIxZDNiNzY2N2U3NjRhNzQ3NzIyMTg1ZTcyMmU1MmUxNDZmZTQzYWEiLCJ0eXAiOiJKV1QifQ.eyJzdWIiOiJodHRwOi8vY2lsb2dvbi5vcmcvc2VydmVyRS91c2Vycy83MjQzNiIsImlkcF9uYW1lIjoiRmxvcmlkYSBJbnRlcm5hdGlvbmFsIFVuaXZlcnNpdHkiLCJlcHBuIjoibG1hcmludmVAZml1LmVkdSIsImlzcyI6Imh0dHBzOi8vY2lsb2dvbi5vcmciLCJhY3IiOiJ1cm46b2FzaXM6bmFtZXM6dGM6U0FNTDoyLjA6YWM6Y2xhc3NlczpQYXNzd29yZFByb3RlY3RlZFRyYW5zcG9ydCIsImF1ZCI6ImNpbG9nb246L2NsaWVudF9pZC8yOTdkZGZhZGM1ZWFiYTVlYmE5Yzg5ODY4YWE5NjI3ZCIsIm5iZiI6MTc0MDk3NTc4MywiaWRwIjoiaHR0cHM6Ly9zaWdub24uZml1LmVkdS9pZHAiLCJhdXRoX3RpbWUiOjE3NDA5NjMyNDksImV4cCI6MTc0MDk5MDE4NCwiaWF0IjoxNzQwOTc1Nzg0LCJlbWFpbCI6ImxtYXJpbnZlQGZpdS5lZHUiLCJqdGkiOiJodHRwczovL2NpbG9nb24ub3JnL29hdXRoMi9pZFRva2VuLzdjNDMwMmEzNDhmMjMzZWUwNWY4NTdhODAwNzQxZjgyLzE3NDA5Njk2NTE5ODYiLCJwcm9qZWN0cyI6W3sibmFtZSI6IkF0bGFudGljV2F2ZS1TRFgiLCJ1dWlkIjoiMWVjZDlkNmEtNzcwMS00MGZhLWI3OGUtYjIyOTNjOTUyNmVkIiwidGFncyI6WyJTbGljZS5NdWx0aXNpdGUiLCJTbGljZS5NZWFzdXJlbWVudHMiLCJOZXQuRmFjaWxpdHlQb3J0LkFtTGlnaHQtRVhQLUxheWVyMi1GSVUiLCJWTS5Ob0xpbWl0IiwiQ29tcG9uZW50LlNtYXJ0TklDIiwiTmV0LkZhY2lsaXR5UG9ydC5BbUxpZ2h0LUxheWVyMy1GSVUiLCJDb21wb25lbnQuR1BVIl0sIm1lbWJlcnNoaXBzIjp7ImlzX2NyZWF0b3IiOnRydWUsImlzX21lbWJlciI6ZmFsc2UsImlzX293bmVyIjp0cnVlLCJpc190b2tlbl9ob2xkZXIiOmZhbHNlfX1dLCJyb2xlcyI6W3siZGVzY3JpcHRpb24iOiJBY3RpdmUgVXNlcnMgb2YgRkFCUklDIC0gaW5pdGlhbGx5IHNldCBieSBlbnJvbGxtZW50IHdvcmtmbG93IiwibmFtZSI6ImZhYnJpYy1hY3RpdmUtdXNlcnMifSx7ImRlc2NyaXB0aW9uIjoiSnVweXRlcmh1YiBhY2Nlc3MgLSBiYXNlZCBvbiBwcm9qZWN0IHBhcnRpY2lwYXRpb24iLCJuYW1lIjoiSnVweXRlcmh1YiJ9LHsiZGVzY3JpcHRpb24iOiJQcm9qZWN0IExlYWRzIGZvciBGQUJSSUMiLCJuYW1lIjoicHJvamVjdC1sZWFkcyJ9XSwic2NvcGUiOiJhbGwiLCJ1dWlkIjoiZWMxMGQ5ZmYtMjMxOS00NTU3LWFjMzQtNDhhMDc4NTFiNDlmIn0.Bek0EP_TGmouPGS8ms_0DUPV3DJLIFKSSEsHLe4y6kf00a0NRL6onpKuutRPg8aeIFsZDZmSbI_LvkwlmLRrD98EQbvGca_s52ZweBAKF4h5jkE2nJ-8MqdTrc5KPg8fasX74QaP20rtlwkuTigsbH6li-PxokUzvNMo9Fh-2BmcEv2gkEV9dT3_ir53eUHdcMwxKeg93hP9fzrh4Fr3t373d34pK8aJQdQwPgW_LdB7_ctugfj6S1UWmdFnXZsVq-wrdODgOot1K-SzQEqp1mRpaVDa20CS651vVvFxr2fuo1tcq5YCXVBuv3MTmggkCO-2SgQe9wVQlMVunLMq2Juy1TngN5teteDLH2_IMJBbgWooIeUcM_totAUfuR88zfpXEFuarEQCYLeFjFTdIWefOw241gpOFSwLZZ2O24teCOiuECoLKh7JSYvi_gA6H26Iejgxf528Yet93ajLsPx7JgVYoG0FeaOhB6v07ADhp3DoAtDYDzlwzO1NKFQLpnrGtsj26aGHa_zpKzlMEQZBAqxEmPSiXM1LtNJN6t3RII31EXgxe70gDmy-P1zFJFjPSxZO6h4Y8HwrYWN0foNl1dk6r8eF8UF5GH3Fm3JqS3OLfsMyCL65h7QGwvq2lMxplMH5iNrDC-1qcCBgErA6GHLakNz2Nzk7s3QCTqk\n",
      "Decoded Token Claims:\n",
      "   sub: http://cilogon.org/serverE/users/72436\n",
      "   idp_name: Florida International University\n",
      "   eppn: lmarinve@fiu.edu\n",
      "   iss: https://cilogon.org\n",
      "   acr: urn:oasis:names:tc:SAML:2.0:ac:classes:PasswordProtectedTransport\n",
      "   aud: cilogon:/client_id/297ddfadc5eaba5eba9c89868aa9627d\n",
      "   nbf: 1740975783\n",
      "   idp: https://signon.fiu.edu/idp\n",
      "   auth_time: 1740963249\n",
      "   exp: 1740990184\n",
      "   iat: 1740975784\n",
      "   email: lmarinve@fiu.edu\n",
      "   jti: https://cilogon.org/oauth2/idToken/7c4302a348f233ee05f857a800741f82/1740969651986\n",
      "   projects: [{'name': 'AtlanticWave-SDX', 'uuid': '1ecd9d6a-7701-40fa-b78e-b2293c9526ed', 'tags': ['Slice.Multisite', 'Slice.Measurements', 'Net.FacilityPort.AmLight-EXP-Layer2-FIU', 'VM.NoLimit', 'Component.SmartNIC', 'Net.FacilityPort.AmLight-Layer3-FIU', 'Component.GPU'], 'memberships': {'is_creator': True, 'is_member': False, 'is_owner': True, 'is_token_holder': False}}]\n",
      "   roles: [{'description': 'Active Users of FABRIC - initially set by enrollment workflow', 'name': 'fabric-active-users'}, {'description': 'Jupyterhub access - based on project participation', 'name': 'Jupyterhub'}, {'description': 'Project Leads for FABRIC', 'name': 'project-leads'}]\n",
      "   scope: all\n",
      "   uuid: ec10d9ff-2319-4557-ac34-48a07851b49f\n",
      "{'acr': 'urn:oasis:names:tc:SAML:2.0:ac:classes:PasswordProtectedTransport',\n",
      " 'aud': 'cilogon:/client_id/297ddfadc5eaba5eba9c89868aa9627d',\n",
      " 'auth_time': 1740963249,\n",
      " 'email': 'lmarinve@fiu.edu',\n",
      " 'eppn': 'lmarinve@fiu.edu',\n",
      " 'exp': 1740990184,\n",
      " 'iat': 1740975784,\n",
      " 'idp': 'https://signon.fiu.edu/idp',\n",
      " 'idp_name': 'Florida International University',\n",
      " 'iss': 'https://cilogon.org',\n",
      " 'jti': 'https://cilogon.org/oauth2/idToken/7c4302a348f233ee05f857a800741f82/1740969651986',\n",
      " 'nbf': 1740975783,\n",
      " 'projects': [{'memberships': {'is_creator': True,\n",
      "                               'is_member': False,\n",
      "                               'is_owner': True,\n",
      "                               'is_token_holder': False},\n",
      "               'name': 'AtlanticWave-SDX',\n",
      "               'tags': ['Slice.Multisite',\n",
      "                        'Slice.Measurements',\n",
      "                        'Net.FacilityPort.AmLight-EXP-Layer2-FIU',\n",
      "                        'VM.NoLimit',\n",
      "                        'Component.SmartNIC',\n",
      "                        'Net.FacilityPort.AmLight-Layer3-FIU',\n",
      "                        'Component.GPU'],\n",
      "               'uuid': '1ecd9d6a-7701-40fa-b78e-b2293c9526ed'}],\n",
      " 'roles': [{'description': 'Active Users of FABRIC - initially set by '\n",
      "                           'enrollment workflow',\n",
      "            'name': 'fabric-active-users'},\n",
      "           {'description': 'Jupyterhub access - based on project participation',\n",
      "            'name': 'Jupyterhub'},\n",
      "           {'description': 'Project Leads for FABRIC',\n",
      "            'name': 'project-leads'}],\n",
      " 'scope': 'all',\n",
      " 'sub': 'http://cilogon.org/serverE/users/72436',\n",
      " 'uuid': 'ec10d9ff-2319-4557-ac34-48a07851b49f'}\n",
      "HTTP Status: 200\n",
      "Token is valid!\n",
      "Response Data: {'name': 'SAX-OXP', 'id': 'urn:sdx:topology:sax.net', 'version': 6601, 'timestamp': '2025-02-28T14:07:03Z', 'model_version': '2.0.0', 'nodes': [{'name': 'Novi04', 'id': 'urn:sdx:node:sax.net:Novi04', 'location': {'address': 'Fortaleza', 'latitude': -3.0, 'longitude': -40.0, 'iso3166_2_lvl4': 'BR-CE', 'private': []}, 'ports': [{'id': 'urn:sdx:port:sax.net:Novi04:4', 'name': 'Novi04-eth4', 'node': 'urn:sdx:node:sax.net:Novi04', 'type': '10GE', 'status': 'up', 'state': 'enabled', 'mtu': 1500, 'nni': 'urn:sdx:port:ampath.net:Novi02:4', 'entities': ['Sao Paulo Novi02'], 'services': {'l2vpn-ptp': {'vlan_range': [[1, 4095]]}}, 'private': []}, {'id': 'urn:sdx:port:sax.net:Novi04:6', 'name': 'Novi04-eth6', 'node': 'urn:sdx:node:sax.net:Novi04', 'type': '10GE', 'status': 'up', 'state': 'enabled', 'mtu': 1500, 'nni': '', 'entities': [], 'services': {'l2vpn-ptp': {'vlan_range': [[1, 4095]]}}, 'private': []}], 'status': 'up', 'state': 'enabled'}, {'name': 'Novi05', 'id': 'urn:sdx:node:sax.net:Novi05', 'location': {'address': 'Fortaleza', 'latitude': -3.0, 'longitude': -20.0, 'iso3166_2_lvl4': 'BR-CE', 'private': []}, 'ports': [{'id': 'urn:sdx:port:sax.net:Novi05:6', 'name': 'Novi05-eth6', 'node': 'urn:sdx:node:sax.net:Novi05', 'type': '10GE', 'status': 'up', 'state': 'enabled', 'mtu': 1500, 'nni': '', 'entities': [], 'services': {'l2vpn-ptp': {'vlan_range': [[1, 4095]]}}, 'private': []}, {'id': 'urn:sdx:port:sax.net:Novi05:7', 'name': 'Novi05-eth7', 'node': 'urn:sdx:node:sax.net:Novi05', 'type': '10GE', 'status': 'up', 'state': 'enabled', 'mtu': 1500, 'nni': 'urn:sdx:port:tenet.ac.za:Novi06:7', 'entities': ['France Novi06', 'Cern Novi06'], 'services': {'l2vpn-ptp': {'vlan_range': [[1, 4095]]}}, 'private': []}], 'status': 'up', 'state': 'enabled'}], 'links': [{'name': 'Novi04-eth6_Novi05-eth6', 'id': 'urn:sdx:link:sax.net:Novi04-eth6_Novi05-eth6', 'type': 'intra', 'ports': ['urn:sdx:port:sax.net:Novi04:6', 'urn:sdx:port:sax.net:Novi05:6'], 'bandwidth': 10, 'residual_bandwidth': 100, 'packet_loss': 0, 'latency': 2, 'status': 'up', 'state': 'enabled', 'private': ['packet_loss']}], 'services': ['l2vpn-ptp']}\n",
      "None\n"
     ]
    }
   ],
   "source": [
    "# Load the token\n",
    "token_auth.load_token()\n",
    "\n",
    "# Print the decoded token for debugging (optional)\n",
    "pprint(token_auth.token_decoded)\n",
    "\n",
    "# Validate the token\n",
    "pprint(token_auth.validate_token())\n",
    "\n",
    "fabric_token = token_auth.fabric_token"
   ]
  },
  {
   "cell_type": "markdown",
   "metadata": {},
   "source": [
    "## Show the Slice's Attributes"
   ]
  },
  {
   "cell_type": "markdown",
   "metadata": {
    "tags": []
   },
   "source": [
    "## Configure the Subnet"
   ]
  },
  {
   "cell_type": "code",
   "execution_count": null,
   "metadata": {
    "tags": []
   },
   "outputs": [],
   "source": [
    "from ipaddress import ip_address, IPv4Address, IPv6Address, IPv4Network, IPv6Network\n",
    "\n",
    "# Configure the interface(s) of the VM(s) with designated subnet\n",
    "subnet = IPv4Network(\"192.168.1.0/24\")\n",
    "available_ips = list(subnet)[2:]"
   ]
  },
  {
   "cell_type": "markdown",
   "metadata": {
    "tags": []
   },
   "source": [
    "## Configure the Node"
   ]
  },
  {
   "cell_type": "code",
   "execution_count": null,
   "metadata": {
    "tags": []
   },
   "outputs": [],
   "source": [
    "node1 = slice.get_node(name=f\"Node1\")        \n",
    "node1_iface = node1.get_interface(network_name=f'net_facility_port') \n",
    "node1_addr = available_ips.pop(99)\n",
    "print(f\"node1_addr: {node1_addr}\")\n",
    "node1_iface.ip_addr_add(addr=node1_addr, subnet=subnet)\n",
    "\n",
    "stdout, stderr = node1.execute(f'ip addr show {node1_iface.get_os_interface()}')\n",
    "\n",
    "stdout, stderr = node1.execute(f'sudo ip link set dev {node1_iface.get_physical_os_interface_name()} up')\n",
    "\n",
    "stdout, stderr = node1.execute(f'sudo ip link set dev {node1_iface.get_os_interface()} up')"
   ]
  },
  {
   "cell_type": "markdown",
   "metadata": {},
   "source": [
    "## List Nodes"
   ]
  },
  {
   "cell_type": "code",
   "execution_count": null,
   "metadata": {},
   "outputs": [],
   "source": [
    "slice.list_nodes()\n"
   ]
  },
  {
   "cell_type": "markdown",
   "metadata": {},
   "source": [
    "## List Networks"
   ]
  },
  {
   "cell_type": "code",
   "execution_count": null,
   "metadata": {},
   "outputs": [],
   "source": [
    "slice.list_networks()\n"
   ]
  },
  {
   "cell_type": "markdown",
   "metadata": {},
   "source": [
    "## List Interfaces"
   ]
  },
  {
   "cell_type": "code",
   "execution_count": null,
   "metadata": {},
   "outputs": [],
   "source": [
    "slice.list_interfaces()"
   ]
  },
  {
   "cell_type": "markdown",
   "metadata": {},
   "source": [
    "## Ping a node on the Amlight Facility Port side"
   ]
  },
  {
   "cell_type": "code",
   "execution_count": null,
   "metadata": {
    "tags": []
   },
   "outputs": [],
   "source": [
    "stdout, stderr = node1.execute(f'ping -c 5 192.168.1.10')   "
   ]
  },
  {
   "cell_type": "markdown",
   "metadata": {},
   "source": [
    "## Assign SDX Controller URL"
   ]
  },
  {
   "cell_type": "code",
   "execution_count": null,
   "metadata": {},
   "outputs": [],
   "source": [
    "# url = \"http://controller.atlanticwave-sdx.net:8080/SDX-Controller\"\n",
    "url = \"https://sdxapi.atlanticwave-sdx.ai\""
   ]
  },
  {
   "cell_type": "markdown",
   "metadata": {},
   "source": [
    "## List SDX Domain Nodes and Ports\n"
   ]
  },
  {
   "cell_type": "code",
   "execution_count": null,
   "metadata": {},
   "outputs": [],
   "source": [
    "client=SDXClient(fabric_token, url)\n",
    "client.get_available_ports()"
   ]
  },
  {
   "cell_type": "markdown",
   "metadata": {},
   "source": [
    "## Create SDX Layer 2 VPN"
   ]
  },
  {
   "cell_type": "markdown",
   "metadata": {},
   "source": [
    "The below specification is the minimum information needed to create the layer 2 VPN. "
   ]
  },
  {
   "cell_type": "code",
   "execution_count": null,
   "metadata": {},
   "outputs": [],
   "source": [
    "client_name = \"Test SDX SC24 L2VPN\"\n",
    "client_endpoints = [\n",
    "    {\"port_id\": \"urn:sdx:port:amlight.net:MIA-MI1-SW17:7\", \"vlan\": \"4015\"}, \n",
    "    {\"port_id\": \"urn:sdx:port:amlight.net:MIA-MI1-SW15:9\", \"vlan\": \"4015\"},\n",
    "]\n",
    "client = SDXClient(fabric_token, url, client_name, client_endpoints)"
   ]
  },
  {
   "cell_type": "code",
   "execution_count": null,
   "metadata": {},
   "outputs": [],
   "source": [
    "try:\n",
    "    response = client.create_l2vpn()  \n",
    "    print(\"L2VPN creation successful!\")\n",
    "    pprint(response)\n",
    "except SDXException as e:\n",
    "    print(f\"L2VPN creation failed: {e}\") "
   ]
  },
  {
   "cell_type": "markdown",
   "metadata": {},
   "source": [
    "## List All SDX L2VPNs"
   ]
  },
  {
   "cell_type": "markdown",
   "metadata": {},
   "source": [
    "Both of the list methods have the option of query results being listed as a DataFrame(default) or as a JSON by passing the optional argument format='json'."
   ]
  },
  {
   "cell_type": "code",
   "execution_count": null,
   "metadata": {
    "scrolled": true
   },
   "outputs": [],
   "source": [
    "client.get_all_l2vpns()"
   ]
  },
  {
   "cell_type": "markdown",
   "metadata": {},
   "source": [
    "## Show created L2VPN Details"
   ]
  },
  {
   "cell_type": "code",
   "execution_count": null,
   "metadata": {
    "scrolled": true
   },
   "outputs": [],
   "source": [
    "client.get_l2vpn(service_id = response['service_id'])"
   ]
  },
  {
   "cell_type": "markdown",
   "metadata": {
    "tags": []
   },
   "source": [
    "## Ping a node on the Amlight Facility Port side"
   ]
  },
  {
   "cell_type": "code",
   "execution_count": null,
   "metadata": {
    "tags": []
   },
   "outputs": [],
   "source": [
    "stdout, stderr = node1.execute(f'ping -c 5 192.168.1.10')   "
   ]
  },
  {
   "cell_type": "markdown",
   "metadata": {},
   "source": [
    "## Delete created SDX L2VPN"
   ]
  },
  {
   "cell_type": "markdown",
   "metadata": {},
   "source": [
    "Please make certain to delete when you are finished. "
   ]
  },
  {
   "cell_type": "code",
   "execution_count": null,
   "metadata": {},
   "outputs": [],
   "source": [
    "client.delete_l2vpn(service_id = response['service_id'])"
   ]
  },
  {
   "cell_type": "markdown",
   "metadata": {
    "tags": []
   },
   "source": [
    "## Ping a node on the Amlight Facility Port side"
   ]
  },
  {
   "cell_type": "code",
   "execution_count": null,
   "metadata": {
    "tags": []
   },
   "outputs": [],
   "source": [
    "stdout, stderr = node1.execute(f'ping -c 5 192.168.1.10')   "
   ]
  }
 ],
 "metadata": {
  "kernelspec": {
   "display_name": "Python 3 (ipykernel)",
   "language": "python",
   "name": "python3"
  },
  "language_info": {
   "codemirror_mode": {
    "name": "ipython",
    "version": 3
   },
   "file_extension": ".py",
   "mimetype": "text/x-python",
   "name": "python",
   "nbconvert_exporter": "python",
   "pygments_lexer": "ipython3",
   "version": "3.11.9"
  }
 },
 "nbformat": 4,
 "nbformat_minor": 4
}
