{
 "cells": [
  {
   "cell_type": "code",
   "execution_count": 1,
   "metadata": {},
   "outputs": [
    {
     "name": "stdout",
     "output_type": "stream",
     "text": [
      "Collecting ipython\n",
      "  Using cached ipython-8.26.0-py3-none-any.whl.metadata (5.0 kB)\n",
      "Collecting decorator (from ipython)\n",
      "  Using cached decorator-5.1.1-py3-none-any.whl.metadata (4.0 kB)\n",
      "Collecting jedi>=0.16 (from ipython)\n",
      "  Using cached jedi-0.19.1-py2.py3-none-any.whl.metadata (22 kB)\n",
      "Collecting matplotlib-inline (from ipython)\n",
      "  Using cached matplotlib_inline-0.1.7-py3-none-any.whl.metadata (3.9 kB)\n",
      "Collecting prompt-toolkit<3.1.0,>=3.0.41 (from ipython)\n",
      "  Using cached prompt_toolkit-3.0.47-py3-none-any.whl.metadata (6.4 kB)\n",
      "Collecting pygments>=2.4.0 (from ipython)\n",
      "  Using cached pygments-2.18.0-py3-none-any.whl.metadata (2.5 kB)\n",
      "Collecting stack-data (from ipython)"
     ]
    },
    {
     "name": "stderr",
     "output_type": "stream",
     "text": [
      "\n",
      "[notice] A new release of pip is available: 24.0 -> 24.2\n",
      "[notice] To update, run: python.exe -m pip install --upgrade pip\n"
     ]
    },
    {
     "name": "stdout",
     "output_type": "stream",
     "text": [
      "\n",
      "  Using cached stack_data-0.6.3-py3-none-any.whl.metadata (18 kB)\n",
      "Collecting traitlets>=5.13.0 (from ipython)\n",
      "  Using cached traitlets-5.14.3-py3-none-any.whl.metadata (10 kB)\n",
      "Collecting typing-extensions>=4.6 (from ipython)\n",
      "  Using cached typing_extensions-4.12.2-py3-none-any.whl.metadata (3.0 kB)\n",
      "Collecting colorama (from ipython)\n",
      "  Using cached colorama-0.4.6-py2.py3-none-any.whl.metadata (17 kB)\n",
      "Collecting parso<0.9.0,>=0.8.3 (from jedi>=0.16->ipython)\n",
      "  Using cached parso-0.8.4-py2.py3-none-any.whl.metadata (7.7 kB)\n",
      "Collecting wcwidth (from prompt-toolkit<3.1.0,>=3.0.41->ipython)\n",
      "  Using cached wcwidth-0.2.13-py2.py3-none-any.whl.metadata (14 kB)\n",
      "Collecting executing>=1.2.0 (from stack-data->ipython)\n",
      "  Using cached executing-2.0.1-py2.py3-none-any.whl.metadata (9.0 kB)\n",
      "Collecting asttokens>=2.1.0 (from stack-data->ipython)\n",
      "  Using cached asttokens-2.4.1-py2.py3-none-any.whl.metadata (5.2 kB)\n",
      "Collecting pure-eval (from stack-data->ipython)\n",
      "  Using cached pure_eval-0.2.3-py3-none-any.whl.metadata (6.3 kB)\n",
      "Collecting six>=1.12.0 (from asttokens>=2.1.0->stack-data->ipython)\n",
      "  Using cached six-1.16.0-py2.py3-none-any.whl.metadata (1.8 kB)\n",
      "Using cached ipython-8.26.0-py3-none-any.whl (817 kB)\n",
      "Using cached jedi-0.19.1-py2.py3-none-any.whl (1.6 MB)\n",
      "Using cached prompt_toolkit-3.0.47-py3-none-any.whl (386 kB)\n",
      "Using cached pygments-2.18.0-py3-none-any.whl (1.2 MB)\n",
      "Using cached traitlets-5.14.3-py3-none-any.whl (85 kB)\n",
      "Using cached typing_extensions-4.12.2-py3-none-any.whl (37 kB)\n",
      "Using cached colorama-0.4.6-py2.py3-none-any.whl (25 kB)\n",
      "Using cached decorator-5.1.1-py3-none-any.whl (9.1 kB)\n",
      "Using cached matplotlib_inline-0.1.7-py3-none-any.whl (9.9 kB)\n",
      "Using cached stack_data-0.6.3-py3-none-any.whl (24 kB)\n",
      "Using cached asttokens-2.4.1-py2.py3-none-any.whl (27 kB)\n",
      "Using cached executing-2.0.1-py2.py3-none-any.whl (24 kB)\n",
      "Using cached parso-0.8.4-py2.py3-none-any.whl (103 kB)\n",
      "Using cached pure_eval-0.2.3-py3-none-any.whl (11 kB)\n",
      "Using cached wcwidth-0.2.13-py2.py3-none-any.whl (34 kB)\n",
      "Using cached six-1.16.0-py2.py3-none-any.whl (11 kB)\n",
      "Installing collected packages: wcwidth, pure-eval, typing-extensions, traitlets, six, pygments, prompt-toolkit, parso, executing, decorator, colorama, matplotlib-inline, jedi, asttokens, stack-data, ipython\n",
      "Successfully installed asttokens-2.4.1 colorama-0.4.6 decorator-5.1.1 executing-2.0.1 ipython-8.26.0 jedi-0.19.1 matplotlib-inline-0.1.7 parso-0.8.4 prompt-toolkit-3.0.47 pure-eval-0.2.3 pygments-2.18.0 six-1.16.0 stack-data-0.6.3 traitlets-5.14.3 typing-extensions-4.12.2 wcwidth-0.2.13\n",
      "Collecting ipykernel\n",
      "  Using cached ipykernel-6.29.5-py3-none-any.whl.metadata (6.3 kB)\n"
     ]
    },
    {
     "name": "stderr",
     "output_type": "stream",
     "text": [
      "\n",
      "[notice] A new release of pip is available: 24.0 -> 24.2\n",
      "[notice] To update, run: python.exe -m pip install --upgrade pip\n"
     ]
    },
    {
     "name": "stdout",
     "output_type": "stream",
     "text": [
      "Collecting comm>=0.1.1 (from ipykernel)\n",
      "  Using cached comm-0.2.2-py3-none-any.whl.metadata (3.7 kB)\n",
      "Collecting debugpy>=1.6.5 (from ipykernel)\n",
      "  Using cached debugpy-1.8.5-cp311-cp311-win_amd64.whl.metadata (1.1 kB)\n",
      "Requirement already satisfied: ipython>=7.23.1 in c:\\users\\sharon\\documents\\github\\sdx-internship\\sdx311env\\lib\\site-packages (from ipykernel) (8.26.0)\n",
      "Collecting jupyter-client>=6.1.12 (from ipykernel)\n",
      "  Using cached jupyter_client-8.6.2-py3-none-any.whl.metadata (8.3 kB)\n",
      "Collecting jupyter-core!=5.0.*,>=4.12 (from ipykernel)\n",
      "  Using cached jupyter_core-5.7.2-py3-none-any.whl.metadata (3.4 kB)\n",
      "Requirement already satisfied: matplotlib-inline>=0.1 in c:\\users\\sharon\\documents\\github\\sdx-internship\\sdx311env\\lib\\site-packages (from ipykernel) (0.1.7)\n",
      "Collecting nest-asyncio (from ipykernel)\n",
      "  Using cached nest_asyncio-1.6.0-py3-none-any.whl.metadata (2.8 kB)\n",
      "Collecting packaging (from ipykernel)\n",
      "  Using cached packaging-24.1-py3-none-any.whl.metadata (3.2 kB)\n",
      "Collecting psutil (from ipykernel)\n",
      "  Using cached psutil-6.0.0-cp37-abi3-win_amd64.whl.metadata (22 kB)\n",
      "Collecting pyzmq>=24 (from ipykernel)\n",
      "  Using cached pyzmq-26.1.0-cp311-cp311-win_amd64.whl.metadata (6.2 kB)\n",
      "Collecting tornado>=6.1 (from ipykernel)\n",
      "  Using cached tornado-6.4.1-cp38-abi3-win_amd64.whl.metadata (2.6 kB)\n",
      "Requirement already satisfied: traitlets>=5.4.0 in c:\\users\\sharon\\documents\\github\\sdx-internship\\sdx311env\\lib\\site-packages (from ipykernel) (5.14.3)\n",
      "Requirement already satisfied: decorator in c:\\users\\sharon\\documents\\github\\sdx-internship\\sdx311env\\lib\\site-packages (from ipython>=7.23.1->ipykernel) (5.1.1)\n",
      "Requirement already satisfied: jedi>=0.16 in c:\\users\\sharon\\documents\\github\\sdx-internship\\sdx311env\\lib\\site-packages (from ipython>=7.23.1->ipykernel) (0.19.1)\n",
      "Requirement already satisfied: prompt-toolkit<3.1.0,>=3.0.41 in c:\\users\\sharon\\documents\\github\\sdx-internship\\sdx311env\\lib\\site-packages (from ipython>=7.23.1->ipykernel) (3.0.47)\n",
      "Requirement already satisfied: pygments>=2.4.0 in c:\\users\\sharon\\documents\\github\\sdx-internship\\sdx311env\\lib\\site-packages (from ipython>=7.23.1->ipykernel) (2.18.0)\n",
      "Requirement already satisfied: stack-data in c:\\users\\sharon\\documents\\github\\sdx-internship\\sdx311env\\lib\\site-packages (from ipython>=7.23.1->ipykernel) (0.6.3)\n",
      "Requirement already satisfied: typing-extensions>=4.6 in c:\\users\\sharon\\documents\\github\\sdx-internship\\sdx311env\\lib\\site-packages (from ipython>=7.23.1->ipykernel) (4.12.2)\n",
      "Requirement already satisfied: colorama in c:\\users\\sharon\\documents\\github\\sdx-internship\\sdx311env\\lib\\site-packages (from ipython>=7.23.1->ipykernel) (0.4.6)\n",
      "Collecting python-dateutil>=2.8.2 (from jupyter-client>=6.1.12->ipykernel)\n",
      "  Using cached python_dateutil-2.9.0.post0-py2.py3-none-any.whl.metadata (8.4 kB)\n",
      "Collecting platformdirs>=2.5 (from jupyter-core!=5.0.*,>=4.12->ipykernel)\n",
      "  Using cached platformdirs-4.2.2-py3-none-any.whl.metadata (11 kB)\n",
      "Collecting pywin32>=300 (from jupyter-core!=5.0.*,>=4.12->ipykernel)\n",
      "  Using cached pywin32-306-cp311-cp311-win_amd64.whl.metadata (6.5 kB)\n",
      "Requirement already satisfied: parso<0.9.0,>=0.8.3 in c:\\users\\sharon\\documents\\github\\sdx-internship\\sdx311env\\lib\\site-packages (from jedi>=0.16->ipython>=7.23.1->ipykernel) (0.8.4)\n",
      "Requirement already satisfied: wcwidth in c:\\users\\sharon\\documents\\github\\sdx-internship\\sdx311env\\lib\\site-packages (from prompt-toolkit<3.1.0,>=3.0.41->ipython>=7.23.1->ipykernel) (0.2.13)\n",
      "Requirement already satisfied: six>=1.5 in c:\\users\\sharon\\documents\\github\\sdx-internship\\sdx311env\\lib\\site-packages (from python-dateutil>=2.8.2->jupyter-client>=6.1.12->ipykernel) (1.16.0)\n",
      "Requirement already satisfied: executing>=1.2.0 in c:\\users\\sharon\\documents\\github\\sdx-internship\\sdx311env\\lib\\site-packages (from stack-data->ipython>=7.23.1->ipykernel) (2.0.1)\n",
      "Requirement already satisfied: asttokens>=2.1.0 in c:\\users\\sharon\\documents\\github\\sdx-internship\\sdx311env\\lib\\site-packages (from stack-data->ipython>=7.23.1->ipykernel) (2.4.1)\n",
      "Requirement already satisfied: pure-eval in c:\\users\\sharon\\documents\\github\\sdx-internship\\sdx311env\\lib\\site-packages (from stack-data->ipython>=7.23.1->ipykernel) (0.2.3)\n",
      "Using cached ipykernel-6.29.5-py3-none-any.whl (117 kB)\n",
      "Using cached comm-0.2.2-py3-none-any.whl (7.2 kB)\n",
      "Using cached debugpy-1.8.5-cp311-cp311-win_amd64.whl (4.7 MB)\n",
      "Using cached jupyter_client-8.6.2-py3-none-any.whl (105 kB)\n",
      "Using cached jupyter_core-5.7.2-py3-none-any.whl (28 kB)\n",
      "Using cached pyzmq-26.1.0-cp311-cp311-win_amd64.whl (722 kB)\n",
      "Using cached tornado-6.4.1-cp38-abi3-win_amd64.whl (438 kB)\n",
      "Using cached nest_asyncio-1.6.0-py3-none-any.whl (5.2 kB)\n",
      "Using cached packaging-24.1-py3-none-any.whl (53 kB)\n",
      "Using cached psutil-6.0.0-cp37-abi3-win_amd64.whl (257 kB)\n",
      "Using cached platformdirs-4.2.2-py3-none-any.whl (18 kB)\n",
      "Using cached python_dateutil-2.9.0.post0-py2.py3-none-any.whl (229 kB)\n",
      "Using cached pywin32-306-cp311-cp311-win_amd64.whl (9.2 MB)\n",
      "Installing collected packages: pywin32, tornado, pyzmq, python-dateutil, psutil, platformdirs, packaging, nest-asyncio, debugpy, comm, jupyter-core, jupyter-client, ipykernel\n",
      "Successfully installed comm-0.2.2 debugpy-1.8.5 ipykernel-6.29.5 jupyter-client-8.6.2 jupyter-core-5.7.2 nest-asyncio-1.6.0 packaging-24.1 platformdirs-4.2.2 psutil-6.0.0 python-dateutil-2.9.0.post0 pywin32-306 pyzmq-26.1.0 tornado-6.4.1\n"
     ]
    }
   ],
   "source": [
    "!pip install ipython\n",
    "!pip install ipykernel"
   ]
  },
  {
   "cell_type": "code",
   "execution_count": 2,
   "metadata": {},
   "outputs": [
    {
     "name": "stdout",
     "output_type": "stream",
     "text": [
      "Installed kernelspec sdx311env in C:\\Users\\Sharon\\AppData\\Roaming\\jupyter\\kernels\\sdx311env\n"
     ]
    }
   ],
   "source": [
    "!python -m IPython kernel install --user --name=sdx311env"
   ]
  },
  {
   "cell_type": "code",
   "execution_count": 3,
   "metadata": {},
   "outputs": [
    {
     "name": "stdout",
     "output_type": "stream",
     "text": [
      "/c/Users/Sharon/Documents/GitHub/SDX-Internship/sdx311env/Scripts/python\n"
     ]
    }
   ],
   "source": [
    "!which python"
   ]
  },
  {
   "cell_type": "code",
   "execution_count": 4,
   "metadata": {
    "scrolled": true
   },
   "outputs": [
    {
     "name": "stdout",
     "output_type": "stream",
     "text": [
      "Python 3.11.9\n"
     ]
    }
   ],
   "source": [
    "!python --version"
   ]
  },
  {
   "cell_type": "code",
   "execution_count": 5,
   "metadata": {},
   "outputs": [],
   "source": [
    "#!pip list requests"
   ]
  },
  {
   "cell_type": "code",
   "execution_count": 5,
   "metadata": {},
   "outputs": [
    {
     "name": "stdout",
     "output_type": "stream",
     "text": [
      "Collecting requests\n",
      "  Using cached requests-2.32.3-py3-none-any.whl.metadata (4.6 kB)\n",
      "Collecting requests-mock\n",
      "  Using cached requests_mock-1.12.1-py2.py3-none-any.whl.metadata (4.1 kB)\n",
      "Collecting urllib3\n",
      "  Using cached urllib3-2.2.2-py3-none-any.whl.metadata (6.4 kB)\n",
      "Collecting charset-normalizer<4,>=2 (from requests)\n",
      "  Using cached charset_normalizer-3.3.2-cp311-cp311-win_amd64.whl.metadata (34 kB)\n",
      "Collecting idna<4,>=2.5 (from requests)\n",
      "  Using cached idna-3.7-py3-none-any.whl.metadata (9.9 kB)\n",
      "Collecting certifi>=2017.4.17 (from requests)\n",
      "  Using cached certifi-2024.7.4-py3-none-any.whl.metadata (2.2 kB)\n",
      "Using cached requests-2.32.3-py3-none-any.whl (64 kB)\n",
      "Using cached requests_mock-1.12.1-py2.py3-none-any.whl (27 kB)\n",
      "Using cached urllib3-2.2.2-py3-none-any.whl (121 kB)\n",
      "Using cached certifi-2024.7.4-py3-none-any.whl (162 kB)\n",
      "Using cached charset_normalizer-3.3.2-cp311-cp311-win_amd64.whl (99 kB)\n",
      "Using cached idna-3.7-py3-none-any.whl (66 kB)\n",
      "Installing collected packages: urllib3, idna, charset-normalizer, certifi, requests, requests-mock\n",
      "Successfully installed certifi-2024.7.4 charset-normalizer-3.3.2 idna-3.7 requests-2.32.3 requests-mock-1.12.1 urllib3-2.2.2\n"
     ]
    },
    {
     "name": "stderr",
     "output_type": "stream",
     "text": [
      "\n",
      "[notice] A new release of pip is available: 24.0 -> 24.2\n",
      "[notice] To update, run: python.exe -m pip install --upgrade pip\n"
     ]
    }
   ],
   "source": [
    "!pip install requests requests-mock urllib3"
   ]
  },
  {
   "cell_type": "code",
   "execution_count": 1,
   "metadata": {},
   "outputs": [],
   "source": [
    "from sdxlib.client import SDXClient, SDXException\n",
    "import requests\n",
    "from requests_mock.adapter import Adapter"
   ]
  },
  {
   "cell_type": "code",
   "execution_count": 2,
   "metadata": {},
   "outputs": [],
   "source": [
    "#Create a mock adapter\n",
    "adapter = Adapter()"
   ]
  },
  {
   "cell_type": "code",
   "execution_count": 3,
   "metadata": {},
   "outputs": [],
   "source": [
    "client_name = \"Test L2VPN\"\n",
    "client_endpoints = [\n",
    "        {\n",
    "            \"port_id\": \"urn:sdx:port:test-oxp_url:test-node_name:test-port_name\",\n",
    "            \"vlan\": \"100\",\n",
    "        },\n",
    "        {\n",
    "            \"port_id\": \"urn:sdx:port:test-oxp_url:test-node_name:test-port_name2\",\n",
    "            \"vlan\": \"200\",\n",
    "        },\n",
    "]"
   ]
  },
  {
   "cell_type": "code",
   "execution_count": 4,
   "metadata": {},
   "outputs": [
    {
     "data": {
      "text/plain": [
       "<requests_mock.adapter._Matcher at 0x1c0c1583550>"
      ]
     },
     "execution_count": 4,
     "metadata": {},
     "output_type": "execute_result"
    }
   ],
   "source": [
    "# Register mocked responses for each method (replace with your expected responses)\n",
    "# Create L2VPN (201 Created)\n",
    "adapter.register_uri(\n",
    "    \"POST\", \"http://example.com/l2vpn/1.0.0\",\n",
    "    json={\n",
    "        \"name\": client_name,  \n",
    "        \"endpoints\": client_endpoints,  \n",
    "        \"service_id\": \"1234\", \n",
    "    },\n",
    "    status_code=201,\n",
    ")\n",
    "\n",
    "# Update L2VPN (201 Modified)\n",
    "adapter.register_uri(\n",
    "    \"PATCH\", \"http://example.com/l2vpn/1.0.0/1234\",\n",
    "    json={\n",
    "        \"name\": \"new name\",  \n",
    "        \"endpoints\": client_endpoints,  \n",
    "        \"service_id\": \"1234\", \n",
    "    },\n",
    "    status_code=201,\n",
    ")\n",
    "\n",
    "# Retrieve L2VPN (200 OK)\n",
    "adapter.register_uri(\n",
    "    \"GET\", \"http://example.com/l2vpn/1.0.0/1234\",\n",
    "    json={\"service_id\": \"1234\", \"name\": \"My L2VPN\", \"endpoints\": [...]},\n",
    "    status_code=200,\n",
    ")\n",
    "\n",
    "# # Retrieve all L2VPNs (200 OK)\n",
    "# adapter.register_uri(\n",
    "#     \"GET\", \"http://example.com/l2vpn/1.0.0/0\",  # Assuming archived_date is \"0\" for active L2VPNs\n",
    "#     json={\"service_id1\": {\"name\": \"L2VPN 1\"}, \"service_id2\": {\"name\": \"L2VPN 2\"}},\n",
    "#     status_code=200,\n",
    "# )\n",
    "\n",
    "# # Delete L2VPN (201 Deleted)\n",
    "# adapter.register_uri(\n",
    "#     \"DELETE\", \"http://example.com/l2vpn/1.0.0/1234\",\n",
    "#     json={\"message\": \"L2VPN deleted successfully\"},\n",
    "#     status_code=201,\n",
    "# )"
   ]
  },
  {
   "cell_type": "code",
   "execution_count": 5,
   "metadata": {},
   "outputs": [],
   "source": [
    "# Set the adapter for requests library\n",
    "session = requests.Session()\n",
    "session.mount(\"http://example.com\", adapter)"
   ]
  },
  {
   "cell_type": "code",
   "execution_count": 6,
   "metadata": {},
   "outputs": [],
   "source": [
    "# # Use the mocked session for your SDXClient methods\n",
    "# client = SDXClient(base_url=\"http://example.com\")  # Replace with your base_url"
   ]
  },
  {
   "cell_type": "code",
   "execution_count": 7,
   "metadata": {},
   "outputs": [],
   "source": [
    "client = SDXClient(base_url=\"http://example.com\", name=client_name, endpoints=client_endpoints)"
   ]
  },
  {
   "cell_type": "code",
   "execution_count": 8,
   "metadata": {},
   "outputs": [
    {
     "name": "stdout",
     "output_type": "stream",
     "text": [
      "L2VPN creation request sent to http://example.com. It may take several seconds to receive a response.\n",
      "http://example.com\n"
     ]
    }
   ],
   "source": [
    "# Create L2VPN\n",
    "try:\n",
    "  response = client.create_l2vpn()\n",
    "  #print(f\"L2VPN created with service ID: {response['service_id']}\")\n",
    "except SDXException as e:\n",
    "  print(f\"Error creating L2VPN: {e}\")"
   ]
  },
  {
   "cell_type": "code",
   "execution_count": 9,
   "metadata": {},
   "outputs": [],
   "source": [
    "# Update L2VPN - I need to try unittest\n",
    "# try:\n",
    "#   response = client.update_l2vpn(service_id=\"1234\", attribute = \"name\", value = \"new name\")\n",
    "#   #print(f\"Retrieved L2VPN details: {response}\")\n",
    "# except SDXException as e:\n",
    "#   print(f\"Error retrieving L2VPN: {e}\")"
   ]
  },
  {
   "cell_type": "code",
   "execution_count": 10,
   "metadata": {},
   "outputs": [
    {
     "name": "stdout",
     "output_type": "stream",
     "text": [
      "Error retrieving L2VPN: Error 500\n"
     ]
    }
   ],
   "source": [
    "# Retrieve L2VPN\n",
    "try:\n",
    "  response = client.retrieve_l2vpn(service_id=\"1234\")\n",
    "  print(f\"Retrieved L2VPN details: {response}\")\n",
    "except SDXException as e:\n",
    "  print(f\"Error retrieving L2VPN: {e}\")"
   ]
  },
  {
   "cell_type": "code",
   "execution_count": null,
   "metadata": {},
   "outputs": [],
   "source": [
    "# # Retrieve all L2VPNs\n",
    "# try:\n",
    "#   response = client.retrieve_all_l2vpns()\n",
    "#   print(f\"L2VPN list: {response}\")\n",
    "# except SDXException as e:\n",
    "#   print(f\"Error retrieving L2VPNs: {e}\")"
   ]
  },
  {
   "cell_type": "code",
   "execution_count": null,
   "metadata": {},
   "outputs": [],
   "source": [
    "# # Delete L2VPN\n",
    "# try:\n",
    "#   client.delete_l2vpn(service_id=\"1234\")\n",
    "#   print(f\"L2VPN w|ith service ID 1234 deleted successfully\")\n",
    "# except SDXException as e:\n",
    "#   print(f\"Error deleting L2VPN: {e}\")"
   ]
  },
  {
   "cell_type": "code",
   "execution_count": null,
   "metadata": {},
   "outputs": [],
   "source": []
  }
 ],
 "metadata": {
  "kernelspec": {
   "display_name": "sdx311env",
   "language": "python",
   "name": "sdx311env"
  },
  "language_info": {
   "codemirror_mode": {
    "name": "ipython",
    "version": 3
   },
   "file_extension": ".py",
   "mimetype": "text/x-python",
   "name": "python",
   "nbconvert_exporter": "python",
   "pygments_lexer": "ipython3",
   "version": "3.9.7"
  }
 },
 "nbformat": 4,
 "nbformat_minor": 2
}
