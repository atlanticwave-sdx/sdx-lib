{
 "cells": [
  {
   "cell_type": "markdown",
   "metadata": {
    "tags": []
   },
   "source": [
    "# AtlanticWave SDX Cross-Domain Orchestration and Provisioning for Facilities and R&E Networks user interfaces with the SDXLib in Fabric Jupyter Notebook\n",
    "\n",
    "\n",
    "\n"
   ]
  },
  {
   "cell_type": "markdown",
   "metadata": {},
   "source": [
    "# Import SDXLIB and FABLib Libraries"
   ]
  },
  {
   "cell_type": "code",
   "execution_count": null,
   "metadata": {},
   "outputs": [],
   "source": [
    "from pprint import pprint\n",
    "from sdxlib.sdx_token_auth import TokenAuthentication\n",
    "from sdxlib.sdx_client import SDXClient\n",
    "from sdxlib.sdx_exception import SDXException"
   ]
  },
  {
   "cell_type": "markdown",
   "metadata": {},
   "source": [
    "# Instantiate the TokenAuthentication class with the correct token file path (if needed)"
   ]
  },
  {
   "cell_type": "code",
   "execution_count": null,
   "metadata": {},
   "outputs": [],
   "source": [
    "# Read token from Jupyter Hub environment\n",
    "import os\n",
    "\n",
    "# token_file_path = \"expired_id_token.json\"\n",
    "token_file_path = os.getenv(\"FABRIC_TOKEN_LOCATION\", \"/home/fabric/.tokens.json\")\n",
    "\n",
    "# Specify proxy_host\n",
    "proxy_hostname = \"sdxapi.atlanticwave-sdx.ai\"\n",
    "\n",
    "# Specify proxy_port\n",
    "proxy_port = \"443\"\n",
    "\n",
    "# Specify the endpoint\n",
    "endpoint = \"sax.net/sdx/topology\"  # Replace with your desired endpoint\n",
    "\n",
    "# Specify the name of the slice (provided during initialization)\n",
    "slice_name = \"Slice-AWSDX\"\n",
    "\n",
    "# Instantiate the TokenAuthentication class with the correct token file path and endpoint\n",
    "token_auth = TokenAuthentication(\n",
    "    token_path=token_file_path,\n",
    "    proxy_hostname=proxy_hostname,\n",
    "    proxy_port=proxy_port,\n",
    "    endpoint=endpoint,\n",
    "    slice_name=slice_name)"
   ]
  },
  {
   "cell_type": "markdown",
   "metadata": {},
   "source": [
    "# Load the token from the file and Validate the token"
   ]
  },
  {
   "cell_type": "code",
   "execution_count": null,
   "metadata": {},
   "outputs": [],
   "source": [
    "# Load the token from the file\n",
    "token_auth.load_token()\n",
    "\n",
    "# Print the decoded token for debugging (optional)\n",
    "pprint(token_auth.token_decoded)\n",
    "\n",
    "# Validate the token\n",
    "pprint(token_auth.validate_token())"
   ]
  },
  {
   "cell_type": "markdown",
   "metadata": {},
   "source": [
    "## Show the Slice's Attributes"
   ]
  },
  {
   "cell_type": "code",
   "execution_count": null,
   "metadata": {
    "tags": []
   },
   "outputs": [],
   "source": [
    "pprint(token_auth.show_slice())"
   ]
  },
  {
   "cell_type": "markdown",
   "metadata": {
    "tags": []
   },
   "source": [
    "## Configure the Subnet"
   ]
  },
  {
   "cell_type": "code",
   "execution_count": null,
   "metadata": {
    "tags": []
   },
   "outputs": [],
   "source": [
    "from ipaddress import ip_address, IPv4Address, IPv6Address, IPv4Network, IPv6Network\n",
    "\n",
    "# Configure the interface(s) of the VM(s) with designated subnet\n",
    "subnet = IPv4Network(\"192.168.1.0/24\")\n",
    "available_ips = list(subnet)[2:]"
   ]
  },
  {
   "cell_type": "markdown",
   "metadata": {
    "tags": []
   },
   "source": [
    "## Configure the Node"
   ]
  },
  {
   "cell_type": "code",
   "execution_count": null,
   "metadata": {
    "tags": []
   },
   "outputs": [],
   "source": [
    "node1 = slice.get_node(name=f\"Node1\")        \n",
    "node1_iface = node1.get_interface(network_name=f'net_facility_port') \n",
    "node1_addr = available_ips.pop(99)\n",
    "print(f\"node1_addr: {node1_addr}\")\n",
    "node1_iface.ip_addr_add(addr=node1_addr, subnet=subnet)\n",
    "\n",
    "stdout, stderr = node1.execute(f'ip addr show {node1_iface.get_os_interface()}')\n",
    "\n",
    "stdout, stderr = node1.execute(f'sudo ip link set dev {node1_iface.get_physical_os_interface_name()} up')\n",
    "\n",
    "stdout, stderr = node1.execute(f'sudo ip link set dev {node1_iface.get_os_interface()} up')"
   ]
  },
  {
   "cell_type": "markdown",
   "metadata": {},
   "source": [
    "## List Nodes"
   ]
  },
  {
   "cell_type": "code",
   "execution_count": null,
   "metadata": {},
   "outputs": [],
   "source": [
    "slice.list_nodes()\n"
   ]
  },
  {
   "cell_type": "markdown",
   "metadata": {},
   "source": [
    "## List Networks"
   ]
  },
  {
   "cell_type": "code",
   "execution_count": null,
   "metadata": {},
   "outputs": [],
   "source": [
    "slice.list_networks()\n"
   ]
  },
  {
   "cell_type": "markdown",
   "metadata": {},
   "source": [
    "## List Interfaces"
   ]
  },
  {
   "cell_type": "code",
   "execution_count": null,
   "metadata": {},
   "outputs": [],
   "source": [
    "slice.list_interfaces()"
   ]
  },
  {
   "cell_type": "markdown",
   "metadata": {},
   "source": [
    "## Ping a node on the Amlight Facility Port side"
   ]
  },
  {
   "cell_type": "code",
   "execution_count": null,
   "metadata": {
    "tags": []
   },
   "outputs": [],
   "source": [
    "stdout, stderr = node1.execute(f'ping -c 5 192.168.1.10')   "
   ]
  },
  {
   "cell_type": "markdown",
   "metadata": {},
   "source": [
    "## Assign SDX Controller URL"
   ]
  },
  {
   "cell_type": "code",
   "execution_count": null,
   "metadata": {},
   "outputs": [],
   "source": [
    "url = \"http://controller.atlanticwave-sdx.net:8080/SDX-Controller\""
   ]
  },
  {
   "cell_type": "markdown",
   "metadata": {},
   "source": [
    "## List SDX Domain Nodes and Ports\n"
   ]
  },
  {
   "cell_type": "code",
   "execution_count": null,
   "metadata": {},
   "outputs": [],
   "source": [
    "client=SDXClient(url)\n",
    "client.get_available_ports()"
   ]
  },
  {
   "cell_type": "markdown",
   "metadata": {},
   "source": [
    "## Create SDX Layer 2 VPN"
   ]
  },
  {
   "cell_type": "markdown",
   "metadata": {},
   "source": [
    "The below specification is the minimum information needed to create the layer 2 VPN. "
   ]
  },
  {
   "cell_type": "code",
   "execution_count": null,
   "metadata": {},
   "outputs": [],
   "source": [
    "client_name = \"Test SDX SC24 L2VPN\"\n",
    "client_endpoints = [\n",
    "    {\"port_id\": \"urn:sdx:port:amlight.net:MIA-MI1-SW17:7\", \"vlan\": \"4015\"}, \n",
    "    {\"port_id\": \"urn:sdx:port:amlight.net:MIA-MI1-SW15:9\", \"vlan\": \"4015\"},\n",
    "]\n",
    "client = SDXClient(url, client_name, client_endpoints)"
   ]
  },
  {
   "cell_type": "code",
   "execution_count": null,
   "metadata": {},
   "outputs": [],
   "source": [
    "try:\n",
    "    response = client.create_l2vpn()  \n",
    "    print(\"L2VPN creation successful!\")\n",
    "    pprint(response)\n",
    "except SDXException as e:\n",
    "    print(f\"L2VPN creation failed: {e}\") "
   ]
  },
  {
   "cell_type": "markdown",
   "metadata": {},
   "source": [
    "## List All SDX L2VPNs"
   ]
  },
  {
   "cell_type": "markdown",
   "metadata": {},
   "source": [
    "Both of the list methods have the option of query results being listed as a DataFrame(default) or as a JSON by passing the optional argument format='json'."
   ]
  },
  {
   "cell_type": "code",
   "execution_count": null,
   "metadata": {
    "scrolled": true
   },
   "outputs": [],
   "source": [
    "client.get_all_l2vpns()"
   ]
  },
  {
   "cell_type": "markdown",
   "metadata": {},
   "source": [
    "## Show created L2VPN Details"
   ]
  },
  {
   "cell_type": "code",
   "execution_count": null,
   "metadata": {
    "scrolled": true
   },
   "outputs": [],
   "source": [
    "client.get_l2vpn(service_id = response['service_id'])"
   ]
  },
  {
   "cell_type": "markdown",
   "metadata": {
    "tags": []
   },
   "source": [
    "## Ping a node on the Amlight Facility Port side"
   ]
  },
  {
   "cell_type": "code",
   "execution_count": null,
   "metadata": {
    "tags": []
   },
   "outputs": [],
   "source": [
    "stdout, stderr = node1.execute(f'ping -c 5 192.168.1.10')   "
   ]
  },
  {
   "cell_type": "markdown",
   "metadata": {},
   "source": [
    "## Delete created SDX L2VPN"
   ]
  },
  {
   "cell_type": "markdown",
   "metadata": {},
   "source": [
    "Please make certain to delete when you are finished. "
   ]
  },
  {
   "cell_type": "code",
   "execution_count": null,
   "metadata": {},
   "outputs": [],
   "source": [
    "client.delete_l2vpn(service_id = response['service_id'])"
   ]
  },
  {
   "cell_type": "markdown",
   "metadata": {
    "tags": []
   },
   "source": [
    "## Ping a node on the Amlight Facility Port side"
   ]
  },
  {
   "cell_type": "code",
   "execution_count": null,
   "metadata": {
    "tags": []
   },
   "outputs": [],
   "source": [
    "stdout, stderr = node1.execute(f'ping -c 5 192.168.1.10')   "
   ]
  }
 ],
 "metadata": {
  "kernelspec": {
   "display_name": "Python 3 (ipykernel)",
   "language": "python",
   "name": "python3"
  },
  "language_info": {
   "codemirror_mode": {
    "name": "ipython",
    "version": 3
   },
   "file_extension": ".py",
   "mimetype": "text/x-python",
   "name": "python",
   "nbconvert_exporter": "python",
   "pygments_lexer": "ipython3",
   "version": "3.11.9"
  }
 },
 "nbformat": 4,
 "nbformat_minor": 4
}
