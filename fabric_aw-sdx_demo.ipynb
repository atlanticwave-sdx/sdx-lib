{
 "cells": [
  {
   "cell_type": "markdown",
   "metadata": {
    "tags": []
   },
   "source": [
    "# Create a FABRIC Facility Port\n",
    "\n",
    "This notebook shows how to use create an facility port to connect your FABRIC experiment to an external facility. \n",
    "\n"
   ]
  },
  {
   "cell_type": "markdown",
   "metadata": {
    "tags": []
   },
   "source": [
    "## Import the FABlib Library"
   ]
  },
  {
   "cell_type": "code",
   "execution_count": 1,
   "metadata": {
    "tags": []
   },
   "outputs": [],
   "source": [
    "from fabrictestbed_extensions.fablib.fablib import FablibManager as fablib_manager\n",
    "\n",
    "fablib = fablib_manager()"
   ]
  },
  {
   "cell_type": "markdown",
   "metadata": {
    "tags": []
   },
   "source": [
    "## Create the Experiment Slice\n",
    "\n",
    "The following creates a single node with basic compute capabilities. You build a slice by creating a new slice and adding resources to the slice. After you build the slice, you must submit a request for the slice to be instantiated.   \n",
    "\n",
    "By default, the submit function will block until the node is ready and will display the progress of your slice being built.\n",
    "\n"
   ]
  },
  {
   "cell_type": "code",
   "execution_count": 2,
   "metadata": {},
   "outputs": [],
   "source": [
    "slice_name = \"Slice-AWSDX\"\n",
    "\n",
    "facility_port_site='FIU'"
   ]
  },
  {
   "cell_type": "markdown",
   "metadata": {},
   "source": [
    "### Facility port info"
   ]
  },
  {
   "cell_type": "markdown",
   "metadata": {},
   "source": [
    "#### Find the facility ports on the site\n",
    "List the facility ports\n",
    "- Facility Port Name\n",
    "- Available VLAN range\n",
    "- Currently allocated VLAN range"
   ]
  },
  {
   "cell_type": "code",
   "execution_count": 3,
   "metadata": {},
   "outputs": [
    {
     "data": {
      "text/html": [
       "<style type=\"text/css\">\n",
       "#T_5515a caption {\n",
       "  text-align: center;\n",
       "  font-size: 150%;\n",
       "  caption-side: top;\n",
       "}\n",
       "#T_5515a th {\n",
       "  text-align: left;\n",
       "}\n",
       "#T_5515a tr:nth-child(even) {\n",
       "  background: #ffffff;\n",
       "  color: #231f20;\n",
       "}\n",
       "#T_5515a tr:nth-child(odd) {\n",
       "  background: #dbf3ff;\n",
       "  color: #231f20;\n",
       "}\n",
       "#T_5515a .level0 {\n",
       "  border: 1px black solid !important;\n",
       "  background: #ffffff;\n",
       "  color: #231f20;\n",
       "}\n",
       "#T_5515a_row0_col0, #T_5515a_row0_col1, #T_5515a_row0_col2, #T_5515a_row0_col3, #T_5515a_row0_col4, #T_5515a_row0_col5, #T_5515a_row0_col6, #T_5515a_row0_col7, #T_5515a_row1_col0, #T_5515a_row1_col1, #T_5515a_row1_col2, #T_5515a_row1_col3, #T_5515a_row1_col4, #T_5515a_row1_col5, #T_5515a_row1_col6, #T_5515a_row1_col7 {\n",
       "  text-align: left;\n",
       "  border: 1px #231f20 solid !important;\n",
       "  overwrite: False;\n",
       "}\n",
       "</style>\n",
       "<table id=\"T_5515a\">\n",
       "  <caption>Facility Ports</caption>\n",
       "  <thead>\n",
       "    <tr>\n",
       "      <th id=\"T_5515a_level0_col0\" class=\"col_heading level0 col0\" >Name</th>\n",
       "      <th id=\"T_5515a_level0_col1\" class=\"col_heading level0 col1\" >Site</th>\n",
       "      <th id=\"T_5515a_level0_col2\" class=\"col_heading level0 col2\" >Interface Name</th>\n",
       "      <th id=\"T_5515a_level0_col3\" class=\"col_heading level0 col3\" >VLAN Range</th>\n",
       "      <th id=\"T_5515a_level0_col4\" class=\"col_heading level0 col4\" >Allocated VLAN Range</th>\n",
       "      <th id=\"T_5515a_level0_col5\" class=\"col_heading level0 col5\" >Local Name</th>\n",
       "      <th id=\"T_5515a_level0_col6\" class=\"col_heading level0 col6\" >Device Name</th>\n",
       "      <th id=\"T_5515a_level0_col7\" class=\"col_heading level0 col7\" >Region</th>\n",
       "    </tr>\n",
       "  </thead>\n",
       "  <tbody>\n",
       "    <tr>\n",
       "      <td id=\"T_5515a_row0_col0\" class=\"data row0 col0\" >AmLight-EXP-Layer2-FIU</td>\n",
       "      <td id=\"T_5515a_row0_col1\" class=\"data row0 col1\" >FIU</td>\n",
       "      <td id=\"T_5515a_row0_col2\" class=\"data row0 col2\" >port+fiu-data-sw:HundredGigE0/0/0/23:facility+AmLight-EXP-Layer2-FIU-int</td>\n",
       "      <td id=\"T_5515a_row0_col3\" class=\"data row0 col3\" >['4000-4019']</td>\n",
       "      <td id=\"T_5515a_row0_col4\" class=\"data row0 col4\" >N/A</td>\n",
       "      <td id=\"T_5515a_row0_col5\" class=\"data row0 col5\" >N/A</td>\n",
       "      <td id=\"T_5515a_row0_col6\" class=\"data row0 col6\" >N/A</td>\n",
       "      <td id=\"T_5515a_row0_col7\" class=\"data row0 col7\" >N/A</td>\n",
       "    </tr>\n",
       "    <tr>\n",
       "      <td id=\"T_5515a_row1_col0\" class=\"data row1 col0\" >AmLight-Layer3-FIU</td>\n",
       "      <td id=\"T_5515a_row1_col1\" class=\"data row1 col1\" >FIU</td>\n",
       "      <td id=\"T_5515a_row1_col2\" class=\"data row1 col2\" >port+fiu-data-sw:HundredGigE0/0/0/23:facility+AmLight-Layer3-FIU-int</td>\n",
       "      <td id=\"T_5515a_row1_col3\" class=\"data row1 col3\" >['3001-3008']</td>\n",
       "      <td id=\"T_5515a_row1_col4\" class=\"data row1 col4\" >N/A</td>\n",
       "      <td id=\"T_5515a_row1_col5\" class=\"data row1 col5\" >N/A</td>\n",
       "      <td id=\"T_5515a_row1_col6\" class=\"data row1 col6\" >N/A</td>\n",
       "      <td id=\"T_5515a_row1_col7\" class=\"data row1 col7\" >N/A</td>\n",
       "    </tr>\n",
       "  </tbody>\n",
       "</table>\n"
      ],
      "text/plain": [
       "<pandas.io.formats.style.Styler at 0x7e3d701f3f10>"
      ]
     },
     "metadata": {},
     "output_type": "display_data"
    }
   ],
   "source": [
    "cell_output = 'pandas'\n",
    "output_list = fablib.list_facility_ports(filter_function=lambda x: x['site_name'] == facility_port_site, output=cell_output)"
   ]
  },
  {
   "cell_type": "markdown",
   "metadata": {},
   "source": [
    "#### Select the Facility Port on the site"
   ]
  },
  {
   "cell_type": "code",
   "execution_count": 4,
   "metadata": {},
   "outputs": [],
   "source": [
    "facility_port_name = 'AmLight-EXP-Layer2-FIU'\n",
    "\n",
    "facility_port_vlan='4015'"
   ]
  },
  {
   "cell_type": "markdown",
   "metadata": {},
   "source": [
    "### Create Slice"
   ]
  },
  {
   "cell_type": "markdown",
   "metadata": {},
   "source": [
    "Create new_slice and add node(s) to the FABRIC topology"
   ]
  },
  {
   "cell_type": "code",
   "execution_count": 5,
   "metadata": {
    "tags": []
   },
   "outputs": [],
   "source": [
    "slice = fablib.new_slice(name=slice_name)\n",
    "\n",
    "# Example: One VM on FABRIC-STAR with a NIC - sharedNIC (basic) or dedicated smartNIC (ConnectX_6)\n",
    "node = slice.add_node(name=f\"Node1\", site='STAR')\n",
    "\n",
    "node_iface = node.add_component(model='NIC_Basic', name=\"nic1\").get_interfaces()[0]"
   ]
  },
  {
   "cell_type": "markdown",
   "metadata": {},
   "source": [
    "Add facility port to the network service configuration along with the node interface(s)"
   ]
  },
  {
   "cell_type": "code",
   "execution_count": 6,
   "metadata": {},
   "outputs": [],
   "source": [
    "facility_port = slice.add_facility_port(name=facility_port_name, site=facility_port_site, vlan=facility_port_vlan)\n",
    "facility_port_interface =facility_port.get_interfaces()[0]\n",
    "\n",
    "net = slice.add_l2network(name=f'net_facility_port', interfaces=[])\n",
    "net.add_interface(node_iface)\n",
    "net.add_interface(facility_port_interface)"
   ]
  },
  {
   "cell_type": "code",
   "execution_count": 7,
   "metadata": {},
   "outputs": [
    {
     "name": "stdout",
     "output_type": "stream",
     "text": [
      "facility_port.get_site(): FIU\n",
      "facility_port.get_fim_interface(): {'node_id': '5f5e45b8-4a18-406f-84bb-57dbc05523df', 'name': 'AmLight-EXP-Layer2-FIU', 'site': 'FIU', 'type': 'Facility'}\n"
     ]
    }
   ],
   "source": [
    "print(f\"facility_port.get_site(): {facility_port.get_site()}\")\n",
    "print(f\"facility_port.get_fim_interface(): {facility_port.get_fim_interface()}\")"
   ]
  },
  {
   "cell_type": "markdown",
   "metadata": {},
   "source": [
    "Submit slice request to create"
   ]
  },
  {
   "cell_type": "code",
   "execution_count": 8,
   "metadata": {},
   "outputs": [
    {
     "name": "stdout",
     "output_type": "stream",
     "text": [
      "\n",
      "Retry: 13, Time: 296 sec\n"
     ]
    },
    {
     "data": {
      "text/html": [
       "<style type=\"text/css\">\n",
       "#T_5a7a0 tr:nth-child(even) {\n",
       "  background: #dbf3ff;\n",
       "  color: #231f20;\n",
       "}\n",
       "#T_5a7a0 tr:nth-child(odd) {\n",
       "  background: #ffffff;\n",
       "  color: #231f20;\n",
       "}\n",
       "#T_5a7a0 caption {\n",
       "  text-align: center;\n",
       "  font-size: 150%;\n",
       "}\n",
       "#T_5a7a0_row0_col0, #T_5a7a0_row0_col1, #T_5a7a0_row1_col0, #T_5a7a0_row1_col1, #T_5a7a0_row2_col0, #T_5a7a0_row2_col1, #T_5a7a0_row3_col0, #T_5a7a0_row3_col1, #T_5a7a0_row4_col0, #T_5a7a0_row4_col1, #T_5a7a0_row5_col0 {\n",
       "  text-align: left;\n",
       "  border: 1px #231f20 solid !important;\n",
       "  overwrite: False;\n",
       "  background-color: ;\n",
       "}\n",
       "#T_5a7a0_row5_col1 {\n",
       "  text-align: left;\n",
       "  border: 1px #231f20 solid !important;\n",
       "  overwrite: False;\n",
       "  background-color: #c3ffc4;\n",
       "}\n",
       "</style>\n",
       "<table id=\"T_5a7a0\">\n",
       "  <caption>Slice</caption>\n",
       "  <thead>\n",
       "  </thead>\n",
       "  <tbody>\n",
       "    <tr>\n",
       "      <td id=\"T_5a7a0_row0_col0\" class=\"data row0 col0\" >ID</td>\n",
       "      <td id=\"T_5a7a0_row0_col1\" class=\"data row0 col1\" >f42fb91f-e866-42c1-9630-846ff5fd0836</td>\n",
       "    </tr>\n",
       "    <tr>\n",
       "      <td id=\"T_5a7a0_row1_col0\" class=\"data row1 col0\" >Name</td>\n",
       "      <td id=\"T_5a7a0_row1_col1\" class=\"data row1 col1\" >Slice-AWSDX</td>\n",
       "    </tr>\n",
       "    <tr>\n",
       "      <td id=\"T_5a7a0_row2_col0\" class=\"data row2 col0\" >Lease Expiration (UTC)</td>\n",
       "      <td id=\"T_5a7a0_row2_col1\" class=\"data row2 col1\" >2024-11-01 14:05:56 +0000</td>\n",
       "    </tr>\n",
       "    <tr>\n",
       "      <td id=\"T_5a7a0_row3_col0\" class=\"data row3 col0\" >Lease Start (UTC)</td>\n",
       "      <td id=\"T_5a7a0_row3_col1\" class=\"data row3 col1\" >2024-10-31 14:05:56 +0000</td>\n",
       "    </tr>\n",
       "    <tr>\n",
       "      <td id=\"T_5a7a0_row4_col0\" class=\"data row4 col0\" >Project ID</td>\n",
       "      <td id=\"T_5a7a0_row4_col1\" class=\"data row4 col1\" >1ecd9d6a-7701-40fa-b78e-b2293c9526ed</td>\n",
       "    </tr>\n",
       "    <tr>\n",
       "      <td id=\"T_5a7a0_row5_col0\" class=\"data row5 col0\" >State</td>\n",
       "      <td id=\"T_5a7a0_row5_col1\" class=\"data row5 col1\" >StableOK</td>\n",
       "    </tr>\n",
       "  </tbody>\n",
       "</table>\n"
      ],
      "text/plain": [
       "<pandas.io.formats.style.Styler at 0x7e3d3a87ec50>"
      ]
     },
     "metadata": {},
     "output_type": "display_data"
    },
    {
     "data": {
      "text/html": [
       "<style type=\"text/css\">\n",
       "#T_c6c04 caption {\n",
       "  text-align: center;\n",
       "  font-size: 150%;\n",
       "  caption-side: top;\n",
       "}\n",
       "#T_c6c04 th {\n",
       "  text-align: left;\n",
       "}\n",
       "#T_c6c04 tr:nth-child(even) {\n",
       "  background: #ffffff;\n",
       "  color: #231f20;\n",
       "}\n",
       "#T_c6c04 tr:nth-child(odd) {\n",
       "  background: #dbf3ff;\n",
       "  color: #231f20;\n",
       "}\n",
       "#T_c6c04 .level0 {\n",
       "  border: 1px black solid !important;\n",
       "  background: #ffffff;\n",
       "  color: #231f20;\n",
       "}\n",
       "#T_c6c04_row0_col0, #T_c6c04_row0_col1, #T_c6c04_row0_col2, #T_c6c04_row0_col3, #T_c6c04_row0_col4, #T_c6c04_row0_col5, #T_c6c04_row0_col6, #T_c6c04_row0_col7, #T_c6c04_row0_col8, #T_c6c04_row0_col9, #T_c6c04_row0_col10, #T_c6c04_row0_col13, #T_c6c04_row0_col14, #T_c6c04_row0_col15 {\n",
       "  text-align: left;\n",
       "  border: 1px #231f20 solid !important;\n",
       "  overwrite: False;\n",
       "}\n",
       "#T_c6c04_row0_col11 {\n",
       "  text-align: left;\n",
       "  border: 1px #231f20 solid !important;\n",
       "  overwrite: False;\n",
       "  background-color: #c3ffc4;\n",
       "}\n",
       "#T_c6c04_row0_col12 {\n",
       "  text-align: left;\n",
       "  border: 1px #231f20 solid !important;\n",
       "  overwrite: False;\n",
       "  background-color: ;\n",
       "}\n",
       "</style>\n",
       "<table id=\"T_c6c04\">\n",
       "  <caption>Nodes</caption>\n",
       "  <thead>\n",
       "    <tr>\n",
       "      <th id=\"T_c6c04_level0_col0\" class=\"col_heading level0 col0\" >ID</th>\n",
       "      <th id=\"T_c6c04_level0_col1\" class=\"col_heading level0 col1\" >Name</th>\n",
       "      <th id=\"T_c6c04_level0_col2\" class=\"col_heading level0 col2\" >Cores</th>\n",
       "      <th id=\"T_c6c04_level0_col3\" class=\"col_heading level0 col3\" >RAM</th>\n",
       "      <th id=\"T_c6c04_level0_col4\" class=\"col_heading level0 col4\" >Disk</th>\n",
       "      <th id=\"T_c6c04_level0_col5\" class=\"col_heading level0 col5\" >Image</th>\n",
       "      <th id=\"T_c6c04_level0_col6\" class=\"col_heading level0 col6\" >Image Type</th>\n",
       "      <th id=\"T_c6c04_level0_col7\" class=\"col_heading level0 col7\" >Host</th>\n",
       "      <th id=\"T_c6c04_level0_col8\" class=\"col_heading level0 col8\" >Site</th>\n",
       "      <th id=\"T_c6c04_level0_col9\" class=\"col_heading level0 col9\" >Username</th>\n",
       "      <th id=\"T_c6c04_level0_col10\" class=\"col_heading level0 col10\" >Management IP</th>\n",
       "      <th id=\"T_c6c04_level0_col11\" class=\"col_heading level0 col11\" >State</th>\n",
       "      <th id=\"T_c6c04_level0_col12\" class=\"col_heading level0 col12\" >Error</th>\n",
       "      <th id=\"T_c6c04_level0_col13\" class=\"col_heading level0 col13\" >SSH Command</th>\n",
       "      <th id=\"T_c6c04_level0_col14\" class=\"col_heading level0 col14\" >Public SSH Key File</th>\n",
       "      <th id=\"T_c6c04_level0_col15\" class=\"col_heading level0 col15\" >Private SSH Key File</th>\n",
       "    </tr>\n",
       "  </thead>\n",
       "  <tbody>\n",
       "    <tr>\n",
       "      <td id=\"T_c6c04_row0_col0\" class=\"data row0 col0\" >ac569b3d-53c8-42a4-b378-31d4a42ecdc4</td>\n",
       "      <td id=\"T_c6c04_row0_col1\" class=\"data row0 col1\" >Node1</td>\n",
       "      <td id=\"T_c6c04_row0_col2\" class=\"data row0 col2\" >2</td>\n",
       "      <td id=\"T_c6c04_row0_col3\" class=\"data row0 col3\" >8</td>\n",
       "      <td id=\"T_c6c04_row0_col4\" class=\"data row0 col4\" >10</td>\n",
       "      <td id=\"T_c6c04_row0_col5\" class=\"data row0 col5\" >default_rocky_8</td>\n",
       "      <td id=\"T_c6c04_row0_col6\" class=\"data row0 col6\" >qcow2</td>\n",
       "      <td id=\"T_c6c04_row0_col7\" class=\"data row0 col7\" >star-w5.fabric-testbed.net</td>\n",
       "      <td id=\"T_c6c04_row0_col8\" class=\"data row0 col8\" >STAR</td>\n",
       "      <td id=\"T_c6c04_row0_col9\" class=\"data row0 col9\" >rocky</td>\n",
       "      <td id=\"T_c6c04_row0_col10\" class=\"data row0 col10\" >2001:400:a100:3030:f816:3eff:fef1:5de9</td>\n",
       "      <td id=\"T_c6c04_row0_col11\" class=\"data row0 col11\" >Active</td>\n",
       "      <td id=\"T_c6c04_row0_col12\" class=\"data row0 col12\" ></td>\n",
       "      <td id=\"T_c6c04_row0_col13\" class=\"data row0 col13\" >ssh -i /home/fabric/work/fabric_config/slice_key -F /home/fabric/work/fabric_config/ssh_config rocky@2001:400:a100:3030:f816:3eff:fef1:5de9</td>\n",
       "      <td id=\"T_c6c04_row0_col14\" class=\"data row0 col14\" >/home/fabric/work/fabric_config/slice_key.pub</td>\n",
       "      <td id=\"T_c6c04_row0_col15\" class=\"data row0 col15\" >/home/fabric/work/fabric_config/slice_key</td>\n",
       "    </tr>\n",
       "  </tbody>\n",
       "</table>\n"
      ],
      "text/plain": [
       "<pandas.io.formats.style.Styler at 0x7e3d70140d10>"
      ]
     },
     "metadata": {},
     "output_type": "display_data"
    },
    {
     "data": {
      "text/html": [
       "<style type=\"text/css\">\n",
       "#T_e5755 caption {\n",
       "  text-align: center;\n",
       "  font-size: 150%;\n",
       "  caption-side: top;\n",
       "}\n",
       "#T_e5755 th {\n",
       "  text-align: left;\n",
       "}\n",
       "#T_e5755 tr:nth-child(even) {\n",
       "  background: #ffffff;\n",
       "  color: #231f20;\n",
       "}\n",
       "#T_e5755 tr:nth-child(odd) {\n",
       "  background: #dbf3ff;\n",
       "  color: #231f20;\n",
       "}\n",
       "#T_e5755 .level0 {\n",
       "  border: 1px black solid !important;\n",
       "  background: #ffffff;\n",
       "  color: #231f20;\n",
       "}\n",
       "#T_e5755_row0_col0, #T_e5755_row0_col1, #T_e5755_row0_col2, #T_e5755_row0_col3, #T_e5755_row0_col4, #T_e5755_row0_col5, #T_e5755_row0_col6 {\n",
       "  text-align: left;\n",
       "  border: 1px #231f20 solid !important;\n",
       "  overwrite: False;\n",
       "}\n",
       "#T_e5755_row0_col7 {\n",
       "  text-align: left;\n",
       "  border: 1px #231f20 solid !important;\n",
       "  overwrite: False;\n",
       "  background-color: #c3ffc4;\n",
       "}\n",
       "#T_e5755_row0_col8 {\n",
       "  text-align: left;\n",
       "  border: 1px #231f20 solid !important;\n",
       "  overwrite: False;\n",
       "  background-color: ;\n",
       "}\n",
       "</style>\n",
       "<table id=\"T_e5755\">\n",
       "  <caption>Networks</caption>\n",
       "  <thead>\n",
       "    <tr>\n",
       "      <th id=\"T_e5755_level0_col0\" class=\"col_heading level0 col0\" >ID</th>\n",
       "      <th id=\"T_e5755_level0_col1\" class=\"col_heading level0 col1\" >Name</th>\n",
       "      <th id=\"T_e5755_level0_col2\" class=\"col_heading level0 col2\" >Layer</th>\n",
       "      <th id=\"T_e5755_level0_col3\" class=\"col_heading level0 col3\" >Type</th>\n",
       "      <th id=\"T_e5755_level0_col4\" class=\"col_heading level0 col4\" >Site</th>\n",
       "      <th id=\"T_e5755_level0_col5\" class=\"col_heading level0 col5\" >Subnet</th>\n",
       "      <th id=\"T_e5755_level0_col6\" class=\"col_heading level0 col6\" >Gateway</th>\n",
       "      <th id=\"T_e5755_level0_col7\" class=\"col_heading level0 col7\" >State</th>\n",
       "      <th id=\"T_e5755_level0_col8\" class=\"col_heading level0 col8\" >Error</th>\n",
       "    </tr>\n",
       "  </thead>\n",
       "  <tbody>\n",
       "    <tr>\n",
       "      <td id=\"T_e5755_row0_col0\" class=\"data row0 col0\" >50dc36c9-47da-48f5-ac77-b19c731418cd</td>\n",
       "      <td id=\"T_e5755_row0_col1\" class=\"data row0 col1\" >net_facility_port</td>\n",
       "      <td id=\"T_e5755_row0_col2\" class=\"data row0 col2\" >L2</td>\n",
       "      <td id=\"T_e5755_row0_col3\" class=\"data row0 col3\" >L2STS</td>\n",
       "      <td id=\"T_e5755_row0_col4\" class=\"data row0 col4\" >None</td>\n",
       "      <td id=\"T_e5755_row0_col5\" class=\"data row0 col5\" >None</td>\n",
       "      <td id=\"T_e5755_row0_col6\" class=\"data row0 col6\" >None</td>\n",
       "      <td id=\"T_e5755_row0_col7\" class=\"data row0 col7\" >Active</td>\n",
       "      <td id=\"T_e5755_row0_col8\" class=\"data row0 col8\" ></td>\n",
       "    </tr>\n",
       "  </tbody>\n",
       "</table>\n"
      ],
      "text/plain": [
       "<pandas.io.formats.style.Styler at 0x7e3d585cca50>"
      ]
     },
     "metadata": {},
     "output_type": "display_data"
    },
    {
     "data": {
      "text/html": [
       "<style type=\"text/css\">\n",
       "#T_9c89f caption {\n",
       "  text-align: center;\n",
       "  font-size: 150%;\n",
       "  caption-side: top;\n",
       "}\n",
       "#T_9c89f th {\n",
       "  text-align: left;\n",
       "}\n",
       "#T_9c89f tr:nth-child(even) {\n",
       "  background: #ffffff;\n",
       "  color: #231f20;\n",
       "}\n",
       "#T_9c89f tr:nth-child(odd) {\n",
       "  background: #dbf3ff;\n",
       "  color: #231f20;\n",
       "}\n",
       "#T_9c89f .level0 {\n",
       "  border: 1px black solid !important;\n",
       "  background: #ffffff;\n",
       "  color: #231f20;\n",
       "}\n",
       "#T_9c89f_row0_col0, #T_9c89f_row0_col1, #T_9c89f_row0_col2, #T_9c89f_row0_col3, #T_9c89f_row0_col4, #T_9c89f_row0_col5, #T_9c89f_row0_col6, #T_9c89f_row0_col7, #T_9c89f_row0_col8, #T_9c89f_row0_col9, #T_9c89f_row0_col10, #T_9c89f_row0_col11, #T_9c89f_row0_col12 {\n",
       "  text-align: left;\n",
       "  border: 1px #231f20 solid !important;\n",
       "  overwrite: False;\n",
       "}\n",
       "</style>\n",
       "<table id=\"T_9c89f\">\n",
       "  <caption>Interfaces</caption>\n",
       "  <thead>\n",
       "    <tr>\n",
       "      <th id=\"T_9c89f_level0_col0\" class=\"col_heading level0 col0\" >Name</th>\n",
       "      <th id=\"T_9c89f_level0_col1\" class=\"col_heading level0 col1\" >Short Name</th>\n",
       "      <th id=\"T_9c89f_level0_col2\" class=\"col_heading level0 col2\" >Node</th>\n",
       "      <th id=\"T_9c89f_level0_col3\" class=\"col_heading level0 col3\" >Network</th>\n",
       "      <th id=\"T_9c89f_level0_col4\" class=\"col_heading level0 col4\" >Bandwidth</th>\n",
       "      <th id=\"T_9c89f_level0_col5\" class=\"col_heading level0 col5\" >Mode</th>\n",
       "      <th id=\"T_9c89f_level0_col6\" class=\"col_heading level0 col6\" >VLAN</th>\n",
       "      <th id=\"T_9c89f_level0_col7\" class=\"col_heading level0 col7\" >MAC</th>\n",
       "      <th id=\"T_9c89f_level0_col8\" class=\"col_heading level0 col8\" >Physical Device</th>\n",
       "      <th id=\"T_9c89f_level0_col9\" class=\"col_heading level0 col9\" >Device</th>\n",
       "      <th id=\"T_9c89f_level0_col10\" class=\"col_heading level0 col10\" >IP Address</th>\n",
       "      <th id=\"T_9c89f_level0_col11\" class=\"col_heading level0 col11\" >Numa Node</th>\n",
       "      <th id=\"T_9c89f_level0_col12\" class=\"col_heading level0 col12\" >Switch Port</th>\n",
       "    </tr>\n",
       "  </thead>\n",
       "  <tbody>\n",
       "    <tr>\n",
       "      <td id=\"T_9c89f_row0_col0\" class=\"data row0 col0\" >Node1-nic1-p1</td>\n",
       "      <td id=\"T_9c89f_row0_col1\" class=\"data row0 col1\" >p1</td>\n",
       "      <td id=\"T_9c89f_row0_col2\" class=\"data row0 col2\" >Node1</td>\n",
       "      <td id=\"T_9c89f_row0_col3\" class=\"data row0 col3\" >net_facility_port</td>\n",
       "      <td id=\"T_9c89f_row0_col4\" class=\"data row0 col4\" >100</td>\n",
       "      <td id=\"T_9c89f_row0_col5\" class=\"data row0 col5\" >config</td>\n",
       "      <td id=\"T_9c89f_row0_col6\" class=\"data row0 col6\" ></td>\n",
       "      <td id=\"T_9c89f_row0_col7\" class=\"data row0 col7\" >0A:2B:94:0B:E8:1A</td>\n",
       "      <td id=\"T_9c89f_row0_col8\" class=\"data row0 col8\" >eth1</td>\n",
       "      <td id=\"T_9c89f_row0_col9\" class=\"data row0 col9\" >eth1</td>\n",
       "      <td id=\"T_9c89f_row0_col10\" class=\"data row0 col10\" >fe80::ef0e:41f:9eca:fba1</td>\n",
       "      <td id=\"T_9c89f_row0_col11\" class=\"data row0 col11\" >4</td>\n",
       "      <td id=\"T_9c89f_row0_col12\" class=\"data row0 col12\" >HundredGigE0/0/0/1</td>\n",
       "    </tr>\n",
       "  </tbody>\n",
       "</table>\n"
      ],
      "text/plain": [
       "<pandas.io.formats.style.Styler at 0x7e3d7021a750>"
      ]
     },
     "metadata": {},
     "output_type": "display_data"
    },
    {
     "name": "stdout",
     "output_type": "stream",
     "text": [
      "\n",
      "Time to print interfaces 300 seconds\n"
     ]
    }
   ],
   "source": [
    "slice.submit();"
   ]
  },
  {
   "cell_type": "markdown",
   "metadata": {},
   "source": [
    "## Observe the Slice's Attributes\n"
   ]
  },
  {
   "cell_type": "code",
   "execution_count": 9,
   "metadata": {},
   "outputs": [],
   "source": [
    "slice = fablib.get_slice(slice_name)"
   ]
  },
  {
   "cell_type": "code",
   "execution_count": 10,
   "metadata": {
    "tags": []
   },
   "outputs": [
    {
     "data": {
      "text/html": [
       "<style type=\"text/css\">\n",
       "#T_e30fd tr:nth-child(even) {\n",
       "  background: #dbf3ff;\n",
       "  color: #231f20;\n",
       "}\n",
       "#T_e30fd tr:nth-child(odd) {\n",
       "  background: #ffffff;\n",
       "  color: #231f20;\n",
       "}\n",
       "#T_e30fd caption {\n",
       "  text-align: center;\n",
       "  font-size: 150%;\n",
       "}\n",
       "#T_e30fd_row0_col0, #T_e30fd_row0_col1, #T_e30fd_row1_col0, #T_e30fd_row1_col1, #T_e30fd_row2_col0, #T_e30fd_row2_col1, #T_e30fd_row3_col0, #T_e30fd_row3_col1, #T_e30fd_row4_col0, #T_e30fd_row4_col1, #T_e30fd_row5_col0, #T_e30fd_row5_col1 {\n",
       "  text-align: left;\n",
       "  border: 1px #231f20 solid !important;\n",
       "  overwrite: False;\n",
       "}\n",
       "</style>\n",
       "<table id=\"T_e30fd\">\n",
       "  <caption>Slice</caption>\n",
       "  <thead>\n",
       "  </thead>\n",
       "  <tbody>\n",
       "    <tr>\n",
       "      <td id=\"T_e30fd_row0_col0\" class=\"data row0 col0\" >ID</td>\n",
       "      <td id=\"T_e30fd_row0_col1\" class=\"data row0 col1\" >f42fb91f-e866-42c1-9630-846ff5fd0836</td>\n",
       "    </tr>\n",
       "    <tr>\n",
       "      <td id=\"T_e30fd_row1_col0\" class=\"data row1 col0\" >Name</td>\n",
       "      <td id=\"T_e30fd_row1_col1\" class=\"data row1 col1\" >Slice-AWSDX</td>\n",
       "    </tr>\n",
       "    <tr>\n",
       "      <td id=\"T_e30fd_row2_col0\" class=\"data row2 col0\" >Lease Expiration (UTC)</td>\n",
       "      <td id=\"T_e30fd_row2_col1\" class=\"data row2 col1\" >2024-11-01 14:05:56 +0000</td>\n",
       "    </tr>\n",
       "    <tr>\n",
       "      <td id=\"T_e30fd_row3_col0\" class=\"data row3 col0\" >Lease Start (UTC)</td>\n",
       "      <td id=\"T_e30fd_row3_col1\" class=\"data row3 col1\" >2024-10-31 14:05:56 +0000</td>\n",
       "    </tr>\n",
       "    <tr>\n",
       "      <td id=\"T_e30fd_row4_col0\" class=\"data row4 col0\" >Project ID</td>\n",
       "      <td id=\"T_e30fd_row4_col1\" class=\"data row4 col1\" >1ecd9d6a-7701-40fa-b78e-b2293c9526ed</td>\n",
       "    </tr>\n",
       "    <tr>\n",
       "      <td id=\"T_e30fd_row5_col0\" class=\"data row5 col0\" >State</td>\n",
       "      <td id=\"T_e30fd_row5_col1\" class=\"data row5 col1\" >StableOK</td>\n",
       "    </tr>\n",
       "  </tbody>\n",
       "</table>\n"
      ],
      "text/plain": [
       "<pandas.io.formats.style.Styler at 0x7e3d70446bd0>"
      ]
     },
     "metadata": {},
     "output_type": "display_data"
    },
    {
     "data": {
      "text/html": [
       "<style type=\"text/css\">\n",
       "#T_7d906 caption {\n",
       "  text-align: center;\n",
       "  font-size: 150%;\n",
       "  caption-side: top;\n",
       "}\n",
       "#T_7d906 th {\n",
       "  text-align: left;\n",
       "}\n",
       "#T_7d906 tr:nth-child(even) {\n",
       "  background: #ffffff;\n",
       "  color: #231f20;\n",
       "}\n",
       "#T_7d906 tr:nth-child(odd) {\n",
       "  background: #dbf3ff;\n",
       "  color: #231f20;\n",
       "}\n",
       "#T_7d906 .level0 {\n",
       "  border: 1px black solid !important;\n",
       "  background: #ffffff;\n",
       "  color: #231f20;\n",
       "}\n",
       "#T_7d906_row0_col0, #T_7d906_row0_col1, #T_7d906_row0_col2, #T_7d906_row0_col3, #T_7d906_row0_col4, #T_7d906_row0_col5, #T_7d906_row0_col6, #T_7d906_row0_col7, #T_7d906_row0_col8, #T_7d906_row0_col9, #T_7d906_row0_col10, #T_7d906_row0_col11, #T_7d906_row0_col12, #T_7d906_row0_col13, #T_7d906_row0_col14, #T_7d906_row0_col15 {\n",
       "  text-align: left;\n",
       "  border: 1px #231f20 solid !important;\n",
       "  overwrite: False;\n",
       "}\n",
       "</style>\n",
       "<table id=\"T_7d906\">\n",
       "  <caption>Nodes</caption>\n",
       "  <thead>\n",
       "    <tr>\n",
       "      <th id=\"T_7d906_level0_col0\" class=\"col_heading level0 col0\" >ID</th>\n",
       "      <th id=\"T_7d906_level0_col1\" class=\"col_heading level0 col1\" >Name</th>\n",
       "      <th id=\"T_7d906_level0_col2\" class=\"col_heading level0 col2\" >Cores</th>\n",
       "      <th id=\"T_7d906_level0_col3\" class=\"col_heading level0 col3\" >RAM</th>\n",
       "      <th id=\"T_7d906_level0_col4\" class=\"col_heading level0 col4\" >Disk</th>\n",
       "      <th id=\"T_7d906_level0_col5\" class=\"col_heading level0 col5\" >Image</th>\n",
       "      <th id=\"T_7d906_level0_col6\" class=\"col_heading level0 col6\" >Image Type</th>\n",
       "      <th id=\"T_7d906_level0_col7\" class=\"col_heading level0 col7\" >Host</th>\n",
       "      <th id=\"T_7d906_level0_col8\" class=\"col_heading level0 col8\" >Site</th>\n",
       "      <th id=\"T_7d906_level0_col9\" class=\"col_heading level0 col9\" >Username</th>\n",
       "      <th id=\"T_7d906_level0_col10\" class=\"col_heading level0 col10\" >Management IP</th>\n",
       "      <th id=\"T_7d906_level0_col11\" class=\"col_heading level0 col11\" >State</th>\n",
       "      <th id=\"T_7d906_level0_col12\" class=\"col_heading level0 col12\" >Error</th>\n",
       "      <th id=\"T_7d906_level0_col13\" class=\"col_heading level0 col13\" >SSH Command</th>\n",
       "      <th id=\"T_7d906_level0_col14\" class=\"col_heading level0 col14\" >Public SSH Key File</th>\n",
       "      <th id=\"T_7d906_level0_col15\" class=\"col_heading level0 col15\" >Private SSH Key File</th>\n",
       "    </tr>\n",
       "  </thead>\n",
       "  <tbody>\n",
       "    <tr>\n",
       "      <td id=\"T_7d906_row0_col0\" class=\"data row0 col0\" >ac569b3d-53c8-42a4-b378-31d4a42ecdc4</td>\n",
       "      <td id=\"T_7d906_row0_col1\" class=\"data row0 col1\" >Node1</td>\n",
       "      <td id=\"T_7d906_row0_col2\" class=\"data row0 col2\" >2</td>\n",
       "      <td id=\"T_7d906_row0_col3\" class=\"data row0 col3\" >8</td>\n",
       "      <td id=\"T_7d906_row0_col4\" class=\"data row0 col4\" >10</td>\n",
       "      <td id=\"T_7d906_row0_col5\" class=\"data row0 col5\" >default_rocky_8</td>\n",
       "      <td id=\"T_7d906_row0_col6\" class=\"data row0 col6\" >qcow2</td>\n",
       "      <td id=\"T_7d906_row0_col7\" class=\"data row0 col7\" >star-w5.fabric-testbed.net</td>\n",
       "      <td id=\"T_7d906_row0_col8\" class=\"data row0 col8\" >STAR</td>\n",
       "      <td id=\"T_7d906_row0_col9\" class=\"data row0 col9\" >rocky</td>\n",
       "      <td id=\"T_7d906_row0_col10\" class=\"data row0 col10\" >2001:400:a100:3030:f816:3eff:fef1:5de9</td>\n",
       "      <td id=\"T_7d906_row0_col11\" class=\"data row0 col11\" >Active</td>\n",
       "      <td id=\"T_7d906_row0_col12\" class=\"data row0 col12\" ></td>\n",
       "      <td id=\"T_7d906_row0_col13\" class=\"data row0 col13\" >ssh -i /home/fabric/work/fabric_config/slice_key -F /home/fabric/work/fabric_config/ssh_config rocky@2001:400:a100:3030:f816:3eff:fef1:5de9</td>\n",
       "      <td id=\"T_7d906_row0_col14\" class=\"data row0 col14\" >/home/fabric/work/fabric_config/slice_key.pub</td>\n",
       "      <td id=\"T_7d906_row0_col15\" class=\"data row0 col15\" >/home/fabric/work/fabric_config/slice_key</td>\n",
       "    </tr>\n",
       "  </tbody>\n",
       "</table>\n"
      ],
      "text/plain": [
       "<pandas.io.formats.style.Styler at 0x7e3d3ac8d810>"
      ]
     },
     "metadata": {},
     "output_type": "display_data"
    },
    {
     "data": {
      "text/html": [
       "<style type=\"text/css\">\n",
       "#T_5c150 caption {\n",
       "  text-align: center;\n",
       "  font-size: 150%;\n",
       "  caption-side: top;\n",
       "}\n",
       "#T_5c150 th {\n",
       "  text-align: left;\n",
       "}\n",
       "#T_5c150 tr:nth-child(even) {\n",
       "  background: #ffffff;\n",
       "  color: #231f20;\n",
       "}\n",
       "#T_5c150 tr:nth-child(odd) {\n",
       "  background: #dbf3ff;\n",
       "  color: #231f20;\n",
       "}\n",
       "#T_5c150 .level0 {\n",
       "  border: 1px black solid !important;\n",
       "  background: #ffffff;\n",
       "  color: #231f20;\n",
       "}\n",
       "#T_5c150_row0_col0, #T_5c150_row0_col1, #T_5c150_row0_col2, #T_5c150_row0_col3, #T_5c150_row0_col4, #T_5c150_row0_col5, #T_5c150_row0_col6, #T_5c150_row0_col7, #T_5c150_row0_col8 {\n",
       "  text-align: left;\n",
       "  border: 1px #231f20 solid !important;\n",
       "  overwrite: False;\n",
       "}\n",
       "</style>\n",
       "<table id=\"T_5c150\">\n",
       "  <caption>Networks</caption>\n",
       "  <thead>\n",
       "    <tr>\n",
       "      <th id=\"T_5c150_level0_col0\" class=\"col_heading level0 col0\" >ID</th>\n",
       "      <th id=\"T_5c150_level0_col1\" class=\"col_heading level0 col1\" >Name</th>\n",
       "      <th id=\"T_5c150_level0_col2\" class=\"col_heading level0 col2\" >Layer</th>\n",
       "      <th id=\"T_5c150_level0_col3\" class=\"col_heading level0 col3\" >Type</th>\n",
       "      <th id=\"T_5c150_level0_col4\" class=\"col_heading level0 col4\" >Site</th>\n",
       "      <th id=\"T_5c150_level0_col5\" class=\"col_heading level0 col5\" >Subnet</th>\n",
       "      <th id=\"T_5c150_level0_col6\" class=\"col_heading level0 col6\" >Gateway</th>\n",
       "      <th id=\"T_5c150_level0_col7\" class=\"col_heading level0 col7\" >State</th>\n",
       "      <th id=\"T_5c150_level0_col8\" class=\"col_heading level0 col8\" >Error</th>\n",
       "    </tr>\n",
       "  </thead>\n",
       "  <tbody>\n",
       "    <tr>\n",
       "      <td id=\"T_5c150_row0_col0\" class=\"data row0 col0\" >50dc36c9-47da-48f5-ac77-b19c731418cd</td>\n",
       "      <td id=\"T_5c150_row0_col1\" class=\"data row0 col1\" >net_facility_port</td>\n",
       "      <td id=\"T_5c150_row0_col2\" class=\"data row0 col2\" >L2</td>\n",
       "      <td id=\"T_5c150_row0_col3\" class=\"data row0 col3\" >L2STS</td>\n",
       "      <td id=\"T_5c150_row0_col4\" class=\"data row0 col4\" >None</td>\n",
       "      <td id=\"T_5c150_row0_col5\" class=\"data row0 col5\" >None</td>\n",
       "      <td id=\"T_5c150_row0_col6\" class=\"data row0 col6\" >None</td>\n",
       "      <td id=\"T_5c150_row0_col7\" class=\"data row0 col7\" >Active</td>\n",
       "      <td id=\"T_5c150_row0_col8\" class=\"data row0 col8\" ></td>\n",
       "    </tr>\n",
       "  </tbody>\n",
       "</table>\n"
      ],
      "text/plain": [
       "<pandas.io.formats.style.Styler at 0x7e3d7021ac10>"
      ]
     },
     "metadata": {},
     "output_type": "display_data"
    },
    {
     "data": {
      "text/html": [
       "<style type=\"text/css\">\n",
       "#T_047c3 caption {\n",
       "  text-align: center;\n",
       "  font-size: 150%;\n",
       "  caption-side: top;\n",
       "}\n",
       "#T_047c3 th {\n",
       "  text-align: left;\n",
       "}\n",
       "#T_047c3 tr:nth-child(even) {\n",
       "  background: #ffffff;\n",
       "  color: #231f20;\n",
       "}\n",
       "#T_047c3 tr:nth-child(odd) {\n",
       "  background: #dbf3ff;\n",
       "  color: #231f20;\n",
       "}\n",
       "#T_047c3 .level0 {\n",
       "  border: 1px black solid !important;\n",
       "  background: #ffffff;\n",
       "  color: #231f20;\n",
       "}\n",
       "#T_047c3_row0_col0, #T_047c3_row0_col1, #T_047c3_row0_col2, #T_047c3_row0_col3, #T_047c3_row0_col4, #T_047c3_row0_col5, #T_047c3_row0_col6, #T_047c3_row0_col7, #T_047c3_row0_col8, #T_047c3_row0_col9, #T_047c3_row0_col10, #T_047c3_row0_col11, #T_047c3_row0_col12 {\n",
       "  text-align: left;\n",
       "  border: 1px #231f20 solid !important;\n",
       "  overwrite: False;\n",
       "}\n",
       "</style>\n",
       "<table id=\"T_047c3\">\n",
       "  <caption>Interfaces</caption>\n",
       "  <thead>\n",
       "    <tr>\n",
       "      <th id=\"T_047c3_level0_col0\" class=\"col_heading level0 col0\" >Name</th>\n",
       "      <th id=\"T_047c3_level0_col1\" class=\"col_heading level0 col1\" >Short Name</th>\n",
       "      <th id=\"T_047c3_level0_col2\" class=\"col_heading level0 col2\" >Node</th>\n",
       "      <th id=\"T_047c3_level0_col3\" class=\"col_heading level0 col3\" >Network</th>\n",
       "      <th id=\"T_047c3_level0_col4\" class=\"col_heading level0 col4\" >Bandwidth</th>\n",
       "      <th id=\"T_047c3_level0_col5\" class=\"col_heading level0 col5\" >Mode</th>\n",
       "      <th id=\"T_047c3_level0_col6\" class=\"col_heading level0 col6\" >VLAN</th>\n",
       "      <th id=\"T_047c3_level0_col7\" class=\"col_heading level0 col7\" >MAC</th>\n",
       "      <th id=\"T_047c3_level0_col8\" class=\"col_heading level0 col8\" >Physical Device</th>\n",
       "      <th id=\"T_047c3_level0_col9\" class=\"col_heading level0 col9\" >Device</th>\n",
       "      <th id=\"T_047c3_level0_col10\" class=\"col_heading level0 col10\" >IP Address</th>\n",
       "      <th id=\"T_047c3_level0_col11\" class=\"col_heading level0 col11\" >Numa Node</th>\n",
       "      <th id=\"T_047c3_level0_col12\" class=\"col_heading level0 col12\" >Switch Port</th>\n",
       "    </tr>\n",
       "  </thead>\n",
       "  <tbody>\n",
       "    <tr>\n",
       "      <td id=\"T_047c3_row0_col0\" class=\"data row0 col0\" >Node1-nic1-p1</td>\n",
       "      <td id=\"T_047c3_row0_col1\" class=\"data row0 col1\" >p1</td>\n",
       "      <td id=\"T_047c3_row0_col2\" class=\"data row0 col2\" >Node1</td>\n",
       "      <td id=\"T_047c3_row0_col3\" class=\"data row0 col3\" >net_facility_port</td>\n",
       "      <td id=\"T_047c3_row0_col4\" class=\"data row0 col4\" >100</td>\n",
       "      <td id=\"T_047c3_row0_col5\" class=\"data row0 col5\" >config</td>\n",
       "      <td id=\"T_047c3_row0_col6\" class=\"data row0 col6\" ></td>\n",
       "      <td id=\"T_047c3_row0_col7\" class=\"data row0 col7\" >0A:2B:94:0B:E8:1A</td>\n",
       "      <td id=\"T_047c3_row0_col8\" class=\"data row0 col8\" >eth1</td>\n",
       "      <td id=\"T_047c3_row0_col9\" class=\"data row0 col9\" >eth1</td>\n",
       "      <td id=\"T_047c3_row0_col10\" class=\"data row0 col10\" >fe80::ef0e:41f:9eca:fba1</td>\n",
       "      <td id=\"T_047c3_row0_col11\" class=\"data row0 col11\" >4</td>\n",
       "      <td id=\"T_047c3_row0_col12\" class=\"data row0 col12\" >HundredGigE0/0/0/1</td>\n",
       "    </tr>\n",
       "  </tbody>\n",
       "</table>\n"
      ],
      "text/plain": [
       "<pandas.io.formats.style.Styler at 0x7e3d700bd890>"
      ]
     },
     "metadata": {},
     "output_type": "display_data"
    },
    {
     "data": {
      "text/html": [
       "<style type=\"text/css\">\n",
       "#T_047c3 caption {\n",
       "  text-align: center;\n",
       "  font-size: 150%;\n",
       "  caption-side: top;\n",
       "}\n",
       "#T_047c3 th {\n",
       "  text-align: left;\n",
       "}\n",
       "#T_047c3 tr:nth-child(even) {\n",
       "  background: #ffffff;\n",
       "  color: #231f20;\n",
       "}\n",
       "#T_047c3 tr:nth-child(odd) {\n",
       "  background: #dbf3ff;\n",
       "  color: #231f20;\n",
       "}\n",
       "#T_047c3 .level0 {\n",
       "  border: 1px black solid !important;\n",
       "  background: #ffffff;\n",
       "  color: #231f20;\n",
       "}\n",
       "#T_047c3_row0_col0, #T_047c3_row0_col1, #T_047c3_row0_col2, #T_047c3_row0_col3, #T_047c3_row0_col4, #T_047c3_row0_col5, #T_047c3_row0_col6, #T_047c3_row0_col7, #T_047c3_row0_col8, #T_047c3_row0_col9, #T_047c3_row0_col10, #T_047c3_row0_col11, #T_047c3_row0_col12 {\n",
       "  text-align: left;\n",
       "  border: 1px #231f20 solid !important;\n",
       "  overwrite: False;\n",
       "}\n",
       "</style>\n",
       "<table id=\"T_047c3\">\n",
       "  <caption>Interfaces</caption>\n",
       "  <thead>\n",
       "    <tr>\n",
       "      <th id=\"T_047c3_level0_col0\" class=\"col_heading level0 col0\" >Name</th>\n",
       "      <th id=\"T_047c3_level0_col1\" class=\"col_heading level0 col1\" >Short Name</th>\n",
       "      <th id=\"T_047c3_level0_col2\" class=\"col_heading level0 col2\" >Node</th>\n",
       "      <th id=\"T_047c3_level0_col3\" class=\"col_heading level0 col3\" >Network</th>\n",
       "      <th id=\"T_047c3_level0_col4\" class=\"col_heading level0 col4\" >Bandwidth</th>\n",
       "      <th id=\"T_047c3_level0_col5\" class=\"col_heading level0 col5\" >Mode</th>\n",
       "      <th id=\"T_047c3_level0_col6\" class=\"col_heading level0 col6\" >VLAN</th>\n",
       "      <th id=\"T_047c3_level0_col7\" class=\"col_heading level0 col7\" >MAC</th>\n",
       "      <th id=\"T_047c3_level0_col8\" class=\"col_heading level0 col8\" >Physical Device</th>\n",
       "      <th id=\"T_047c3_level0_col9\" class=\"col_heading level0 col9\" >Device</th>\n",
       "      <th id=\"T_047c3_level0_col10\" class=\"col_heading level0 col10\" >IP Address</th>\n",
       "      <th id=\"T_047c3_level0_col11\" class=\"col_heading level0 col11\" >Numa Node</th>\n",
       "      <th id=\"T_047c3_level0_col12\" class=\"col_heading level0 col12\" >Switch Port</th>\n",
       "    </tr>\n",
       "  </thead>\n",
       "  <tbody>\n",
       "    <tr>\n",
       "      <td id=\"T_047c3_row0_col0\" class=\"data row0 col0\" >Node1-nic1-p1</td>\n",
       "      <td id=\"T_047c3_row0_col1\" class=\"data row0 col1\" >p1</td>\n",
       "      <td id=\"T_047c3_row0_col2\" class=\"data row0 col2\" >Node1</td>\n",
       "      <td id=\"T_047c3_row0_col3\" class=\"data row0 col3\" >net_facility_port</td>\n",
       "      <td id=\"T_047c3_row0_col4\" class=\"data row0 col4\" >100</td>\n",
       "      <td id=\"T_047c3_row0_col5\" class=\"data row0 col5\" >config</td>\n",
       "      <td id=\"T_047c3_row0_col6\" class=\"data row0 col6\" ></td>\n",
       "      <td id=\"T_047c3_row0_col7\" class=\"data row0 col7\" >0A:2B:94:0B:E8:1A</td>\n",
       "      <td id=\"T_047c3_row0_col8\" class=\"data row0 col8\" >eth1</td>\n",
       "      <td id=\"T_047c3_row0_col9\" class=\"data row0 col9\" >eth1</td>\n",
       "      <td id=\"T_047c3_row0_col10\" class=\"data row0 col10\" >fe80::ef0e:41f:9eca:fba1</td>\n",
       "      <td id=\"T_047c3_row0_col11\" class=\"data row0 col11\" >4</td>\n",
       "      <td id=\"T_047c3_row0_col12\" class=\"data row0 col12\" >HundredGigE0/0/0/1</td>\n",
       "    </tr>\n",
       "  </tbody>\n",
       "</table>\n"
      ],
      "text/plain": [
       "<pandas.io.formats.style.Styler at 0x7e3d700bd890>"
      ]
     },
     "execution_count": 10,
     "metadata": {},
     "output_type": "execute_result"
    }
   ],
   "source": [
    "slice.show()\n",
    "slice.list_nodes()\n",
    "slice.list_networks()\n",
    "slice.list_interfaces()\n"
   ]
  },
  {
   "cell_type": "markdown",
   "metadata": {
    "tags": []
   },
   "source": [
    "## Run the Experiment"
   ]
  },
  {
   "cell_type": "code",
   "execution_count": 11,
   "metadata": {
    "tags": []
   },
   "outputs": [],
   "source": [
    "from ipaddress import ip_address, IPv4Address, IPv6Address, IPv4Network, IPv6Network\n",
    "\n",
    "# Configure the interface(s) of the VM(s) with designated subnet\n",
    "subnet = IPv4Network(\"192.168.1.0/24\")\n",
    "available_ips = list(subnet)[2:]"
   ]
  },
  {
   "cell_type": "code",
   "execution_count": 12,
   "metadata": {
    "tags": []
   },
   "outputs": [
    {
     "name": "stdout",
     "output_type": "stream",
     "text": [
      "node1_addr: 192.168.1.101\n",
      "3: eth1: <BROADCAST,MULTICAST,UP,LOWER_UP> mtu 1500 qdisc mq state UP group default qlen 1000\n",
      "    link/ether 0a:2b:94:0b:e8:1a brd ff:ff:ff:ff:ff:ff\n",
      "    altname enp7s0\n",
      "    inet 192.168.1.101/24 scope global eth1\n",
      "       valid_lft forever preferred_lft forever\n",
      "    inet6 fe80::ef0e:41f:9eca:fba1/64 scope link noprefixroute \n",
      "       valid_lft forever preferred_lft forever\n"
     ]
    }
   ],
   "source": [
    "node1 = slice.get_node(name=f\"Node1\")        \n",
    "node1_iface = node1.get_interface(network_name=f'net_facility_port') \n",
    "node1_addr = available_ips.pop(99)\n",
    "print(f\"node1_addr: {node1_addr}\")\n",
    "node1_iface.ip_addr_add(addr=node1_addr, subnet=subnet)\n",
    "\n",
    "stdout, stderr = node1.execute(f'ip addr show {node1_iface.get_os_interface()}')\n",
    "\n",
    "stdout, stderr = node1.execute(f'sudo ip link set dev {node1_iface.get_physical_os_interface_name()} up')\n",
    "\n",
    "stdout, stderr = node1.execute(f'sudo ip link set dev {node1_iface.get_os_interface()} up')"
   ]
  },
  {
   "cell_type": "code",
   "execution_count": 13,
   "metadata": {
    "tags": []
   },
   "outputs": [
    {
     "name": "stdout",
     "output_type": "stream",
     "text": [
      "PING 192.168.1.10 (192.168.1.10) 56(84) bytes of data.\n",
      "From 192.168.1.101 icmp_seq=1 Destination Host Unreachable\n",
      "From 192.168.1.101 icmp_seq=2 Destination Host Unreachable\n",
      "From 192.168.1.101 icmp_seq=3 Destination Host Unreachable\n",
      "From 192.168.1.101 icmp_seq=4 Destination Host Unreachable\n",
      "From 192.168.1.101 icmp_seq=5 Destination Host Unreachable\n",
      "\n",
      "--- 192.168.1.10 ping statistics ---\n",
      "5 packets transmitted, 0 received, +5 errors, 100% packet loss, time 4115ms\n",
      "pipe 3\n"
     ]
    }
   ],
   "source": [
    "# Ping the node(s) that are active on the Facility Port side (e.g 192.168.1.10)\n",
    "node1 = slice.get_node(name=f\"Node1\")     \n",
    "node1_iface = node1.get_interface(network_name=f'net_facility_port') \n",
    "\n",
    "stdout, stderr = node1.execute(f'ping -c 5 192.168.1.10')   # This is expected to fail. "
   ]
  },
  {
   "cell_type": "markdown",
   "metadata": {},
   "source": [
    "# Adding SDXLIB to Network"
   ]
  },
  {
   "cell_type": "code",
   "execution_count": 14,
   "metadata": {},
   "outputs": [],
   "source": [
    "import json\n",
    "import pandas as pd\n",
    "from pprint import pprint\n",
    "import requests\n",
    "\n",
    "from config import *\n",
    "from sdxlib.sdx_client import SDXClient\n",
    "from sdxlib.sdx_exception import SDXException"
   ]
  },
  {
   "cell_type": "code",
   "execution_count": 15,
   "metadata": {},
   "outputs": [],
   "source": [
    "url = \"http://67.17.206.205:8080/SDX-Controller\""
   ]
  },
  {
   "cell_type": "markdown",
   "metadata": {},
   "source": [
    "## List All Available Ports\n"
   ]
  },
  {
   "cell_type": "code",
   "execution_count": 16,
   "metadata": {},
   "outputs": [
    {
     "data": {
      "text/html": [
       "<style type=\"text/css\">\n",
       "</style>\n",
       "<table id=\"T_d7115\">\n",
       "  <thead>\n",
       "    <tr>\n",
       "      <th id=\"T_d7115_level0_col0\" class=\"col_heading level0 col0\" >Port ID</th>\n",
       "      <th id=\"T_d7115_level0_col1\" class=\"col_heading level0 col1\" >Status</th>\n",
       "    </tr>\n",
       "  </thead>\n",
       "  <tbody>\n",
       "    <tr>\n",
       "      <td id=\"T_d7115_row0_col0\" class=\"data row0 col0\" >urn:sdx:port:ampath.net:Ampath3:50</td>\n",
       "      <td id=\"T_d7115_row0_col1\" class=\"data row0 col1\" >up</td>\n",
       "    </tr>\n",
       "    <tr>\n",
       "      <td id=\"T_d7115_row1_col0\" class=\"data row1 col0\" >urn:sdx:port:ampath.net:Ampath2:50</td>\n",
       "      <td id=\"T_d7115_row1_col1\" class=\"data row1 col1\" >up</td>\n",
       "    </tr>\n",
       "    <tr>\n",
       "      <td id=\"T_d7115_row2_col0\" class=\"data row2 col0\" >urn:sdx:port:ampath.net:Ampath1:50</td>\n",
       "      <td id=\"T_d7115_row2_col1\" class=\"data row2 col1\" >up</td>\n",
       "    </tr>\n",
       "    <tr>\n",
       "      <td id=\"T_d7115_row3_col0\" class=\"data row3 col0\" >urn:sdx:port:sax.net:Sax01:50</td>\n",
       "      <td id=\"T_d7115_row3_col1\" class=\"data row3 col1\" >up</td>\n",
       "    </tr>\n",
       "    <tr>\n",
       "      <td id=\"T_d7115_row4_col0\" class=\"data row4 col0\" >urn:sdx:port:sax.net:Sax02:50</td>\n",
       "      <td id=\"T_d7115_row4_col1\" class=\"data row4 col1\" >up</td>\n",
       "    </tr>\n",
       "    <tr>\n",
       "      <td id=\"T_d7115_row5_col0\" class=\"data row5 col0\" >urn:sdx:port:tenet.ac.za:Tenet02:50</td>\n",
       "      <td id=\"T_d7115_row5_col1\" class=\"data row5 col1\" >up</td>\n",
       "    </tr>\n",
       "    <tr>\n",
       "      <td id=\"T_d7115_row6_col0\" class=\"data row6 col0\" >urn:sdx:port:tenet.ac.za:Tenet03:50</td>\n",
       "      <td id=\"T_d7115_row6_col1\" class=\"data row6 col1\" >up</td>\n",
       "    </tr>\n",
       "    <tr>\n",
       "      <td id=\"T_d7115_row7_col0\" class=\"data row7 col0\" >urn:sdx:port:tenet.ac.za:Tenet01:50</td>\n",
       "      <td id=\"T_d7115_row7_col1\" class=\"data row7 col1\" >up</td>\n",
       "    </tr>\n",
       "  </tbody>\n",
       "</table>\n"
      ],
      "text/plain": [
       "<pandas.io.formats.style.Styler at 0x7e3d5825b950>"
      ]
     },
     "execution_count": 16,
     "metadata": {},
     "output_type": "execute_result"
    }
   ],
   "source": [
    "client=SDXClient(url)\n",
    "client.get_available_ports()"
   ]
  },
  {
   "cell_type": "markdown",
   "metadata": {},
   "source": [
    "## Create Client"
   ]
  },
  {
   "cell_type": "markdown",
   "metadata": {},
   "source": [
    "The below specification is the minimum information needed to create the layer 2 VPN. "
   ]
  },
  {
   "cell_type": "code",
   "execution_count": 17,
   "metadata": {},
   "outputs": [],
   "source": [
    "client_name = \"Test SDX SC24 L2VPN\"\n",
    "client_endpoints = [\n",
    "    {\"port_id\": \"urn:sdx:port:ampath.net:Ampath2:50\", \"vlan\": \"301\"}, \n",
    "    {\"port_id\": \"urn:sdx:port:tenet.ac.za:Tenet02:50\", \"vlan\": \"301\"},\n",
    "]"
   ]
  },
  {
   "cell_type": "code",
   "execution_count": 18,
   "metadata": {},
   "outputs": [],
   "source": [
    "client = SDXClient(url, client_name, client_endpoints)"
   ]
  },
  {
   "cell_type": "code",
   "execution_count": 19,
   "metadata": {
    "scrolled": true
   },
   "outputs": [
    {
     "name": "stdout",
     "output_type": "stream",
     "text": [
      "L2VPN creation successful!\n",
      "{'service_id': 'f8cf59bf-fb54-445b-992f-c74d9123fafc'}\n"
     ]
    }
   ],
   "source": [
    "try:\n",
    "    response = client.create_l2vpn()  \n",
    "    print(\"L2VPN creation successful!\")\n",
    "    pprint(response)\n",
    "except SDXException as e:\n",
    "    print(f\"L2VPN creation failed: {e}\") "
   ]
  },
  {
   "cell_type": "code",
   "execution_count": 20,
   "metadata": {},
   "outputs": [
    {
     "data": {
      "text/plain": [
       "'f8cf59bf-fb54-445b-992f-c74d9123fafc'"
      ]
     },
     "execution_count": 20,
     "metadata": {},
     "output_type": "execute_result"
    }
   ],
   "source": [
    "# Save the service_id for easy access later.\n",
    "my_service_id = response['service_id']\n",
    "my_service_id"
   ]
  },
  {
   "cell_type": "markdown",
   "metadata": {},
   "source": [
    "## List All Available L2VPNs"
   ]
  },
  {
   "cell_type": "markdown",
   "metadata": {},
   "source": [
    "Both of the list methods have the option of query results being listed as a DataFrame(default) or as a JSON by passing the optional argument format='json'."
   ]
  },
  {
   "cell_type": "code",
   "execution_count": 21,
   "metadata": {
    "scrolled": true
   },
   "outputs": [
    {
     "data": {
      "text/html": [
       "<div>\n",
       "<style scoped>\n",
       "    .dataframe tbody tr th:only-of-type {\n",
       "        vertical-align: middle;\n",
       "    }\n",
       "\n",
       "    .dataframe tbody tr th {\n",
       "        vertical-align: top;\n",
       "    }\n",
       "\n",
       "    .dataframe thead th {\n",
       "        text-align: right;\n",
       "    }\n",
       "</style>\n",
       "<table border=\"1\" class=\"dataframe\">\n",
       "  <thead>\n",
       "    <tr style=\"text-align: right;\">\n",
       "      <th></th>\n",
       "      <th>service_id</th>\n",
       "      <th>name</th>\n",
       "      <th>endpoints</th>\n",
       "      <th>description</th>\n",
       "      <th>notifications</th>\n",
       "      <th>scheduling</th>\n",
       "      <th>qos_metrics</th>\n",
       "      <th>ownership</th>\n",
       "      <th>creation_date</th>\n",
       "      <th>archived_date</th>\n",
       "      <th>status</th>\n",
       "      <th>state</th>\n",
       "      <th>counters_location</th>\n",
       "      <th>last_modified</th>\n",
       "      <th>current_path</th>\n",
       "      <th>oxp_service_ids</th>\n",
       "    </tr>\n",
       "  </thead>\n",
       "  <tbody>\n",
       "    <tr>\n",
       "      <th>0</th>\n",
       "      <td>15e51695-bb9f-422e-8c6b-694296c3a2fb</td>\n",
       "      <td>new-connection</td>\n",
       "      <td>[{'port_id': 'urn:sdx:port:ampath.net:Ampath3:...</td>\n",
       "      <td>None</td>\n",
       "      <td>None</td>\n",
       "      <td>None</td>\n",
       "      <td>None</td>\n",
       "      <td>None</td>\n",
       "      <td>None</td>\n",
       "      <td>None</td>\n",
       "      <td>None</td>\n",
       "      <td>None</td>\n",
       "      <td>None</td>\n",
       "      <td>None</td>\n",
       "      <td>[{'port_id': 'urn:sdx:port:ampath.net:Ampath3:...</td>\n",
       "      <td>None</td>\n",
       "    </tr>\n",
       "    <tr>\n",
       "      <th>1</th>\n",
       "      <td>51de2931-7743-40f8-825e-97c08848baf1</td>\n",
       "      <td>new-connection</td>\n",
       "      <td>[{'port_id': 'urn:sdx:port:ampath.net:Ampath3:...</td>\n",
       "      <td>None</td>\n",
       "      <td>None</td>\n",
       "      <td>None</td>\n",
       "      <td>None</td>\n",
       "      <td>None</td>\n",
       "      <td>None</td>\n",
       "      <td>None</td>\n",
       "      <td>None</td>\n",
       "      <td>None</td>\n",
       "      <td>None</td>\n",
       "      <td>None</td>\n",
       "      <td>[{'port_id': 'urn:sdx:port:ampath.net:Ampath3:...</td>\n",
       "      <td>None</td>\n",
       "    </tr>\n",
       "    <tr>\n",
       "      <th>2</th>\n",
       "      <td>96191a70-d50a-4997-9112-c9b4765feca0</td>\n",
       "      <td>demo connection for SC video</td>\n",
       "      <td>[{'port_id': 'urn:sdx:port:ampath.net:Ampath1:...</td>\n",
       "      <td>This is a demo connection for SC video.</td>\n",
       "      <td>[{'email': 'sample@gmail.com'}]</td>\n",
       "      <td>{'end_time': '2024-11-07', 'start_time': '2024...</td>\n",
       "      <td>{'max_delay': {'strict': False, 'value': 45}, ...</td>\n",
       "      <td>None</td>\n",
       "      <td>None</td>\n",
       "      <td>None</td>\n",
       "      <td>None</td>\n",
       "      <td>None</td>\n",
       "      <td>None</td>\n",
       "      <td>None</td>\n",
       "      <td>[{'port_id': 'urn:sdx:port:ampath.net:Ampath1:...</td>\n",
       "      <td>None</td>\n",
       "    </tr>\n",
       "    <tr>\n",
       "      <th>3</th>\n",
       "      <td>eb930e37-e43f-4c99-bbd9-3524d1c8d557</td>\n",
       "      <td>new-connection</td>\n",
       "      <td>[{'port_id': 'urn:sdx:port:ampath.net:Ampath3:...</td>\n",
       "      <td>test description</td>\n",
       "      <td>None</td>\n",
       "      <td>None</td>\n",
       "      <td>None</td>\n",
       "      <td>None</td>\n",
       "      <td>None</td>\n",
       "      <td>None</td>\n",
       "      <td>None</td>\n",
       "      <td>None</td>\n",
       "      <td>None</td>\n",
       "      <td>None</td>\n",
       "      <td>[{'port_id': 'urn:sdx:port:ampath.net:Ampath3:...</td>\n",
       "      <td>None</td>\n",
       "    </tr>\n",
       "    <tr>\n",
       "      <th>4</th>\n",
       "      <td>f8cf59bf-fb54-445b-992f-c74d9123fafc</td>\n",
       "      <td>Test SDX SC24 L2VPN</td>\n",
       "      <td>[{'port_id': 'urn:sdx:port:ampath.net:Ampath2:...</td>\n",
       "      <td>None</td>\n",
       "      <td>None</td>\n",
       "      <td>None</td>\n",
       "      <td>None</td>\n",
       "      <td>None</td>\n",
       "      <td>None</td>\n",
       "      <td>None</td>\n",
       "      <td>None</td>\n",
       "      <td>None</td>\n",
       "      <td>None</td>\n",
       "      <td>None</td>\n",
       "      <td>[{'port_id': 'urn:sdx:port:ampath.net:Ampath2:...</td>\n",
       "      <td>None</td>\n",
       "    </tr>\n",
       "  </tbody>\n",
       "</table>\n",
       "</div>"
      ],
      "text/plain": [
       "                             service_id                          name  \\\n",
       "0  15e51695-bb9f-422e-8c6b-694296c3a2fb                new-connection   \n",
       "1  51de2931-7743-40f8-825e-97c08848baf1                new-connection   \n",
       "2  96191a70-d50a-4997-9112-c9b4765feca0  demo connection for SC video   \n",
       "3  eb930e37-e43f-4c99-bbd9-3524d1c8d557                new-connection   \n",
       "4  f8cf59bf-fb54-445b-992f-c74d9123fafc           Test SDX SC24 L2VPN   \n",
       "\n",
       "                                           endpoints  \\\n",
       "0  [{'port_id': 'urn:sdx:port:ampath.net:Ampath3:...   \n",
       "1  [{'port_id': 'urn:sdx:port:ampath.net:Ampath3:...   \n",
       "2  [{'port_id': 'urn:sdx:port:ampath.net:Ampath1:...   \n",
       "3  [{'port_id': 'urn:sdx:port:ampath.net:Ampath3:...   \n",
       "4  [{'port_id': 'urn:sdx:port:ampath.net:Ampath2:...   \n",
       "\n",
       "                               description                    notifications  \\\n",
       "0                                     None                             None   \n",
       "1                                     None                             None   \n",
       "2  This is a demo connection for SC video.  [{'email': 'sample@gmail.com'}]   \n",
       "3                         test description                             None   \n",
       "4                                     None                             None   \n",
       "\n",
       "                                          scheduling  \\\n",
       "0                                               None   \n",
       "1                                               None   \n",
       "2  {'end_time': '2024-11-07', 'start_time': '2024...   \n",
       "3                                               None   \n",
       "4                                               None   \n",
       "\n",
       "                                         qos_metrics ownership creation_date  \\\n",
       "0                                               None      None          None   \n",
       "1                                               None      None          None   \n",
       "2  {'max_delay': {'strict': False, 'value': 45}, ...      None          None   \n",
       "3                                               None      None          None   \n",
       "4                                               None      None          None   \n",
       "\n",
       "  archived_date status state counters_location last_modified  \\\n",
       "0          None   None  None              None          None   \n",
       "1          None   None  None              None          None   \n",
       "2          None   None  None              None          None   \n",
       "3          None   None  None              None          None   \n",
       "4          None   None  None              None          None   \n",
       "\n",
       "                                        current_path oxp_service_ids  \n",
       "0  [{'port_id': 'urn:sdx:port:ampath.net:Ampath3:...            None  \n",
       "1  [{'port_id': 'urn:sdx:port:ampath.net:Ampath3:...            None  \n",
       "2  [{'port_id': 'urn:sdx:port:ampath.net:Ampath1:...            None  \n",
       "3  [{'port_id': 'urn:sdx:port:ampath.net:Ampath3:...            None  \n",
       "4  [{'port_id': 'urn:sdx:port:ampath.net:Ampath2:...            None  "
      ]
     },
     "execution_count": 21,
     "metadata": {},
     "output_type": "execute_result"
    }
   ],
   "source": [
    "client.get_all_l2vpns()"
   ]
  },
  {
   "cell_type": "markdown",
   "metadata": {},
   "source": [
    "## Query a Specific L2VPN"
   ]
  },
  {
   "cell_type": "code",
   "execution_count": 28,
   "metadata": {},
   "outputs": [
    {
     "data": {
      "text/html": [
       "<div>\n",
       "<style scoped>\n",
       "    .dataframe tbody tr th:only-of-type {\n",
       "        vertical-align: middle;\n",
       "    }\n",
       "\n",
       "    .dataframe tbody tr th {\n",
       "        vertical-align: top;\n",
       "    }\n",
       "\n",
       "    .dataframe thead th {\n",
       "        text-align: right;\n",
       "    }\n",
       "</style>\n",
       "<table border=\"1\" class=\"dataframe\">\n",
       "  <thead>\n",
       "    <tr style=\"text-align: right;\">\n",
       "      <th></th>\n",
       "      <th>service_id</th>\n",
       "      <th>name</th>\n",
       "      <th>port_id</th>\n",
       "      <th>vlan</th>\n",
       "      <th>description</th>\n",
       "      <th>qos_metrics</th>\n",
       "      <th>notifications</th>\n",
       "      <th>ownership</th>\n",
       "      <th>creation_date</th>\n",
       "      <th>archived_date</th>\n",
       "      <th>status</th>\n",
       "      <th>state</th>\n",
       "      <th>counters_location</th>\n",
       "      <th>last_modified</th>\n",
       "      <th>current_path</th>\n",
       "    </tr>\n",
       "  </thead>\n",
       "  <tbody>\n",
       "    <tr>\n",
       "      <th>0</th>\n",
       "      <td>f8cf59bf-fb54-445b-992f-c74d9123fafc</td>\n",
       "      <td>Test SDX SC24 L2VPN</td>\n",
       "      <td>urn:sdx:port:ampath.net:Ampath2:50</td>\n",
       "      <td>301</td>\n",
       "      <td>None</td>\n",
       "      <td>None</td>\n",
       "      <td>None</td>\n",
       "      <td>None</td>\n",
       "      <td>None</td>\n",
       "      <td>None</td>\n",
       "      <td>None</td>\n",
       "      <td>None</td>\n",
       "      <td>None</td>\n",
       "      <td>None</td>\n",
       "      <td>[{'port_id': 'urn:sdx:port:ampath.net:Ampath2:...</td>\n",
       "    </tr>\n",
       "    <tr>\n",
       "      <th>1</th>\n",
       "      <td>f8cf59bf-fb54-445b-992f-c74d9123fafc</td>\n",
       "      <td>Test SDX SC24 L2VPN</td>\n",
       "      <td>urn:sdx:port:tenet.ac.za:Tenet02:50</td>\n",
       "      <td>301</td>\n",
       "      <td>None</td>\n",
       "      <td>None</td>\n",
       "      <td>None</td>\n",
       "      <td>None</td>\n",
       "      <td>None</td>\n",
       "      <td>None</td>\n",
       "      <td>None</td>\n",
       "      <td>None</td>\n",
       "      <td>None</td>\n",
       "      <td>None</td>\n",
       "      <td>[{'port_id': 'urn:sdx:port:ampath.net:Ampath2:...</td>\n",
       "    </tr>\n",
       "  </tbody>\n",
       "</table>\n",
       "</div>"
      ],
      "text/plain": [
       "                             service_id                 name  \\\n",
       "0  f8cf59bf-fb54-445b-992f-c74d9123fafc  Test SDX SC24 L2VPN   \n",
       "1  f8cf59bf-fb54-445b-992f-c74d9123fafc  Test SDX SC24 L2VPN   \n",
       "\n",
       "                               port_id vlan description qos_metrics  \\\n",
       "0   urn:sdx:port:ampath.net:Ampath2:50  301        None        None   \n",
       "1  urn:sdx:port:tenet.ac.za:Tenet02:50  301        None        None   \n",
       "\n",
       "  notifications ownership creation_date archived_date status state  \\\n",
       "0          None      None          None          None   None  None   \n",
       "1          None      None          None          None   None  None   \n",
       "\n",
       "  counters_location last_modified  \\\n",
       "0              None          None   \n",
       "1              None          None   \n",
       "\n",
       "                                        current_path  \n",
       "0  [{'port_id': 'urn:sdx:port:ampath.net:Ampath2:...  \n",
       "1  [{'port_id': 'urn:sdx:port:ampath.net:Ampath2:...  "
      ]
     },
     "execution_count": 28,
     "metadata": {},
     "output_type": "execute_result"
    }
   ],
   "source": [
    "client.get_l2vpn(service_id=my_service_id)"
   ]
  },
  {
   "cell_type": "code",
   "execution_count": 23,
   "metadata": {},
   "outputs": [
    {
     "name": "stdout",
     "output_type": "stream",
     "text": [
      "PING 192.168.1.10 (192.168.1.10) 56(84) bytes of data.\n",
      "From 192.168.1.101 icmp_seq=1 Destination Host Unreachable\n",
      "From 192.168.1.101 icmp_seq=2 Destination Host Unreachable\n",
      "From 192.168.1.101 icmp_seq=3 Destination Host Unreachable\n",
      "From 192.168.1.101 icmp_seq=4 Destination Host Unreachable\n",
      "From 192.168.1.101 icmp_seq=5 Destination Host Unreachable\n",
      "\n",
      "--- 192.168.1.10 ping statistics ---\n",
      "5 packets transmitted, 0 received, +5 errors, 100% packet loss, time 4104ms\n",
      "pipe 3\n"
     ]
    }
   ],
   "source": [
    "stdout, stderr = node1.execute(f'ping -c 5 192.168.1.10')   # This is expected to pass."
   ]
  },
  {
   "cell_type": "markdown",
   "metadata": {},
   "source": [
    "## Proceed With Reseach"
   ]
  },
  {
   "cell_type": "markdown",
   "metadata": {},
   "source": [
    "**This is the area where network research will be completed.**"
   ]
  },
  {
   "cell_type": "markdown",
   "metadata": {},
   "source": [
    "## Delete L2VPN"
   ]
  },
  {
   "cell_type": "markdown",
   "metadata": {},
   "source": [
    "Please make certain to delete when you are finished. "
   ]
  },
  {
   "cell_type": "code",
   "execution_count": 29,
   "metadata": {},
   "outputs": [
    {
     "data": {
      "text/plain": [
       "'OK'"
      ]
     },
     "execution_count": 29,
     "metadata": {},
     "output_type": "execute_result"
    }
   ],
   "source": [
    "client.delete_l2vpn(service_id=my_service_id)"
   ]
  },
  {
   "cell_type": "markdown",
   "metadata": {
    "tags": []
   },
   "source": [
    "## Delete the Slice"
   ]
  },
  {
   "cell_type": "code",
   "execution_count": 30,
   "metadata": {
    "tags": []
   },
   "outputs": [],
   "source": [
    "slice.delete()"
   ]
  }
 ],
 "metadata": {
  "kernelspec": {
   "display_name": "Python 3 (ipykernel)",
   "language": "python",
   "name": "python3"
  },
  "language_info": {
   "codemirror_mode": {
    "name": "ipython",
    "version": 3
   },
   "file_extension": ".py",
   "mimetype": "text/x-python",
   "name": "python",
   "nbconvert_exporter": "python",
   "pygments_lexer": "ipython3",
   "version": "3.11.8"
  }
 },
 "nbformat": 4,
 "nbformat_minor": 4
}
