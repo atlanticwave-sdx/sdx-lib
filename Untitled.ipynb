{
 "cells": [
  {
   "cell_type": "code",
   "execution_count": 11,
   "id": "aaed5220",
   "metadata": {},
   "outputs": [
    {
     "name": "stdout",
     "output_type": "stream",
     "text": [
      "/c/Users/Sharon/Documents/GitHub/SDX-Internship/sdx311env/Scripts/python\n"
     ]
    }
   ],
   "source": [
    "!which python"
   ]
  },
  {
   "cell_type": "code",
   "execution_count": 1,
   "id": "c070fea6",
   "metadata": {},
   "outputs": [],
   "source": [
    "from pprint import pprint\n",
    "import requests\n",
    "import requests_mock\n",
    "\n",
    "from config import *\n",
    "from sdxlib.sdx_client import SDXClient\n",
    "from sdxlib.sdx_exception import SDXException"
   ]
  },
  {
   "cell_type": "code",
   "execution_count": 7,
   "id": "128a37f9",
   "metadata": {},
   "outputs": [],
   "source": [
    "# Define the required attributes\n",
    "url = \"http://aw-sdx-controller.renci.org:8081\"\n",
    "client_name = \"Test L2VPN\"\n",
    "client_endpoints = [\n",
    "    {\"port_id\": \"urn:sdx:port:sax.br:Rtr01:50\", \"vlan\": \"any\"},\n",
    "    {\"port_id\": \"urn:sdx:port:ampath.net:Ampath3:50\", \"vlan\": \"any\"}\n",
    "]"
   ]
  },
  {
   "cell_type": "code",
   "execution_count": 8,
   "id": "efe35db6",
   "metadata": {},
   "outputs": [],
   "source": [
    "client = SDXClient(url, client_name, client_endpoints)"
   ]
  },
  {
   "cell_type": "code",
   "execution_count": 9,
   "id": "bee01a40",
   "metadata": {},
   "outputs": [
    {
     "data": {
      "text/plain": [
       "SDXClient(base_url=http://aw-sdx-controller.renci.org:8081, name=Test L2VPN, endpoints=[{'port_id': 'urn:sdx:port:sax.br:Rtr01:50', 'vlan': 'any'}, {'port_id': 'urn:sdx:port:ampath.net:Ampath3:50', 'vlan': 'any'}])"
      ]
     },
     "execution_count": 9,
     "metadata": {},
     "output_type": "execute_result"
    }
   ],
   "source": [
    "client"
   ]
  },
  {
   "cell_type": "code",
   "execution_count": 10,
   "id": "0862c350",
   "metadata": {},
   "outputs": [
    {
     "name": "stderr",
     "output_type": "stream",
     "text": [
      "Failed to create L2VPN. Status code: 404: Unknown error occurred.\n"
     ]
    },
    {
     "ename": "SDXException",
     "evalue": "Unknown error occurred.",
     "output_type": "error",
     "traceback": [
      "\u001b[1;31m---------------------------------------------------------------------------\u001b[0m",
      "\u001b[1;31mHTTPError\u001b[0m                                 Traceback (most recent call last)",
      "File \u001b[1;32m~\\Documents\\GitHub\\SDX-Internship\\sdxlib\\sdxlib\\sdx_client.py:476\u001b[0m, in \u001b[0;36mSDXClient.create_l2vpn\u001b[1;34m(self)\u001b[0m\n\u001b[0;32m    475\u001b[0m response \u001b[38;5;241m=\u001b[39m requests\u001b[38;5;241m.\u001b[39mpost(url, json\u001b[38;5;241m=\u001b[39mpayload, timeout\u001b[38;5;241m=\u001b[39m\u001b[38;5;241m120\u001b[39m)\n\u001b[1;32m--> 476\u001b[0m \u001b[43mresponse\u001b[49m\u001b[38;5;241;43m.\u001b[39;49m\u001b[43mraise_for_status\u001b[49m\u001b[43m(\u001b[49m\u001b[43m)\u001b[49m\n\u001b[0;32m    477\u001b[0m response_json \u001b[38;5;241m=\u001b[39m response\u001b[38;5;241m.\u001b[39mjson()\n",
      "File \u001b[1;32m~\\Documents\\GitHub\\SDX-Internship\\sdx311env\\Lib\\site-packages\\requests\\models.py:1024\u001b[0m, in \u001b[0;36mResponse.raise_for_status\u001b[1;34m(self)\u001b[0m\n\u001b[0;32m   1023\u001b[0m \u001b[38;5;28;01mif\u001b[39;00m http_error_msg:\n\u001b[1;32m-> 1024\u001b[0m     \u001b[38;5;28;01mraise\u001b[39;00m HTTPError(http_error_msg, response\u001b[38;5;241m=\u001b[39m\u001b[38;5;28mself\u001b[39m)\n",
      "\u001b[1;31mHTTPError\u001b[0m: 404 Client Error: Not Found for url: http://aw-sdx-controller.renci.org:8081/l2vpn/1.0",
      "\nDuring handling of the above exception, another exception occurred:\n",
      "\u001b[1;31mSDXException\u001b[0m                              Traceback (most recent call last)",
      "Cell \u001b[1;32mIn[10], line 1\u001b[0m\n\u001b[1;32m----> 1\u001b[0m \u001b[43mclient\u001b[49m\u001b[38;5;241;43m.\u001b[39;49m\u001b[43mcreate_l2vpn\u001b[49m\u001b[43m(\u001b[49m\u001b[43m)\u001b[49m\n",
      "File \u001b[1;32m~\\Documents\\GitHub\\SDX-Internship\\sdxlib\\sdxlib\\sdx_client.py:498\u001b[0m, in \u001b[0;36mSDXClient.create_l2vpn\u001b[1;34m(self)\u001b[0m\n\u001b[0;32m    494\u001b[0m     error_message \u001b[38;5;241m=\u001b[39m method_messages\u001b[38;5;241m.\u001b[39mget(status_code, \u001b[38;5;124m\"\u001b[39m\u001b[38;5;124mUnknown error occurred.\u001b[39m\u001b[38;5;124m\"\u001b[39m)\n\u001b[0;32m    495\u001b[0m     \u001b[38;5;28mself\u001b[39m\u001b[38;5;241m.\u001b[39m_logger\u001b[38;5;241m.\u001b[39merror(\n\u001b[0;32m    496\u001b[0m         \u001b[38;5;124mf\u001b[39m\u001b[38;5;124m\"\u001b[39m\u001b[38;5;124mFailed to create L2VPN. Status code: \u001b[39m\u001b[38;5;132;01m{\u001b[39;00mstatus_code\u001b[38;5;132;01m}\u001b[39;00m\u001b[38;5;124m: \u001b[39m\u001b[38;5;132;01m{\u001b[39;00merror_message\u001b[38;5;132;01m}\u001b[39;00m\u001b[38;5;124m\"\u001b[39m\n\u001b[0;32m    497\u001b[0m     )\n\u001b[1;32m--> 498\u001b[0m     \u001b[38;5;28;01mraise\u001b[39;00m SDXException(\n\u001b[0;32m    499\u001b[0m         status_code\u001b[38;5;241m=\u001b[39mstatus_code,\n\u001b[0;32m    500\u001b[0m         method_messages\u001b[38;5;241m=\u001b[39mmethod_messages,\n\u001b[0;32m    501\u001b[0m         message\u001b[38;5;241m=\u001b[39merror_message,\n\u001b[0;32m    502\u001b[0m     )\n\u001b[0;32m    503\u001b[0m \u001b[38;5;28;01mexcept\u001b[39;00m RequestException \u001b[38;5;28;01mas\u001b[39;00m e:\n\u001b[0;32m    504\u001b[0m     \u001b[38;5;28mself\u001b[39m\u001b[38;5;241m.\u001b[39m_logger\u001b[38;5;241m.\u001b[39merror(\u001b[38;5;124mf\u001b[39m\u001b[38;5;124m\"\u001b[39m\u001b[38;5;124mAn error occurred while creating L2VPN: \u001b[39m\u001b[38;5;132;01m{\u001b[39;00me\u001b[38;5;132;01m}\u001b[39;00m\u001b[38;5;124m\"\u001b[39m)\n",
      "\u001b[1;31mSDXException\u001b[0m: Unknown error occurred."
     ]
    }
   ],
   "source": [
    "client.create_l2vpn()"
   ]
  },
  {
   "cell_type": "code",
   "execution_count": null,
   "id": "4d207fde",
   "metadata": {},
   "outputs": [],
   "source": []
  }
 ],
 "metadata": {
  "kernelspec": {
   "display_name": "sdx311env",
   "language": "python",
   "name": "sdx311env"
  },
  "language_info": {
   "codemirror_mode": {
    "name": "ipython",
    "version": 3
   },
   "file_extension": ".py",
   "mimetype": "text/x-python",
   "name": "python",
   "nbconvert_exporter": "python",
   "pygments_lexer": "ipython3",
   "version": "3.11.9"
  }
 },
 "nbformat": 4,
 "nbformat_minor": 5
}
