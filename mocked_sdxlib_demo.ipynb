{
 "cells": [
  {
   "cell_type": "markdown",
   "id": "0108edb2",
   "metadata": {},
   "source": [
    "# SDXLIB Demonstration\n",
    "\n",
    "**The intention of this notebook is to demonstrate the most basic methods available in the SDXLIB library on the most basic instance accepted by the API. Future notebooks will demonstrate the optional attributes and additional error handling.**"
   ]
  },
  {
   "cell_type": "markdown",
   "id": "33c63ac4",
   "metadata": {},
   "source": [
    "Once the API is in place, requests_mock and config should no longer be necessary."
   ]
  },
  {
   "cell_type": "code",
   "execution_count": 1,
   "id": "95b3b5a4",
   "metadata": {},
   "outputs": [],
   "source": [
    "import json\n",
    "from pprint import pprint\n",
    "import requests\n",
    "import requests_mock\n",
    "\n",
    "from config import *\n",
    "from sdxlib.sdx_client import SDXClient\n",
    "from sdxlib.sdx_exception import SDXException\n",
    "from sdxlib.sdx_response import SDXTopologyResponse\n",
    "from sdxlib.sdx_topology import *"
   ]
  },
  {
   "cell_type": "markdown",
   "id": "47c92e0c",
   "metadata": {},
   "source": [
    "# Creating L2VPN"
   ]
  },
  {
   "cell_type": "markdown",
   "id": "6923edb2",
   "metadata": {},
   "source": [
    "### Demonstration of L2VPN Client Creation and Error Handling\n",
    "\n",
    "**This portion of the demo will create an 'SDXClient' instance using the minimum required attributes for the API request:**\n",
    "* URL - \"http://example.com\"\n",
    "* Name - Any string that is less than 50 characters.\n",
    "* Endpoints - A list of dictionaries. Each dictionary must contain the following keys:\n",
    "    * port_id - The Uniform Resource Name (URN) of a network device's port. Must follow the pattern: \"urn:sdx:port:<oxp_url>:<node_name>:<port_name>\"\n",
    "    * vlan: Describes how the SDX and OXPs should treat L2VPN frames. Accepted values are:\n",
    "        * \"any\"\n",
    "        * \"all\"\n",
    "        * \"untagged\"\n",
    "        * integer string\n",
    "        * VLAN range in the format \"VLAN ID1:VLAN ID2\""
   ]
  },
  {
   "cell_type": "code",
   "execution_count": 2,
   "id": "7d50a9ef",
   "metadata": {},
   "outputs": [],
   "source": [
    "# Define the required attributes\n",
    "url = \"http://aw-sdx-controller.renci.org:8081\"\n",
    "client_name = \"Test L2VPN\"\n",
    "client_endpoints = [\n",
    "    {\"port_id\": \"urn:sdx:port:sax.br:Rtr01:50\", \"vlan\": \"any\"},\n",
    "    {\"port_id\": \"urn:sdx:port:ampath.net:Ampath3:50\", \"vlan\": \"any\"}\n",
    "]"
   ]
  },
  {
   "cell_type": "code",
   "execution_count": 3,
   "id": "f9252bc4",
   "metadata": {},
   "outputs": [],
   "source": [
    "# Create the L2VPN object\n",
    "client = SDXClient(url, client_name, client_endpoints)"
   ]
  },
  {
   "cell_type": "code",
   "execution_count": 4,
   "id": "198f63d3",
   "metadata": {},
   "outputs": [
    {
     "data": {
      "text/plain": [
       "SDXClient(name=Test L2VPN, endpoints=[{'port_id': 'urn:sdx:port:sax.br:Rtr01:50', 'vlan': 'any'}, {'port_id': 'urn:sdx:port:ampath.net:Ampath3:50', 'vlan': 'any'}], description=None, notifications=None, scheduling=None, qos_metrics=None, base_url=http://aw-sdx-controller.renci.org:8081)"
      ]
     },
     "execution_count": 4,
     "metadata": {},
     "output_type": "execute_result"
    }
   ],
   "source": [
    "client"
   ]
  },
  {
   "cell_type": "markdown",
   "id": "ffecc91e",
   "metadata": {},
   "source": [
    "### Error Handling\n",
    "\n",
    "**The below mocks the call to the API which should return an error code of 409, indicating that the specified service already exists.**"
   ]
  },
  {
   "cell_type": "code",
   "execution_count": 5,
   "id": "dece2cba",
   "metadata": {},
   "outputs": [
    {
     "name": "stderr",
     "output_type": "stream",
     "text": [
      "Failed to create L2VPN. Status code: 409: L2VPN Service already exists\n"
     ]
    },
    {
     "name": "stdout",
     "output_type": "stream",
     "text": [
      "Request URL: http://aw-sdx-controller.renci.org:8081/l2vpn/1.0\n",
      "L2VPN creation failed: SDXException: L2VPN Service already exists (status_code=409)\n"
     ]
    }
   ],
   "source": [
    "# Create a mocker for requests for the unsuccessful case\n",
    "with requests_mock.Mocker() as mock_requests:\n",
    "    # Mock unsuccessful L2VPN creation\n",
    "    mock_requests.register_uri(\n",
    "        \"POST\", f\"{url}/l2vpn/1.0\",\n",
    "        json=mock_response_unsuccessful_409,\n",
    "        status_code=409  # Set status code for unsuccessful creation (Options are: 400, 401, 402, 409, 410, 411, 422)\n",
    "    )\n",
    "    \n",
    "    # Debug print to verify the mock setup\n",
    "    print(f\"Request URL: {url}/l2vpn/1.0\")\n",
    "\n",
    "    try:\n",
    "        response = client.create_l2vpn()  \n",
    "        print(\"Request successful.\")\n",
    "    except SDXException as e:\n",
    "        print(f\"L2VPN creation failed: {e}\")  "
   ]
  },
  {
   "cell_type": "markdown",
   "id": "50969633",
   "metadata": {},
   "source": [
    "**This example will demonstrate a 'Connection error'. This should cause an SDXException.**"
   ]
  },
  {
   "cell_type": "code",
   "execution_count": 6,
   "id": "5f424495",
   "metadata": {},
   "outputs": [
    {
     "name": "stderr",
     "output_type": "stream",
     "text": [
      "An error occurred while creating L2VPN: Connection error\n"
     ]
    },
    {
     "name": "stdout",
     "output_type": "stream",
     "text": [
      "Request URL: http://aw-sdx-controller.renci.org:8081/l2vpn/1.0\n",
      "L2VPN creation failed: SDXException: An error occurred while creating L2VPN: Connection error (status_code=None)\n"
     ]
    }
   ],
   "source": [
    "# Create a mocker for requests to simulate a RequestException\n",
    "with requests_mock.Mocker() as mock_requests:\n",
    "    # Mock a request exception scenario (e.g., connection error)\n",
    "    mock_requests.register_uri(\n",
    "        \"POST\", f\"{url}/l2vpn/1.0\",\n",
    "        exc=requests.exceptions.RequestException(\"Connection error\")\n",
    "    )\n",
    "    \n",
    "    # Debug print to verify the mock setup\n",
    "    print(f\"Request URL: {url}/l2vpn/1.0\")\n",
    "\n",
    "    try:\n",
    "        response = client.create_l2vpn()  \n",
    "    except SDXException as e:\n",
    "        print(f\"L2VPN creation failed: {e}\")  \n",
    "    except requests.exceptions.RequestException as e:\n",
    "        print(f\"Request exception occurred: {e}\")  "
   ]
  },
  {
   "cell_type": "markdown",
   "id": "3aec6384",
   "metadata": {},
   "source": [
    "### Successful Call to the API\n",
    "\n",
    "**This call should return a response from the API with the service_id attribute which has a value in the form of UUID.**"
   ]
  },
  {
   "cell_type": "code",
   "execution_count": 7,
   "id": "0ccf3fe3",
   "metadata": {},
   "outputs": [
    {
     "name": "stdout",
     "output_type": "stream",
     "text": [
      "Request URL: http://aw-sdx-controller.renci.org:8081/l2vpn/1.0\n",
      "L2VPN creation successful!\n",
      "{'service_id': '123e4567-e89b-12d3-a456-426614174000'}\n"
     ]
    }
   ],
   "source": [
    "# Create a mocker for requests\n",
    "with requests_mock.Mocker() as mock_requests:\n",
    "    # Mock successful L2VPN creation\n",
    "    mock_requests.register_uri(\n",
    "        \"POST\", f\"{url}/l2vpn/1.0\", \n",
    "        json=mock_response_successful,\n",
    "        status_code=201  # Set status code for successful creation\n",
    "    )\n",
    "    \n",
    "    # Debug statement to confirm URL and method\n",
    "    print(f\"Request URL: {url}/l2vpn/1.0\")\n",
    "\n",
    "    try:\n",
    "        response = client.create_l2vpn()  \n",
    "        print(\"L2VPN creation successful!\")\n",
    "        pprint(response)\n",
    "    except SDXException as e:\n",
    "        print(f\"L2VPN creation failed: {e}\")  "
   ]
  },
  {
   "cell_type": "markdown",
   "id": "a6359337",
   "metadata": {},
   "source": [
    "# Update L2VPNs"
   ]
  },
  {
   "cell_type": "markdown",
   "id": "040d6510",
   "metadata": {},
   "source": [
    "### Demonstration of L2VPN Client Update and Error Handling\n",
    "\n",
    "**Again, create a client instance with the minimum required attributes for a successful API call.**\n",
    "\n",
    "The update method requires the service_id and any attributes that are to be updated. The attributes that may be updated are: name, endpoints, description, notifications, scheduling, qos_metrics, and the state attribute that is returned from the API. The state attribute may be updated to \"enabled\" or \"disabled\"."
   ]
  },
  {
   "cell_type": "code",
   "execution_count": 8,
   "id": "d7cf8c1f",
   "metadata": {},
   "outputs": [],
   "source": [
    "# Define your SDXClient instance with mock URL and initial configuration\n",
    "url = \"http://aw-sdx-controller.renci.org:8081\""
   ]
  },
  {
   "cell_type": "code",
   "execution_count": 9,
   "id": "0f3ed676",
   "metadata": {},
   "outputs": [],
   "source": [
    "# Create the SDXClient instance\n",
    "client = SDXClient(url)"
   ]
  },
  {
   "cell_type": "markdown",
   "id": "43ef2809",
   "metadata": {},
   "source": [
    "### Error Handling\n",
    "\n",
    "**Here, we are going to attempt an update to the name, description, and state attributes. This example should demonstrate the returned exception for a 404 response, the supplied service_id is not found.**"
   ]
  },
  {
   "cell_type": "code",
   "execution_count": 10,
   "id": "cc3ac877",
   "metadata": {},
   "outputs": [
    {
     "name": "stderr",
     "output_type": "stream",
     "text": [
      "Failed to update L2VPN. Status code: 404: L2VPN Service ID not found\n"
     ]
    },
    {
     "name": "stdout",
     "output_type": "stream",
     "text": [
      "Request URL: http://aw-sdx-controller.renci.org:8081/l2vpn/1.0/123e4567-e89b-12d3-a456-426614174000\n",
      "SDXException: SDXException: L2VPN Service ID not found (status_code=404)\n"
     ]
    }
   ],
   "source": [
    "# Example update_l2vpn scenario with requests_mock\n",
    "with requests_mock.Mocker() as m:\n",
    "\n",
    "    # Mock endpoint URL\n",
    "    mock_url = f\"{url}/l2vpn/{client.VERSION}/123e4567-e89b-12d3-a456-426614174000\"\n",
    "    \n",
    "    # Example for handling other status codes if needed\n",
    "    m.patch(mock_url, status_code=404)  # Mocking 404 response\n",
    "    \n",
    "    print(f\"Request URL: {mock_url}\")\n",
    "    \n",
    "    try:\n",
    "        response = client.update_l2vpn(service_id=\"123e4567-e89b-12d3-a456-426614174000\", name=\"New L2VPN Name\", description=\"Updated description\", state=\"enabled\")\n",
    "        print(\"Update Successful:\")\n",
    "        pprint(response)\n",
    "    except SDXException as e:\n",
    "        print(\"SDXException:\", e)\n",
    "    except Exception as e:\n",
    "        print(\"Exception:\", e)"
   ]
  },
  {
   "cell_type": "markdown",
   "id": "f28c8b80",
   "metadata": {},
   "source": [
    "**And here I expect to see a successful response, with a description indicating that the L2VPN has been modified along with the service_id for the modified object.**"
   ]
  },
  {
   "cell_type": "code",
   "execution_count": 11,
   "id": "ca5124ce",
   "metadata": {},
   "outputs": [
    {
     "name": "stdout",
     "output_type": "stream",
     "text": [
      "Request URL: http://aw-sdx-controller.renci.org:8081/l2vpn/1.0/123e4567-e89b-12d3-a456-426614174000\n",
      "Update Successful\n",
      "None\n"
     ]
    }
   ],
   "source": [
    "# Example update_l2vpn scenario with requests_mock\n",
    "with requests_mock.Mocker() as m:\n",
    "\n",
    "    # Mock endpoint URL\n",
    "    mock_url = f\"{url}/l2vpn/{client.VERSION}/123e4567-e89b-12d3-a456-426614174000\"\n",
    "    \n",
    "    # Register mock response for patch request\n",
    "    m.patch(mock_url, json=mock_response, status_code=200)\n",
    "    \n",
    "    print(f\"Request URL: {mock_url}\")\n",
    "    \n",
    "    # Call the update_l2vpn method\n",
    "    try:\n",
    "        response = client.update_l2vpn(service_id=\"123e4567-e89b-12d3-a456-426614174000\", name=\"New L2VPN Name\", description=\"Updated description\", state=\"enabled\")\n",
    "        print(\"Update Successful\")\n",
    "        pprint(response)\n",
    "    except SDXException as e:\n",
    "        print(\"SDXException:\", e)\n",
    "    except Exception as e:\n",
    "        print(\"Exception:\", e)\n"
   ]
  },
  {
   "cell_type": "markdown",
   "id": "06454804",
   "metadata": {},
   "source": [
    "# Retrieve All L2VPNs\n",
    "\n",
    "### Demonstration to retrieve all L2VPN Clients and Error Handling\n",
    "\n",
    "**Now we will query the API for a list of all available L2VPNs. Therefore, we will create a client that is empty except for the URL.**\n",
    "\n",
    "There are two retrieval methods, one to retreive a list of all L2VPNs and one to retrieve the information for a single L2VPN (we will discuss this one next). "
   ]
  },
  {
   "cell_type": "code",
   "execution_count": 12,
   "id": "e55280a9",
   "metadata": {},
   "outputs": [],
   "source": [
    "client = SDXClient(url)"
   ]
  },
  {
   "cell_type": "markdown",
   "id": "dbf47783",
   "metadata": {},
   "source": [
    "### Error Handling\n",
    "\n",
    "**This error should simulate a network error.** "
   ]
  },
  {
   "cell_type": "code",
   "execution_count": 13,
   "id": "5d693b63",
   "metadata": {},
   "outputs": [
    {
     "name": "stderr",
     "output_type": "stream",
     "text": [
      "Failed to retrieve L2VPN(s): Simulated network error\n"
     ]
    },
    {
     "name": "stdout",
     "output_type": "stream",
     "text": [
      "Request URL: http://aw-sdx-controller.renci.org:8081/l2vpn/1.0\n",
      "SDXException: Unknown error occurred. (status_code=Failed to retrieve L2VPN(s): Simulated network error)\n"
     ]
    }
   ],
   "source": [
    "with requests_mock.Mocker() as mock_requests:\n",
    "    # Simulate a RequestException (e.g., network error)\n",
    "    mock_requests.register_uri(\n",
    "        \"GET\", f\"{url}/l2vpn/{client.VERSION}\",\n",
    "        exc=requests.RequestException(\"Simulated network error\")\n",
    "    )\n",
    "    \n",
    "    print(f\"Request URL: {url}/l2vpn/{client.VERSION}\")\n",
    "\n",
    "    # Call the get_all_l2vpns method\n",
    "    try:\n",
    "        response = client.get_all_l2vpns() \n",
    "        print(\"Get All L2VPNs (RequestException):\")\n",
    "        pprint(response)\n",
    "    except SDXException as e:\n",
    "        print(e)"
   ]
  },
  {
   "cell_type": "markdown",
   "id": "6594bbff",
   "metadata": {},
   "source": [
    "**Here I expect to see an empty dictionary because there are no active layer 2 VPNs.**"
   ]
  },
  {
   "cell_type": "code",
   "execution_count": 14,
   "id": "cc74871f",
   "metadata": {},
   "outputs": [
    {
     "name": "stdout",
     "output_type": "stream",
     "text": [
      "Request URL: http://aw-sdx-controller.renci.org:8081/l2vpn/1.0\n",
      "Get All L2VPNs: Empty DataFrame\n",
      "Columns: []\n",
      "Index: []\n"
     ]
    }
   ],
   "source": [
    "# Mock the get_all_l2vpns method\n",
    "with requests_mock.Mocker() as mock_requests:\n",
    "    # Mock response for no L2VPNs existing\n",
    "    mock_requests.register_uri(\n",
    "        \"GET\", f\"{url}/l2vpn/{client.VERSION}\",\n",
    "        json=mock_response_no_l2vpns,\n",
    "        status_code=200\n",
    "    )\n",
    "    \n",
    "    print(f\"Request URL: {url}/l2vpn/{client.VERSION}\")\n",
    "    \n",
    "    # Call the get_all_l2vpns method\n",
    "    try:\n",
    "        response = client.get_all_l2vpns()\n",
    "        print(\"Get All L2VPNs:\", response)\n",
    "    except SDXException as e:\n",
    "        print(\"SDXException:\", e)"
   ]
  },
  {
   "cell_type": "markdown",
   "id": "9707f052",
   "metadata": {},
   "source": [
    "**Here I expect to see only the active l2vpn.**"
   ]
  },
  {
   "cell_type": "code",
   "execution_count": 15,
   "id": "c1575e24",
   "metadata": {},
   "outputs": [
    {
     "name": "stdout",
     "output_type": "stream",
     "text": [
      "Request URL: http://aw-sdx-controller.renci.org:8081/l2vpn/1.0\n",
      "Get All L2VPNs (One or more L2VPNs exist):\n"
     ]
    }
   ],
   "source": [
    "with requests_mock.Mocker() as mock_requests:\n",
    "    # Mock response for one or more archived L2VPNs existing\n",
    "    mock_requests.register_uri(\n",
    "        \"GET\", f\"{url}/l2vpn/{client.VERSION}\",\n",
    "        json=mock_response_active_l2vpns_exist,\n",
    "        status_code=200\n",
    "    )\n",
    "    \n",
    "    print(f\"Request URL: {url}/l2vpn/{client.VERSION}\")\n",
    "    \n",
    "    # Call the get_all_l2vpns method\n",
    "    try:\n",
    "        response = client.get_all_l2vpns()\n",
    "        print(\"Get All L2VPNs (One or more L2VPNs exist):\")\n",
    "        # pprint(response)\n",
    "    except SDXException as e:\n",
    "        print(\"SDXException:\", e)"
   ]
  },
  {
   "cell_type": "code",
   "execution_count": 16,
   "id": "9ed7bcfb",
   "metadata": {},
   "outputs": [
    {
     "data": {
      "text/html": [
       "<div>\n",
       "<style scoped>\n",
       "    .dataframe tbody tr th:only-of-type {\n",
       "        vertical-align: middle;\n",
       "    }\n",
       "\n",
       "    .dataframe tbody tr th {\n",
       "        vertical-align: top;\n",
       "    }\n",
       "\n",
       "    .dataframe thead th {\n",
       "        text-align: right;\n",
       "    }\n",
       "</style>\n",
       "<table border=\"1\" class=\"dataframe\">\n",
       "  <thead>\n",
       "    <tr style=\"text-align: right;\">\n",
       "      <th></th>\n",
       "      <th>service_id</th>\n",
       "      <th>name</th>\n",
       "      <th>endpoints</th>\n",
       "      <th>ownership</th>\n",
       "      <th>creation_date</th>\n",
       "      <th>archived_date</th>\n",
       "      <th>status</th>\n",
       "      <th>state</th>\n",
       "      <th>counters_location</th>\n",
       "      <th>last_modified</th>\n",
       "      <th>current_path</th>\n",
       "      <th>oxp_service_ids</th>\n",
       "      <th>description</th>\n",
       "      <th>notifications</th>\n",
       "      <th>scheduling</th>\n",
       "      <th>qos_metrics</th>\n",
       "    </tr>\n",
       "  </thead>\n",
       "  <tbody>\n",
       "    <tr>\n",
       "      <th>0</th>\n",
       "      <td>c73da8e1-5d03-4620-a1db-7cdf23e8978c</td>\n",
       "      <td>VLAN between AMPATH/300 and TENET/150</td>\n",
       "      <td>[{'port_id': 'urn:sdx:port:tenet.ac.za:Tenet03:50', 'vlan': '150'}, {'port_id': 'urn:sdx:port:sax.net:Sax02:50', 'vlan': '400'}, {'port_id': 'urn:sdx:port:ampath.net:Ampath3:50', 'vlan': '300'}]</td>\n",
       "      <td>user1</td>\n",
       "      <td>20240522T00:00:00Z</td>\n",
       "      <td>0</td>\n",
       "      <td>up</td>\n",
       "      <td>enabled</td>\n",
       "      <td>https://my.aw-sdx.net/l2vpn/7cdf23e8978c</td>\n",
       "      <td>0</td>\n",
       "      <td>[urn:sdx:link:tenet.ac.za:LinkToAmpath]</td>\n",
       "      <td>{'ampath.net': ['c73da8e1'], 'Tenet.ac.za': ['5d034620']}</td>\n",
       "      <td>Example 1</td>\n",
       "      <td>[{'email': 'user@domain.com'}, {'email': 'user2@domain2.com'}]</td>\n",
       "      <td>None</td>\n",
       "      <td>{'min_bw': {'value': 5, 'strict': False}, 'max_delay': {'value': 150, 'strict': True}}</td>\n",
       "    </tr>\n",
       "    <tr>\n",
       "      <th>1</th>\n",
       "      <td>fa2c99ca-30a9-4b51-8491-683c52e326a6</td>\n",
       "      <td>Example 2</td>\n",
       "      <td>[{'port_id': 'urn:sdx:port:tenet.ac.za:Tenet03:50', 'vlan': '3500'}, {'port_id': 'urn:sdx:port:sax.net:Sax01:50', 'vlan': '3500'}, {'port_id': 'urn:sdx:port:ampath.net:Ampath3:50', 'vlan': '3500'}]</td>\n",
       "      <td>user2</td>\n",
       "      <td>20240422T00:00:00Z</td>\n",
       "      <td>0</td>\n",
       "      <td>up</td>\n",
       "      <td>disabled</td>\n",
       "      <td>https://my.aw-sdx.net/l2vpn/52e326a6</td>\n",
       "      <td>0</td>\n",
       "      <td>[urn:sdx:link:tenet.ac.za:LinkToSAX, urn:sdx:link:tenet.ac.za:LinkToAmpath, urn:sdx:link:ampath.net:LinkToSAX]</td>\n",
       "      <td>{'ampath.net': ['d82da7f9'], 'tenet.ac.za': ['ab034673'], 'sax.br': ['bb834633']}</td>\n",
       "      <td>None</td>\n",
       "      <td>None</td>\n",
       "      <td>None</td>\n",
       "      <td>None</td>\n",
       "    </tr>\n",
       "  </tbody>\n",
       "</table>\n",
       "</div>"
      ],
      "text/plain": [
       "                             service_id                                   name                                                                                                                                                                                              endpoints ownership       creation_date archived_date status     state                         counters_location last_modified                                                                                                    current_path                                                                    oxp_service_ids description                                                   notifications scheduling                                                                             qos_metrics\n",
       "0  c73da8e1-5d03-4620-a1db-7cdf23e8978c  VLAN between AMPATH/300 and TENET/150     [{'port_id': 'urn:sdx:port:tenet.ac.za:Tenet03:50', 'vlan': '150'}, {'port_id': 'urn:sdx:port:sax.net:Sax02:50', 'vlan': '400'}, {'port_id': 'urn:sdx:port:ampath.net:Ampath3:50', 'vlan': '300'}]     user1  20240522T00:00:00Z             0     up   enabled  https://my.aw-sdx.net/l2vpn/7cdf23e8978c             0                                                                         [urn:sdx:link:tenet.ac.za:LinkToAmpath]                          {'ampath.net': ['c73da8e1'], 'Tenet.ac.za': ['5d034620']}   Example 1  [{'email': 'user@domain.com'}, {'email': 'user2@domain2.com'}]       None  {'min_bw': {'value': 5, 'strict': False}, 'max_delay': {'value': 150, 'strict': True}}\n",
       "1  fa2c99ca-30a9-4b51-8491-683c52e326a6                              Example 2  [{'port_id': 'urn:sdx:port:tenet.ac.za:Tenet03:50', 'vlan': '3500'}, {'port_id': 'urn:sdx:port:sax.net:Sax01:50', 'vlan': '3500'}, {'port_id': 'urn:sdx:port:ampath.net:Ampath3:50', 'vlan': '3500'}]     user2  20240422T00:00:00Z             0     up  disabled      https://my.aw-sdx.net/l2vpn/52e326a6             0  [urn:sdx:link:tenet.ac.za:LinkToSAX, urn:sdx:link:tenet.ac.za:LinkToAmpath, urn:sdx:link:ampath.net:LinkToSAX]  {'ampath.net': ['d82da7f9'], 'tenet.ac.za': ['ab034673'], 'sax.br': ['bb834633']}        None                                                            None       None                                                                                    None"
      ]
     },
     "execution_count": 16,
     "metadata": {},
     "output_type": "execute_result"
    }
   ],
   "source": [
    "response"
   ]
  },
  {
   "cell_type": "markdown",
   "id": "a47c43d9",
   "metadata": {},
   "source": [
    "**Here I expect to see only the archived l2vpns.**"
   ]
  },
  {
   "cell_type": "code",
   "execution_count": 17,
   "id": "ca04287c",
   "metadata": {},
   "outputs": [
    {
     "name": "stdout",
     "output_type": "stream",
     "text": [
      "Request URL: http://aw-sdx-controller.renci.org:8081/l2vpn/1.0/archived\n",
      "Get All L2VPNs (One or more L2VPNs exist):\n"
     ]
    }
   ],
   "source": [
    "with requests_mock.Mocker() as mock_requests:\n",
    "    # Mock response for one or more archived L2VPNs existing\n",
    "    mock_requests.register_uri(\n",
    "        \"GET\", f\"{url}/l2vpn/{client.VERSION}/archived\",\n",
    "        json=mock_response_archived_l2vpns_exist,\n",
    "        status_code=200\n",
    "    )\n",
    "    \n",
    "    print(f\"Request URL: {url}/l2vpn/{client.VERSION}/archived\")\n",
    "    \n",
    "    # Call the get_all_l2vpns method\n",
    "    try:\n",
    "        response = client.get_all_l2vpns(archived=True)\n",
    "        print(\"Get All L2VPNs (One or more L2VPNs exist):\")\n",
    "        # pprint(response)\n",
    "    except SDXException as e:\n",
    "        print(\"SDXException:\", e)"
   ]
  },
  {
   "cell_type": "markdown",
   "id": "cb4de796",
   "metadata": {},
   "source": [
    "# Retrieve a Specific L2VPN\n",
    "\n",
    "### Demonstration to retrieve a specific L2VPN Client\n",
    "\n",
    "**Now we will query the API for a specific L2VPN. We will create a client that is empty except for the URL.**"
   ]
  },
  {
   "cell_type": "code",
   "execution_count": 18,
   "id": "91e0f4bd",
   "metadata": {},
   "outputs": [],
   "source": [
    "client = SDXClient(url)"
   ]
  },
  {
   "cell_type": "markdown",
   "id": "7f48e807",
   "metadata": {},
   "source": [
    "**I will query for the l2vpn using the service_id attribute. With this request, I should see the complete response object from the API for this l2vpn.**"
   ]
  },
  {
   "cell_type": "code",
   "execution_count": 19,
   "id": "83b8e09b",
   "metadata": {},
   "outputs": [
    {
     "name": "stdout",
     "output_type": "stream",
     "text": [
      "Request URL: http://aw-sdx-controller.renci.org:8081/l2vpn/1.0/c73da8e1-5d03-4620-a1db-7cdf23e8978c\n",
      "Get L2VPN (Successful):\n"
     ]
    },
    {
     "data": {
      "text/html": [
       "<style type=\"text/css\">\n",
       "</style>\n",
       "<table id=\"T_5930a_\" style='display:inline; overflow-x: auto;'>\n",
       "  <thead>\n",
       "    <tr>\n",
       "      <th class=\"col_heading level0 col0\" >service_id</th>\n",
       "      <th class=\"col_heading level0 col1\" >name</th>\n",
       "      <th class=\"col_heading level0 col2\" >port_id</th>\n",
       "      <th class=\"col_heading level0 col3\" >vlan</th>\n",
       "      <th class=\"col_heading level0 col4\" >description</th>\n",
       "      <th class=\"col_heading level0 col5\" >qos_metrics</th>\n",
       "      <th class=\"col_heading level0 col6\" >notifications</th>\n",
       "      <th class=\"col_heading level0 col7\" >ownership</th>\n",
       "      <th class=\"col_heading level0 col8\" >creation_date</th>\n",
       "      <th class=\"col_heading level0 col9\" >archived_date</th>\n",
       "      <th class=\"col_heading level0 col10\" >status</th>\n",
       "      <th class=\"col_heading level0 col11\" >state</th>\n",
       "      <th class=\"col_heading level0 col12\" >counters_location</th>\n",
       "      <th class=\"col_heading level0 col13\" >last_modified</th>\n",
       "      <th class=\"col_heading level0 col14\" >current_path</th>\n",
       "      <th class=\"col_heading level0 col15\" >oxp_service_ids</th>\n",
       "    </tr>\n",
       "  </thead>\n",
       "  <tbody>\n",
       "    <tr>\n",
       "      <td id=\"T_5930a_row0_col0\" class=\"data row0 col0\" >c73da8e1-5d03-4620-a1db-7cdf23e8978c</td>\n",
       "      <td id=\"T_5930a_row0_col1\" class=\"data row0 col1\" >VLAN between AMPATH/300 and TENET/150</td>\n",
       "      <td id=\"T_5930a_row0_col2\" class=\"data row0 col2\" >urn:sdx:port:tenet.ac.za:Tenet03:50</td>\n",
       "      <td id=\"T_5930a_row0_col3\" class=\"data row0 col3\" >150</td>\n",
       "      <td id=\"T_5930a_row0_col4\" class=\"data row0 col4\" >Example 1</td>\n",
       "      <td id=\"T_5930a_row0_col5\" class=\"data row0 col5\" >{'min_bw': {'value': 5, 'strict': False}, 'max_delay': {'value': 150, 'strict': True}}</td>\n",
       "      <td id=\"T_5930a_row0_col6\" class=\"data row0 col6\" >[{'email': 'user@domain.com'}, {'email': 'user2@domain2.com'}]</td>\n",
       "      <td id=\"T_5930a_row0_col7\" class=\"data row0 col7\" >user1</td>\n",
       "      <td id=\"T_5930a_row0_col8\" class=\"data row0 col8\" >20240522T00:00:00Z</td>\n",
       "      <td id=\"T_5930a_row0_col9\" class=\"data row0 col9\" >0</td>\n",
       "      <td id=\"T_5930a_row0_col10\" class=\"data row0 col10\" >up</td>\n",
       "      <td id=\"T_5930a_row0_col11\" class=\"data row0 col11\" >enabled</td>\n",
       "      <td id=\"T_5930a_row0_col12\" class=\"data row0 col12\" >https://my.aw-sdx.net/l2vpn/7cdf23e8978c</td>\n",
       "      <td id=\"T_5930a_row0_col13\" class=\"data row0 col13\" >0</td>\n",
       "      <td id=\"T_5930a_row0_col14\" class=\"data row0 col14\" >['urn:sdx:link:tenet.ac.za:LinkToAmpath']</td>\n",
       "      <td id=\"T_5930a_row0_col15\" class=\"data row0 col15\" >{'ampath.net': ['c73da8e1'], 'Tenet.ac.za': ['5d034620']}</td>\n",
       "    </tr>\n",
       "    <tr>\n",
       "      <td id=\"T_5930a_row1_col0\" class=\"data row1 col0\" >c73da8e1-5d03-4620-a1db-7cdf23e8978c</td>\n",
       "      <td id=\"T_5930a_row1_col1\" class=\"data row1 col1\" >VLAN between AMPATH/300 and TENET/150</td>\n",
       "      <td id=\"T_5930a_row1_col2\" class=\"data row1 col2\" >urn:sdx:port:ampath.net:Ampath3:50</td>\n",
       "      <td id=\"T_5930a_row1_col3\" class=\"data row1 col3\" >300</td>\n",
       "      <td id=\"T_5930a_row1_col4\" class=\"data row1 col4\" >Example 1</td>\n",
       "      <td id=\"T_5930a_row1_col5\" class=\"data row1 col5\" >{'min_bw': {'value': 5, 'strict': False}, 'max_delay': {'value': 150, 'strict': True}}</td>\n",
       "      <td id=\"T_5930a_row1_col6\" class=\"data row1 col6\" >[{'email': 'user@domain.com'}, {'email': 'user2@domain2.com'}]</td>\n",
       "      <td id=\"T_5930a_row1_col7\" class=\"data row1 col7\" >user1</td>\n",
       "      <td id=\"T_5930a_row1_col8\" class=\"data row1 col8\" >20240522T00:00:00Z</td>\n",
       "      <td id=\"T_5930a_row1_col9\" class=\"data row1 col9\" >0</td>\n",
       "      <td id=\"T_5930a_row1_col10\" class=\"data row1 col10\" >up</td>\n",
       "      <td id=\"T_5930a_row1_col11\" class=\"data row1 col11\" >enabled</td>\n",
       "      <td id=\"T_5930a_row1_col12\" class=\"data row1 col12\" >https://my.aw-sdx.net/l2vpn/7cdf23e8978c</td>\n",
       "      <td id=\"T_5930a_row1_col13\" class=\"data row1 col13\" >0</td>\n",
       "      <td id=\"T_5930a_row1_col14\" class=\"data row1 col14\" >['urn:sdx:link:tenet.ac.za:LinkToAmpath']</td>\n",
       "      <td id=\"T_5930a_row1_col15\" class=\"data row1 col15\" >{'ampath.net': ['c73da8e1'], 'Tenet.ac.za': ['5d034620']}</td>\n",
       "    </tr>\n",
       "  </tbody>\n",
       "</table>\n"
      ],
      "text/plain": [
       "<pandas.io.formats.style.Styler at 0x1dcac497340>"
      ]
     },
     "execution_count": 19,
     "metadata": {},
     "output_type": "execute_result"
    }
   ],
   "source": [
    "service_id = \"c73da8e1-5d03-4620-a1db-7cdf23e8978c\"\n",
    "\n",
    "with requests_mock.Mocker() as mock_requests:\n",
    "    # Simulate a RequestException (e.g., network error)\n",
    "    mock_requests.register_uri(\n",
    "        \"GET\", f\"{url}/l2vpn/{client.VERSION}/{service_id}\",\n",
    "        json=mock_response_l2vpn_exists,\n",
    "        status_code=200\n",
    "    )\n",
    "    \n",
    "    print(f\"Request URL: {url}/l2vpn/{client.VERSION}/{service_id}\")\n",
    "\n",
    "    # Call the get_l2vpn method\n",
    "    try:\n",
    "        response = client.get_l2vpn(service_id)\n",
    "        print(\"Get L2VPN (Successful):\")\n",
    "    except SDXException as e:\n",
    "        print(\"SDXException:\", e)\n",
    "\n",
    "response"
   ]
  },
  {
   "cell_type": "markdown",
   "id": "0cbf0759",
   "metadata": {},
   "source": [
    "# Delete an L2VPN\n",
    "\n",
    "### Demonstration to delete an L2VPN Client and Error Handling\n",
    "\n",
    "**We will delete an l2vpn client using the service_id attribute.**\n",
    "\n",
    "We will begin by creating a client instance that is empty except for the URL. "
   ]
  },
  {
   "cell_type": "code",
   "execution_count": 20,
   "id": "f03bc9fe",
   "metadata": {},
   "outputs": [],
   "source": [
    "client = SDXClient(url)"
   ]
  },
  {
   "cell_type": "markdown",
   "id": "731dbf3e",
   "metadata": {},
   "source": [
    "**This will simulate a successful deletion. The return on success is None.**"
   ]
  },
  {
   "cell_type": "code",
   "execution_count": 21,
   "id": "2217185e",
   "metadata": {},
   "outputs": [
    {
     "name": "stdout",
     "output_type": "stream",
     "text": [
      "Request URL: http://aw-sdx-controller.renci.org:8081/l2vpn/1.0/c73da8e1-5d03-4620-a1db-7cdf23e8978c\n",
      "Delete L2VPN (Successful):\n",
      "None\n"
     ]
    }
   ],
   "source": [
    "service_id = \"c73da8e1-5d03-4620-a1db-7cdf23e8978c\"\n",
    "\n",
    "with requests_mock.Mocker() as mock_requests:\n",
    "    # Mock response for successful deletion\n",
    "    mock_requests.delete(\n",
    "        f\"{url}/l2vpn/{client.VERSION}/{service_id}\",\n",
    "        status_code=201\n",
    "    )\n",
    "    \n",
    "    print(f\"Request URL: {url}/l2vpn/{client.VERSION}/{service_id}\")\n",
    "\n",
    "    try:\n",
    "        response = client.delete_l2vpn(service_id)\n",
    "        print(\"Delete L2VPN (Successful):\")\n",
    "        pprint(response)\n",
    "    except SDXException as e:\n",
    "        print(\"SDXException:\", e)"
   ]
  },
  {
   "cell_type": "markdown",
   "id": "fd764530",
   "metadata": {},
   "source": [
    "### Error Handling\n",
    "\n",
    "**This will demonstrate the return if the service_id provided for deletion does not exist.**"
   ]
  },
  {
   "cell_type": "code",
   "execution_count": 22,
   "id": "f72525fc",
   "metadata": {},
   "outputs": [
    {
     "name": "stderr",
     "output_type": "stream",
     "text": [
      "Failed to delete L2VPN. Status code: 404: L2VPN Service ID provided does not exist\n"
     ]
    },
    {
     "name": "stdout",
     "output_type": "stream",
     "text": [
      "Request URL: http://aw-sdx-controller.renci.org:8081/l2vpn/1.0/c73da8e1-5d03-4620-a1db-7cdf23e8978c\n",
      "SDXException: SDXException: L2VPN Service ID provided does not exist (status_code=404)\n"
     ]
    }
   ],
   "source": [
    "with requests_mock.Mocker() as mock_requests:\n",
    "    # Mock response for 404: Service ID does not exist\n",
    "    mock_requests.delete(\n",
    "        f\"{url}/l2vpn/{client.VERSION}/{service_id}\",\n",
    "        status_code=404,\n",
    "        json={\"description\": \"L2VPN Service ID provided does not exist\"}\n",
    "    )\n",
    "    \n",
    "    print(f\"Request URL: {url}/l2vpn/{client.VERSION}/{service_id}\")\n",
    "\n",
    "    try:\n",
    "        response = client.delete_l2vpn(service_id)\n",
    "        print(\"Delete L2VPN (Service ID not found):\")\n",
    "        pprint(response)\n",
    "    except SDXException as e:\n",
    "        print(\"SDXException:\", e)"
   ]
  },
  {
   "cell_type": "markdown",
   "id": "a16c1a57",
   "metadata": {},
   "source": [
    "**And here I expect to see a response that I don't have authorization to delete this l2vpn.**"
   ]
  },
  {
   "cell_type": "code",
   "execution_count": 23,
   "id": "3fda756f",
   "metadata": {},
   "outputs": [
    {
     "name": "stderr",
     "output_type": "stream",
     "text": [
      "Failed to delete L2VPN. Status code: 401: Not Authorized\n"
     ]
    },
    {
     "name": "stdout",
     "output_type": "stream",
     "text": [
      "Request URL: http://aw-sdx-controller.renci.org:8081/l2vpn/1.0/c73da8e1-5d03-4620-a1db-7cdf23e8978c\n",
      "SDXException: SDXException: Not Authorized (status_code=401)\n"
     ]
    }
   ],
   "source": [
    "with requests_mock.Mocker() as mock_requests:\n",
    "    # Mock response for 401: not authorized\n",
    "    mock_requests.delete(\n",
    "        f\"{url}/l2vpn/{client.VERSION}/{service_id}\",\n",
    "        status_code=401,\n",
    "        json={\"description\": \"Not Authorized\"}\n",
    "    )\n",
    "    \n",
    "    print(f\"Request URL: {url}/l2vpn/{client.VERSION}/{service_id}\")\n",
    "\n",
    "    try:\n",
    "        response = client.delete_l2vpn(service_id)\n",
    "        print(\"Delete L2VPN (Not Authorized):\")\n",
    "        pprint(response)\n",
    "    except SDXException as e:\n",
    "        print(\"SDXException:\", e)"
   ]
  },
  {
   "cell_type": "markdown",
   "id": "d78137ff",
   "metadata": {},
   "source": [
    "# Topology"
   ]
  },
  {
   "cell_type": "code",
   "execution_count": 24,
   "id": "548491d2",
   "metadata": {},
   "outputs": [
    {
     "name": "stdout",
     "output_type": "stream",
     "text": [
      "\n",
      "**VLANs in Use Per Port:**\n",
      "Port: urn:sdx:port:tenet.ac.za:Tenet03:50 → VLANs: [150, 3500]\n",
      "Port: urn:sdx:port:sax.net:Sax02:50 → VLANs: [400]\n",
      "Port: urn:sdx:port:ampath.net:Ampath3:50 → VLANs: [300, 3500]\n",
      "Port: urn:sdx:port:sax.net:Sax01:50 → VLANs: [3500]\n"
     ]
    }
   ],
   "source": [
    "# This portion loops over the list of l2vpns that are in use and \n",
    "# creates sorted lists for each one with their correponding \n",
    "# vlans that are being used. \n",
    "\n",
    "# Start the mock request session\n",
    "with requests_mock.Mocker() as mock_requests:\n",
    "    # Mock the GET request for retrieving active L2VPNs\n",
    "    mock_requests.get(f\"{url}/l2vpn/1.0\", json=mock_response_active_l2vpns_exist)\n",
    "\n",
    "    # Initialize SDXClient with the mock URL\n",
    "    client = SDXClient(base_url=url)\n",
    "\n",
    "    # Call `_get_vlans_in_use()` to retrieve VLAN usage\n",
    "    vlan_usage = client._get_vlans_in_use()\n",
    "\n",
    "    # Print and verify the output\n",
    "    print(\"\\n**VLANs in Use Per Port:**\")\n",
    "    for port, vlans in vlan_usage.items():\n",
    "        print(f\"Port: {port} → VLANs: {vlans}\")"
   ]
  },
  {
   "cell_type": "code",
   "execution_count": 25,
   "id": "66b31fda",
   "metadata": {},
   "outputs": [
    {
     "name": "stdout",
     "output_type": "stream",
     "text": [
      "\n",
      "**VLANs in Use Per Port:**\n",
      "Port: urn:sdx:port:tenet.ac.za:Tenet03:50 → VLANs: [150, 3500]\n",
      "Port: urn:sdx:port:sax.net:Sax02:50 → VLANs: [400]\n",
      "Port: urn:sdx:port:ampath.net:Ampath3:50 → VLANs: [300, 3500]\n",
      "Port: urn:sdx:port:sax.net:Sax01:50 → VLANs: [3500]\n",
      "\n",
      "**Available VLANs for Port urn:sdx:port:ampath.net:Ampath3:50**\n",
      "1-299, 301-3499, 3501-4095\n"
     ]
    }
   ],
   "source": [
    "# This will demonstrate the return of the vlans that are available.\n",
    "\n",
    "# Convert the topology dictionary into an SDXTopologyResponse object\n",
    "topology_response = SDXTopologyResponse.from_json(topology)\n",
    "\n",
    "# Extract ports from the topology for testing\n",
    "ports = {\n",
    "    port[\"id\"]: Port(\n",
    "        id=port[\"id\"],\n",
    "        name=port[\"name\"],\n",
    "        node=port[\"node\"],\n",
    "        status=port[\"status\"],\n",
    "        state=port[\"state\"],\n",
    "        nni=port.get(\"nni\", \"\"),\n",
    "        type=port[\"type\"],\n",
    "        services=port[\"services\"]\n",
    "    )\n",
    "    for node in topology[\"nodes\"] for port in node[\"ports\"]\n",
    "}\n",
    "\n",
    "# Mock API responses\n",
    "with requests_mock.Mocker() as mock:\n",
    "    # Mock /topology API response\n",
    "    mock.get(f\"{url}/topology\", json=topology)\n",
    "\n",
    "    # Mock /l2vpn/1.0 GET (Fetching active L2VPNs)\n",
    "    mock.get(f\"{url}/l2vpn/1.0\", json=mock_response_active_l2vpns_exist)\n",
    "\n",
    "    # Mock get_topology() method to return topology_response\n",
    "    client.get_topology = lambda: topology_response\n",
    "\n",
    "    # Mock get_all_l2vpns() method to return VLANs in use\n",
    "    client.get_all_l2vpns = lambda format=\"json\": mock_response_active_l2vpns_exist\n",
    "\n",
    "    # Compute VLANs in use\n",
    "    vlans_in_use = client._get_vlans_in_use()\n",
    "\n",
    "    # Test _get_vlan_range for a specific port\n",
    "    test_port_id = \"urn:sdx:port:ampath.net:Ampath3:50\"\n",
    "    test_port = ports[test_port_id]\n",
    "\n",
    "    # Compute available VLANs\n",
    "    available_vlans = client._get_vlan_range(test_port, vlans_in_use)\n",
    "\n",
    "    # Print Output\n",
    "    print(\"\\n**VLANs in Use Per Port:**\")\n",
    "    for port_id, vlans in vlans_in_use.items():\n",
    "        print(f\"Port: {port_id} → VLANs: {vlans}\")\n",
    "\n",
    "    print(f\"\\n**Available VLANs for Port {test_port_id}**\")\n",
    "    print(available_vlans)\n"
   ]
  },
  {
   "cell_type": "code",
   "execution_count": 26,
   "id": "044bbf93",
   "metadata": {},
   "outputs": [
    {
     "name": "stdout",
     "output_type": "stream",
     "text": [
      "\n",
      "**Available Ports and VLANs**\n"
     ]
    },
    {
     "data": {
      "text/html": [
       "<div>\n",
       "<style scoped>\n",
       "    .dataframe tbody tr th:only-of-type {\n",
       "        vertical-align: middle;\n",
       "    }\n",
       "\n",
       "    .dataframe tbody tr th {\n",
       "        vertical-align: top;\n",
       "    }\n",
       "\n",
       "    .dataframe thead th {\n",
       "        text-align: right;\n",
       "    }\n",
       "</style>\n",
       "<table border=\"1\" class=\"dataframe\">\n",
       "  <thead>\n",
       "    <tr style=\"text-align: right;\">\n",
       "      <th></th>\n",
       "      <th>Port ID</th>\n",
       "      <th>Domain</th>\n",
       "      <th>Device</th>\n",
       "      <th>Port #</th>\n",
       "      <th>Status</th>\n",
       "      <th>Entities</th>\n",
       "      <th>VLANs Available</th>\n",
       "      <th>VLANs in Use</th>\n",
       "    </tr>\n",
       "  </thead>\n",
       "  <tbody>\n",
       "    <tr>\n",
       "      <th>0</th>\n",
       "      <td>urn:sdx:port:ampath.net:Ampath3:50</td>\n",
       "      <td>ampath.net</td>\n",
       "      <td>Ampath3</td>\n",
       "      <td>50</td>\n",
       "      <td>up</td>\n",
       "      <td>Disney World, University of Florida, MIT</td>\n",
       "      <td>1-299, 301-3499, 3501-4095</td>\n",
       "      <td>300; 3500</td>\n",
       "    </tr>\n",
       "    <tr>\n",
       "      <th>1</th>\n",
       "      <td>urn:sdx:port:ampath.net:Ampath2:50</td>\n",
       "      <td>ampath.net</td>\n",
       "      <td>Ampath2</td>\n",
       "      <td>50</td>\n",
       "      <td>up</td>\n",
       "      <td>NCSA, UIUC, University of Illinois</td>\n",
       "      <td>1-4095</td>\n",
       "      <td>None</td>\n",
       "    </tr>\n",
       "    <tr>\n",
       "      <th>2</th>\n",
       "      <td>urn:sdx:port:ampath.net:Ampath1:50</td>\n",
       "      <td>ampath.net</td>\n",
       "      <td>Ampath1</td>\n",
       "      <td>50</td>\n",
       "      <td>up</td>\n",
       "      <td>Canada, New York, University</td>\n",
       "      <td>1-4095</td>\n",
       "      <td>None</td>\n",
       "    </tr>\n",
       "    <tr>\n",
       "      <th>3</th>\n",
       "      <td>urn:sdx:port:sax.net:Sax01:50</td>\n",
       "      <td>sax.net</td>\n",
       "      <td>Sax01</td>\n",
       "      <td>50</td>\n",
       "      <td>up</td>\n",
       "      <td>France, Cern</td>\n",
       "      <td>1-3499, 3501-4095</td>\n",
       "      <td>3500</td>\n",
       "    </tr>\n",
       "    <tr>\n",
       "      <th>4</th>\n",
       "      <td>urn:sdx:port:sax.net:Sax02:50</td>\n",
       "      <td>sax.net</td>\n",
       "      <td>Sax02</td>\n",
       "      <td>50</td>\n",
       "      <td>up</td>\n",
       "      <td>UCLA, University of California, Los Angeles, Los Angeles</td>\n",
       "      <td>1-399, 401-4095</td>\n",
       "      <td>400</td>\n",
       "    </tr>\n",
       "    <tr>\n",
       "      <th>5</th>\n",
       "      <td>urn:sdx:port:tenet.ac.za:Tenet02:50</td>\n",
       "      <td>tenet.ac.za</td>\n",
       "      <td>Tenet02</td>\n",
       "      <td>50</td>\n",
       "      <td>up</td>\n",
       "      <td>FSU, Florida State University, Tallahassee</td>\n",
       "      <td>1-4095</td>\n",
       "      <td>None</td>\n",
       "    </tr>\n",
       "    <tr>\n",
       "      <th>6</th>\n",
       "      <td>urn:sdx:port:tenet.ac.za:Tenet03:50</td>\n",
       "      <td>tenet.ac.za</td>\n",
       "      <td>Tenet03</td>\n",
       "      <td>50</td>\n",
       "      <td>up</td>\n",
       "      <td>NYU, New York University, New York City</td>\n",
       "      <td>1-149, 151-3499, 3501-4095</td>\n",
       "      <td>150; 3500</td>\n",
       "    </tr>\n",
       "    <tr>\n",
       "      <th>7</th>\n",
       "      <td>urn:sdx:port:tenet.ac.za:Tenet01:50</td>\n",
       "      <td>tenet.ac.za</td>\n",
       "      <td>Tenet01</td>\n",
       "      <td>50</td>\n",
       "      <td>up</td>\n",
       "      <td>GT, Georgia Tech, Atlanta</td>\n",
       "      <td>1-4095</td>\n",
       "      <td>None</td>\n",
       "    </tr>\n",
       "  </tbody>\n",
       "</table>\n",
       "</div>"
      ],
      "text/plain": [
       "                               Port ID       Domain   Device Port # Status                                                  Entities             VLANs Available VLANs in Use\n",
       "0   urn:sdx:port:ampath.net:Ampath3:50   ampath.net  Ampath3     50     up                  Disney World, University of Florida, MIT  1-299, 301-3499, 3501-4095    300; 3500\n",
       "1   urn:sdx:port:ampath.net:Ampath2:50   ampath.net  Ampath2     50     up                        NCSA, UIUC, University of Illinois                      1-4095         None\n",
       "2   urn:sdx:port:ampath.net:Ampath1:50   ampath.net  Ampath1     50     up                              Canada, New York, University                      1-4095         None\n",
       "3        urn:sdx:port:sax.net:Sax01:50      sax.net    Sax01     50     up                                              France, Cern           1-3499, 3501-4095         3500\n",
       "4        urn:sdx:port:sax.net:Sax02:50      sax.net    Sax02     50     up  UCLA, University of California, Los Angeles, Los Angeles             1-399, 401-4095          400\n",
       "5  urn:sdx:port:tenet.ac.za:Tenet02:50  tenet.ac.za  Tenet02     50     up                FSU, Florida State University, Tallahassee                      1-4095         None\n",
       "6  urn:sdx:port:tenet.ac.za:Tenet03:50  tenet.ac.za  Tenet03     50     up                   NYU, New York University, New York City  1-149, 151-3499, 3501-4095    150; 3500\n",
       "7  urn:sdx:port:tenet.ac.za:Tenet01:50  tenet.ac.za  Tenet01     50     up                                 GT, Georgia Tech, Atlanta                      1-4095         None"
      ]
     },
     "metadata": {},
     "output_type": "display_data"
    }
   ],
   "source": [
    "# Mock API responses\n",
    "with requests_mock.Mocker() as mock:\n",
    "    # Mock /topology API response\n",
    "    mock.get(f\"{url}/topology\", json=topology)\n",
    "\n",
    "    # Mock /l2vpn/1.0 GET (Fetching active L2VPNs)\n",
    "    mock.get(f\"{url}/l2vpn/1.0\", json=mock_response_l2vpn_exists)\n",
    "\n",
    "    ### Display Available Ports\n",
    "    available_ports_df = client.get_available_ports()\n",
    "\n",
    "    ### Print Outputs\n",
    "    print(\"\\n**Available Ports and VLANs**\")\n",
    "    display(available_ports_df)\n"
   ]
  },
  {
   "cell_type": "markdown",
   "id": "060e53ea",
   "metadata": {},
   "source": [
    "# Search Ports"
   ]
  },
  {
   "cell_type": "code",
   "execution_count": 27,
   "id": "accfc36e",
   "metadata": {},
   "outputs": [
    {
     "name": "stdout",
     "output_type": "stream",
     "text": [
      "\n",
      "**Search Results for Ports Matching:** Ampath\n"
     ]
    },
    {
     "data": {
      "text/html": [
       "<div>\n",
       "<style scoped>\n",
       "    .dataframe tbody tr th:only-of-type {\n",
       "        vertical-align: middle;\n",
       "    }\n",
       "\n",
       "    .dataframe tbody tr th {\n",
       "        vertical-align: top;\n",
       "    }\n",
       "\n",
       "    .dataframe thead th {\n",
       "        text-align: right;\n",
       "    }\n",
       "</style>\n",
       "<table border=\"1\" class=\"dataframe\">\n",
       "  <thead>\n",
       "    <tr style=\"text-align: right;\">\n",
       "      <th></th>\n",
       "      <th>name</th>\n",
       "      <th>id</th>\n",
       "      <th>node</th>\n",
       "      <th>type</th>\n",
       "      <th>status</th>\n",
       "      <th>state</th>\n",
       "      <th>mtu</th>\n",
       "      <th>services</th>\n",
       "      <th>entities</th>\n",
       "    </tr>\n",
       "  </thead>\n",
       "  <tbody>\n",
       "    <tr>\n",
       "      <th>0</th>\n",
       "      <td>Ampath3-eth50</td>\n",
       "      <td>urn:sdx:port:ampath.net:Ampath3:50</td>\n",
       "      <td>urn:sdx:node:ampath.net:Ampath3</td>\n",
       "      <td>PortType.GE_10</td>\n",
       "      <td>Status.UP</td>\n",
       "      <td>State.ENABLED</td>\n",
       "      <td>1500</td>\n",
       "      <td>{'l2vpn-ptp': {'vlan_range': [[1, 4095]]}, 'l2vpn-ptmp': {}}</td>\n",
       "      <td>[Disney World, University of Florida, MIT]</td>\n",
       "    </tr>\n",
       "    <tr>\n",
       "      <th>1</th>\n",
       "      <td>Ampath2-eth50</td>\n",
       "      <td>urn:sdx:port:ampath.net:Ampath2:50</td>\n",
       "      <td>urn:sdx:node:ampath.net:Ampath2</td>\n",
       "      <td>PortType.GE_10</td>\n",
       "      <td>Status.UP</td>\n",
       "      <td>State.ENABLED</td>\n",
       "      <td>1500</td>\n",
       "      <td>{'l2vpn-ptp': {'vlan_range': [[1, 4095]]}, 'l2vpn-ptmp': {}}</td>\n",
       "      <td>[NCSA, UIUC, University of Illinois]</td>\n",
       "    </tr>\n",
       "    <tr>\n",
       "      <th>2</th>\n",
       "      <td>Ampath1-eth50</td>\n",
       "      <td>urn:sdx:port:ampath.net:Ampath1:50</td>\n",
       "      <td>urn:sdx:node:ampath.net:Ampath1</td>\n",
       "      <td>PortType.GE_10</td>\n",
       "      <td>Status.UP</td>\n",
       "      <td>State.ENABLED</td>\n",
       "      <td>1500</td>\n",
       "      <td>{'l2vpn-ptp': {'vlan_range': [[1, 4095]]}, 'l2vpn-ptmp': {}}</td>\n",
       "      <td>[Canada, New York, University]</td>\n",
       "    </tr>\n",
       "  </tbody>\n",
       "</table>\n",
       "</div>"
      ],
      "text/plain": [
       "            name                                  id                             node            type     status          state   mtu                                                      services                                    entities\n",
       "0  Ampath3-eth50  urn:sdx:port:ampath.net:Ampath3:50  urn:sdx:node:ampath.net:Ampath3  PortType.GE_10  Status.UP  State.ENABLED  1500  {'l2vpn-ptp': {'vlan_range': [[1, 4095]]}, 'l2vpn-ptmp': {}}  [Disney World, University of Florida, MIT]\n",
       "1  Ampath2-eth50  urn:sdx:port:ampath.net:Ampath2:50  urn:sdx:node:ampath.net:Ampath2  PortType.GE_10  Status.UP  State.ENABLED  1500  {'l2vpn-ptp': {'vlan_range': [[1, 4095]]}, 'l2vpn-ptmp': {}}        [NCSA, UIUC, University of Illinois]\n",
       "2  Ampath1-eth50  urn:sdx:port:ampath.net:Ampath1:50  urn:sdx:node:ampath.net:Ampath1  PortType.GE_10  Status.UP  State.ENABLED  1500  {'l2vpn-ptp': {'vlan_range': [[1, 4095]]}, 'l2vpn-ptmp': {}}              [Canada, New York, University]"
      ]
     },
     "metadata": {},
     "output_type": "display_data"
    }
   ],
   "source": [
    "# Create the client instance\n",
    "client = SDXClient(base_url=url)\n",
    "\n",
    "# Mock API responses\n",
    "with requests_mock.Mocker() as mock:\n",
    "    mock.get(f\"{url}/topology\", json=topology)  # Mock topology response\n",
    "\n",
    "    # Run the search for \"MIT\"\n",
    "    search_term = \"Ampath\"\n",
    "    search_results_df = client.search_ports(search_term)\n",
    "\n",
    "    # Display the search results\n",
    "    print(\"\\n**Search Results for Ports Matching:**\", search_term)\n",
    "    display(search_results_df)  # Show the DataFrame nicely in a Jupyter Notebook"
   ]
  },
  {
   "cell_type": "markdown",
   "id": "7995a13c",
   "metadata": {},
   "source": [
    "# Search Entities"
   ]
  },
  {
   "cell_type": "code",
   "execution_count": 28,
   "id": "f476b1c1",
   "metadata": {},
   "outputs": [
    {
     "name": "stdout",
     "output_type": "stream",
     "text": [
      "\n",
      "**Search Results for Entities Matching:** MIT\n"
     ]
    },
    {
     "data": {
      "text/html": [
       "<div>\n",
       "<style scoped>\n",
       "    .dataframe tbody tr th:only-of-type {\n",
       "        vertical-align: middle;\n",
       "    }\n",
       "\n",
       "    .dataframe tbody tr th {\n",
       "        vertical-align: top;\n",
       "    }\n",
       "\n",
       "    .dataframe thead th {\n",
       "        text-align: right;\n",
       "    }\n",
       "</style>\n",
       "<table border=\"1\" class=\"dataframe\">\n",
       "  <thead>\n",
       "    <tr style=\"text-align: right;\">\n",
       "      <th></th>\n",
       "      <th>name</th>\n",
       "      <th>id</th>\n",
       "      <th>node</th>\n",
       "      <th>type</th>\n",
       "      <th>status</th>\n",
       "      <th>state</th>\n",
       "      <th>mtu</th>\n",
       "      <th>services</th>\n",
       "      <th>entities</th>\n",
       "    </tr>\n",
       "  </thead>\n",
       "  <tbody>\n",
       "    <tr>\n",
       "      <th>0</th>\n",
       "      <td>Ampath3-eth50</td>\n",
       "      <td>urn:sdx:port:ampath.net:Ampath3:50</td>\n",
       "      <td>urn:sdx:node:ampath.net:Ampath3</td>\n",
       "      <td>PortType.GE_10</td>\n",
       "      <td>Status.UP</td>\n",
       "      <td>State.ENABLED</td>\n",
       "      <td>1500</td>\n",
       "      <td>{'l2vpn-ptp': {'vlan_range': [[1, 4095]]}, 'l2vpn-ptmp': {}}</td>\n",
       "      <td>[Disney World, University of Florida, MIT]</td>\n",
       "    </tr>\n",
       "  </tbody>\n",
       "</table>\n",
       "</div>"
      ],
      "text/plain": [
       "            name                                  id                             node            type     status          state   mtu                                                      services                                    entities\n",
       "0  Ampath3-eth50  urn:sdx:port:ampath.net:Ampath3:50  urn:sdx:node:ampath.net:Ampath3  PortType.GE_10  Status.UP  State.ENABLED  1500  {'l2vpn-ptp': {'vlan_range': [[1, 4095]]}, 'l2vpn-ptmp': {}}  [Disney World, University of Florida, MIT]"
      ]
     },
     "metadata": {},
     "output_type": "display_data"
    }
   ],
   "source": [
    "# Create the client instance\n",
    "client = SDXClient(base_url=url)\n",
    "\n",
    "# Mock API responses\n",
    "with requests_mock.Mocker() as mock:\n",
    "    mock.get(f\"{url}/topology\", json=topology)  # Mock topology response\n",
    "\n",
    "    # Run the search for \"MIT\"\n",
    "    search_term = \"MIT\"\n",
    "    search_results_df = client.search_entities(search_term)\n",
    "\n",
    "    # Display the search results\n",
    "    print(\"\\n**Search Results for Entities Matching:**\", search_term)\n",
    "    display(search_results_df)  # Show the DataFrame nicely in a Jupyter Notebook\n"
   ]
  },
  {
   "cell_type": "markdown",
   "id": "70041c24",
   "metadata": {},
   "source": [
    "# General Search Ports or Entities"
   ]
  },
  {
   "cell_type": "code",
   "execution_count": 35,
   "id": "b2d78e8b",
   "metadata": {},
   "outputs": [
    {
     "data": {
      "text/html": [
       "<div>\n",
       "<style scoped>\n",
       "    .dataframe tbody tr th:only-of-type {\n",
       "        vertical-align: middle;\n",
       "    }\n",
       "\n",
       "    .dataframe tbody tr th {\n",
       "        vertical-align: top;\n",
       "    }\n",
       "\n",
       "    .dataframe thead th {\n",
       "        text-align: right;\n",
       "    }\n",
       "</style>\n",
       "<table border=\"1\" class=\"dataframe\">\n",
       "  <thead>\n",
       "    <tr style=\"text-align: right;\">\n",
       "      <th></th>\n",
       "      <th>Port ID</th>\n",
       "      <th>Domain</th>\n",
       "      <th>Device</th>\n",
       "      <th>Port #</th>\n",
       "      <th>Status</th>\n",
       "      <th>Entities</th>\n",
       "      <th>VLANs Available</th>\n",
       "      <th>VLANs in Use</th>\n",
       "    </tr>\n",
       "  </thead>\n",
       "  <tbody>\n",
       "    <tr>\n",
       "      <th>0</th>\n",
       "      <td>urn:sdx:port:ampath.net:Ampath3:50</td>\n",
       "      <td>ampath.net</td>\n",
       "      <td>Ampath3</td>\n",
       "      <td>50</td>\n",
       "      <td>up</td>\n",
       "      <td>Disney World, University of Florida, MIT</td>\n",
       "      <td>1-299, 301-3499, 3501-4095</td>\n",
       "      <td>300; 3500</td>\n",
       "    </tr>\n",
       "    <tr>\n",
       "      <th>1</th>\n",
       "      <td>urn:sdx:port:ampath.net:Ampath3:3</td>\n",
       "      <td>ampath.net</td>\n",
       "      <td>Ampath3</td>\n",
       "      <td>3</td>\n",
       "      <td>up</td>\n",
       "      <td>Indiana University, IU</td>\n",
       "      <td>1-4095</td>\n",
       "      <td>None</td>\n",
       "    </tr>\n",
       "    <tr>\n",
       "      <th>2</th>\n",
       "      <td>urn:sdx:port:ampath.net:Ampath2:50</td>\n",
       "      <td>ampath.net</td>\n",
       "      <td>Ampath2</td>\n",
       "      <td>50</td>\n",
       "      <td>up</td>\n",
       "      <td>NCSA, UIUC, University of Illinois</td>\n",
       "      <td>1-4095</td>\n",
       "      <td>None</td>\n",
       "    </tr>\n",
       "    <tr>\n",
       "      <th>3</th>\n",
       "      <td>urn:sdx:port:ampath.net:Ampath1:1</td>\n",
       "      <td>ampath.net</td>\n",
       "      <td>Ampath1</td>\n",
       "      <td>1</td>\n",
       "      <td>up</td>\n",
       "      <td>South America, Universidad De Brazil</td>\n",
       "      <td>1-4095</td>\n",
       "      <td>None</td>\n",
       "    </tr>\n",
       "    <tr>\n",
       "      <th>4</th>\n",
       "      <td>urn:sdx:port:ampath.net:Ampath1:50</td>\n",
       "      <td>ampath.net</td>\n",
       "      <td>Ampath1</td>\n",
       "      <td>50</td>\n",
       "      <td>up</td>\n",
       "      <td>Canada, New York, University</td>\n",
       "      <td>1-4095</td>\n",
       "      <td>None</td>\n",
       "    </tr>\n",
       "    <tr>\n",
       "      <th>5</th>\n",
       "      <td>urn:sdx:port:sax.net:Sax02:41</td>\n",
       "      <td>sax.net</td>\n",
       "      <td>Sax02</td>\n",
       "      <td>41</td>\n",
       "      <td>up</td>\n",
       "      <td>TTU, Tennessee Tech Univ, TN Tech University, Cookeville</td>\n",
       "      <td>1-4095</td>\n",
       "      <td>None</td>\n",
       "    </tr>\n",
       "    <tr>\n",
       "      <th>6</th>\n",
       "      <td>urn:sdx:port:sax.net:Sax02:1</td>\n",
       "      <td>sax.net</td>\n",
       "      <td>Sax02</td>\n",
       "      <td>1</td>\n",
       "      <td>up</td>\n",
       "      <td>FIU, Florida International Unitversity, Miami</td>\n",
       "      <td>1-4095</td>\n",
       "      <td>None</td>\n",
       "    </tr>\n",
       "    <tr>\n",
       "      <th>7</th>\n",
       "      <td>urn:sdx:port:sax.net:Sax02:50</td>\n",
       "      <td>sax.net</td>\n",
       "      <td>Sax02</td>\n",
       "      <td>50</td>\n",
       "      <td>up</td>\n",
       "      <td>UCLA, University of California, Los Angeles, Los Angeles</td>\n",
       "      <td>1-399, 401-4095</td>\n",
       "      <td>400</td>\n",
       "    </tr>\n",
       "    <tr>\n",
       "      <th>8</th>\n",
       "      <td>urn:sdx:port:tenet.ac.za:Tenet02:41</td>\n",
       "      <td>tenet.ac.za</td>\n",
       "      <td>Tenet02</td>\n",
       "      <td>41</td>\n",
       "      <td>up</td>\n",
       "      <td>UT, University of Texas, Austin</td>\n",
       "      <td>1-4095</td>\n",
       "      <td>None</td>\n",
       "    </tr>\n",
       "    <tr>\n",
       "      <th>9</th>\n",
       "      <td>urn:sdx:port:tenet.ac.za:Tenet02:1</td>\n",
       "      <td>tenet.ac.za</td>\n",
       "      <td>Tenet02</td>\n",
       "      <td>1</td>\n",
       "      <td>up</td>\n",
       "      <td>OSU, Ohio State University, Columbus</td>\n",
       "      <td>1-4095</td>\n",
       "      <td>None</td>\n",
       "    </tr>\n",
       "    <tr>\n",
       "      <th>10</th>\n",
       "      <td>urn:sdx:port:tenet.ac.za:Tenet02:50</td>\n",
       "      <td>tenet.ac.za</td>\n",
       "      <td>Tenet02</td>\n",
       "      <td>50</td>\n",
       "      <td>up</td>\n",
       "      <td>FSU, Florida State University, Tallahassee</td>\n",
       "      <td>1-4095</td>\n",
       "      <td>None</td>\n",
       "    </tr>\n",
       "    <tr>\n",
       "      <th>11</th>\n",
       "      <td>urn:sdx:port:tenet.ac.za:Tenet03:50</td>\n",
       "      <td>tenet.ac.za</td>\n",
       "      <td>Tenet03</td>\n",
       "      <td>50</td>\n",
       "      <td>up</td>\n",
       "      <td>NYU, New York University, New York City</td>\n",
       "      <td>1-149, 151-3499, 3501-4095</td>\n",
       "      <td>150; 3500</td>\n",
       "    </tr>\n",
       "    <tr>\n",
       "      <th>12</th>\n",
       "      <td>urn:sdx:port:tenet.ac.za:Tenet03:2</td>\n",
       "      <td>tenet.ac.za</td>\n",
       "      <td>Tenet03</td>\n",
       "      <td>2</td>\n",
       "      <td>up</td>\n",
       "      <td>UF, University of Florida, Gainesville</td>\n",
       "      <td>1-4095</td>\n",
       "      <td>None</td>\n",
       "    </tr>\n",
       "    <tr>\n",
       "      <th>13</th>\n",
       "      <td>urn:sdx:port:tenet.ac.za:Tenet01:41</td>\n",
       "      <td>tenet.ac.za</td>\n",
       "      <td>Tenet01</td>\n",
       "      <td>41</td>\n",
       "      <td>up</td>\n",
       "      <td>USC, University of Southern California, Los Angeles</td>\n",
       "      <td>1-4095</td>\n",
       "      <td>None</td>\n",
       "    </tr>\n",
       "    <tr>\n",
       "      <th>14</th>\n",
       "      <td>urn:sdx:port:tenet.ac.za:Tenet01:1</td>\n",
       "      <td>tenet.ac.za</td>\n",
       "      <td>Tenet01</td>\n",
       "      <td>1</td>\n",
       "      <td>up</td>\n",
       "      <td>CU, Columbia University, New York City</td>\n",
       "      <td>1-4095</td>\n",
       "      <td>None</td>\n",
       "    </tr>\n",
       "    <tr>\n",
       "      <th>15</th>\n",
       "      <td>urn:sdx:port:tenet.ac.za:Tenet01:2</td>\n",
       "      <td>tenet.ac.za</td>\n",
       "      <td>Tenet01</td>\n",
       "      <td>2</td>\n",
       "      <td>up</td>\n",
       "      <td>Duke, Duke University, Durham</td>\n",
       "      <td>1-4095</td>\n",
       "      <td>None</td>\n",
       "    </tr>\n",
       "  </tbody>\n",
       "</table>\n",
       "</div>"
      ],
      "text/plain": [
       "                                Port ID       Domain   Device Port # Status                                                  Entities             VLANs Available VLANs in Use\n",
       "0    urn:sdx:port:ampath.net:Ampath3:50   ampath.net  Ampath3     50     up                  Disney World, University of Florida, MIT  1-299, 301-3499, 3501-4095    300; 3500\n",
       "1     urn:sdx:port:ampath.net:Ampath3:3   ampath.net  Ampath3      3     up                                    Indiana University, IU                      1-4095         None\n",
       "2    urn:sdx:port:ampath.net:Ampath2:50   ampath.net  Ampath2     50     up                        NCSA, UIUC, University of Illinois                      1-4095         None\n",
       "3     urn:sdx:port:ampath.net:Ampath1:1   ampath.net  Ampath1      1     up                      South America, Universidad De Brazil                      1-4095         None\n",
       "4    urn:sdx:port:ampath.net:Ampath1:50   ampath.net  Ampath1     50     up                              Canada, New York, University                      1-4095         None\n",
       "5         urn:sdx:port:sax.net:Sax02:41      sax.net    Sax02     41     up  TTU, Tennessee Tech Univ, TN Tech University, Cookeville                      1-4095         None\n",
       "6          urn:sdx:port:sax.net:Sax02:1      sax.net    Sax02      1     up             FIU, Florida International Unitversity, Miami                      1-4095         None\n",
       "7         urn:sdx:port:sax.net:Sax02:50      sax.net    Sax02     50     up  UCLA, University of California, Los Angeles, Los Angeles             1-399, 401-4095          400\n",
       "8   urn:sdx:port:tenet.ac.za:Tenet02:41  tenet.ac.za  Tenet02     41     up                           UT, University of Texas, Austin                      1-4095         None\n",
       "9    urn:sdx:port:tenet.ac.za:Tenet02:1  tenet.ac.za  Tenet02      1     up                      OSU, Ohio State University, Columbus                      1-4095         None\n",
       "10  urn:sdx:port:tenet.ac.za:Tenet02:50  tenet.ac.za  Tenet02     50     up                FSU, Florida State University, Tallahassee                      1-4095         None\n",
       "11  urn:sdx:port:tenet.ac.za:Tenet03:50  tenet.ac.za  Tenet03     50     up                   NYU, New York University, New York City  1-149, 151-3499, 3501-4095    150; 3500\n",
       "12   urn:sdx:port:tenet.ac.za:Tenet03:2  tenet.ac.za  Tenet03      2     up                    UF, University of Florida, Gainesville                      1-4095         None\n",
       "13  urn:sdx:port:tenet.ac.za:Tenet01:41  tenet.ac.za  Tenet01     41     up       USC, University of Southern California, Los Angeles                      1-4095         None\n",
       "14   urn:sdx:port:tenet.ac.za:Tenet01:1  tenet.ac.za  Tenet01      1     up                    CU, Columbia University, New York City                      1-4095         None\n",
       "15   urn:sdx:port:tenet.ac.za:Tenet01:2  tenet.ac.za  Tenet01      2     up                             Duke, Duke University, Durham                      1-4095         None"
      ]
     },
     "execution_count": 35,
     "metadata": {},
     "output_type": "execute_result"
    }
   ],
   "source": [
    "# Create the client instance\n",
    "client = SDXClient(base_url=url)\n",
    "\n",
    "# Mock API responses\n",
    "with requests_mock.Mocker() as mock:\n",
    "    mock.get(f\"{url}/topology\", json=topology)  # Mock topology response\n",
    "\n",
    "    mock.get(f\"{url}/l2vpn/1.0\", json=mock_response_active_l2vpns_exist)\n",
    "    \n",
    "    # client.search(\"Ampath\", \"ports\")     # Calls search_ports()\n",
    "    result = client.search(\"Uni\", \"entities\")     # Calls search_entities()\n",
    "\n",
    "result"
   ]
  },
  {
   "cell_type": "code",
   "execution_count": 30,
   "id": "7f721db1",
   "metadata": {},
   "outputs": [
    {
     "data": {
      "text/html": [
       "<div>\n",
       "<style scoped>\n",
       "    .dataframe tbody tr th:only-of-type {\n",
       "        vertical-align: middle;\n",
       "    }\n",
       "\n",
       "    .dataframe tbody tr th {\n",
       "        vertical-align: top;\n",
       "    }\n",
       "\n",
       "    .dataframe thead th {\n",
       "        text-align: right;\n",
       "    }\n",
       "</style>\n",
       "<table border=\"1\" class=\"dataframe\">\n",
       "  <thead>\n",
       "    <tr style=\"text-align: right;\">\n",
       "      <th></th>\n",
       "      <th>Port ID</th>\n",
       "      <th>Domain</th>\n",
       "      <th>Device</th>\n",
       "      <th>Port #</th>\n",
       "      <th>Status</th>\n",
       "      <th>Entities</th>\n",
       "      <th>VLANs Available</th>\n",
       "      <th>VLANs in Use</th>\n",
       "    </tr>\n",
       "  </thead>\n",
       "  <tbody>\n",
       "    <tr>\n",
       "      <th>0</th>\n",
       "      <td>urn:sdx:port:sax.net:Sax01:41</td>\n",
       "      <td>sax.net</td>\n",
       "      <td>Sax01</td>\n",
       "      <td>41</td>\n",
       "      <td>up</td>\n",
       "      <td>None</td>\n",
       "      <td>1-4095</td>\n",
       "      <td>None</td>\n",
       "    </tr>\n",
       "    <tr>\n",
       "      <th>1</th>\n",
       "      <td>urn:sdx:port:sax.net:Sax01:1</td>\n",
       "      <td>sax.net</td>\n",
       "      <td>Sax01</td>\n",
       "      <td>1</td>\n",
       "      <td>up</td>\n",
       "      <td>Sao Paulo</td>\n",
       "      <td>1-4095</td>\n",
       "      <td>None</td>\n",
       "    </tr>\n",
       "    <tr>\n",
       "      <th>2</th>\n",
       "      <td>urn:sdx:port:sax.net:Sax01:40</td>\n",
       "      <td>sax.net</td>\n",
       "      <td>Sax01</td>\n",
       "      <td>40</td>\n",
       "      <td>up</td>\n",
       "      <td>Sao Paulo, Ampath</td>\n",
       "      <td>1-4095</td>\n",
       "      <td>None</td>\n",
       "    </tr>\n",
       "    <tr>\n",
       "      <th>3</th>\n",
       "      <td>urn:sdx:port:sax.net:Sax01:50</td>\n",
       "      <td>sax.net</td>\n",
       "      <td>Sax01</td>\n",
       "      <td>50</td>\n",
       "      <td>up</td>\n",
       "      <td>France, Cern</td>\n",
       "      <td>1-3499, 3501-4095</td>\n",
       "      <td>3500</td>\n",
       "    </tr>\n",
       "    <tr>\n",
       "      <th>4</th>\n",
       "      <td>urn:sdx:port:sax.net:Sax02:41</td>\n",
       "      <td>sax.net</td>\n",
       "      <td>Sax02</td>\n",
       "      <td>41</td>\n",
       "      <td>up</td>\n",
       "      <td>TTU, Tennessee Tech Univ, TN Tech University, Cookeville</td>\n",
       "      <td>1-4095</td>\n",
       "      <td>None</td>\n",
       "    </tr>\n",
       "    <tr>\n",
       "      <th>5</th>\n",
       "      <td>urn:sdx:port:sax.net:Sax02:1</td>\n",
       "      <td>sax.net</td>\n",
       "      <td>Sax02</td>\n",
       "      <td>1</td>\n",
       "      <td>up</td>\n",
       "      <td>FIU, Florida International Unitversity, Miami</td>\n",
       "      <td>1-4095</td>\n",
       "      <td>None</td>\n",
       "    </tr>\n",
       "    <tr>\n",
       "      <th>6</th>\n",
       "      <td>urn:sdx:port:sax.net:Sax02:40</td>\n",
       "      <td>sax.net</td>\n",
       "      <td>Sax02</td>\n",
       "      <td>40</td>\n",
       "      <td>up</td>\n",
       "      <td>MIT, Massachusetts Institute of Technology, Cambridge</td>\n",
       "      <td>1-4095</td>\n",
       "      <td>None</td>\n",
       "    </tr>\n",
       "    <tr>\n",
       "      <th>7</th>\n",
       "      <td>urn:sdx:port:sax.net:Sax02:50</td>\n",
       "      <td>sax.net</td>\n",
       "      <td>Sax02</td>\n",
       "      <td>50</td>\n",
       "      <td>up</td>\n",
       "      <td>UCLA, University of California, Los Angeles, Los Angeles</td>\n",
       "      <td>1-399, 401-4095</td>\n",
       "      <td>400</td>\n",
       "    </tr>\n",
       "  </tbody>\n",
       "</table>\n",
       "</div>"
      ],
      "text/plain": [
       "                         Port ID   Domain Device Port # Status                                                  Entities    VLANs Available VLANs in Use\n",
       "0  urn:sdx:port:sax.net:Sax01:41  sax.net  Sax01     41     up                                                      None             1-4095         None\n",
       "1   urn:sdx:port:sax.net:Sax01:1  sax.net  Sax01      1     up                                                 Sao Paulo             1-4095         None\n",
       "2  urn:sdx:port:sax.net:Sax01:40  sax.net  Sax01     40     up                                         Sao Paulo, Ampath             1-4095         None\n",
       "3  urn:sdx:port:sax.net:Sax01:50  sax.net  Sax01     50     up                                              France, Cern  1-3499, 3501-4095         3500\n",
       "4  urn:sdx:port:sax.net:Sax02:41  sax.net  Sax02     41     up  TTU, Tennessee Tech Univ, TN Tech University, Cookeville             1-4095         None\n",
       "5   urn:sdx:port:sax.net:Sax02:1  sax.net  Sax02      1     up             FIU, Florida International Unitversity, Miami             1-4095         None\n",
       "6  urn:sdx:port:sax.net:Sax02:40  sax.net  Sax02     40     up     MIT, Massachusetts Institute of Technology, Cambridge             1-4095         None\n",
       "7  urn:sdx:port:sax.net:Sax02:50  sax.net  Sax02     50     up  UCLA, University of California, Los Angeles, Los Angeles    1-399, 401-4095          400"
      ]
     },
     "execution_count": 30,
     "metadata": {},
     "output_type": "execute_result"
    }
   ],
   "source": [
    "# Create the client instance\n",
    "client = SDXClient(base_url=url)\n",
    "\n",
    "# Mock API responses\n",
    "with requests_mock.Mocker() as mock:\n",
    "    mock.get(f\"{url}/topology\", json=topology)  # Mock topology response\n",
    "\n",
    "    mock.get(f\"{url}/l2vpn/1.0\", json=mock_response_active_l2vpns_exist)\n",
    "    \n",
    "    result = client.search(\"Sa\", \"ports\")     # Calls search_ports()\n",
    "    # client.search(\"FIU\", \"entities\")     # Calls search_entities()\n",
    "\n",
    "result"
   ]
  },
  {
   "cell_type": "markdown",
   "id": "3fa775a5",
   "metadata": {},
   "source": [
    "# Interactive Search"
   ]
  },
  {
   "cell_type": "code",
   "execution_count": 31,
   "id": "9767b647",
   "metadata": {},
   "outputs": [
    {
     "name": "stdout",
     "output_type": "stream",
     "text": [
      "Interactive Mode Enabled: Select search type and enter a query.\n"
     ]
    },
    {
     "data": {
      "application/vnd.jupyter.widget-view+json": {
       "model_id": "5a31671d79e848e89f389498c9ca9c34",
       "version_major": 2,
       "version_minor": 0
      },
      "text/plain": [
       "Dropdown(description='Type:', options=('ports', 'entities'), value='ports')"
      ]
     },
     "metadata": {},
     "output_type": "display_data"
    },
    {
     "data": {
      "application/vnd.jupyter.widget-view+json": {
       "model_id": "fb5ece35c6b64ddb9d753624976b8202",
       "version_major": 2,
       "version_minor": 0
      },
      "text/plain": [
       "Text(value='', continuous_update=False, description='Search:', placeholder='Enter a search term...')"
      ]
     },
     "metadata": {},
     "output_type": "display_data"
    }
   ],
   "source": [
    "    \n",
    "client.interactive_search()"
   ]
  },
  {
   "cell_type": "code",
   "execution_count": null,
   "id": "77f258df",
   "metadata": {},
   "outputs": [],
   "source": []
  }
 ],
 "metadata": {
  "kernelspec": {
   "display_name": "PythonData",
   "language": "python",
   "name": "pythondata"
  },
  "language_info": {
   "codemirror_mode": {
    "name": "ipython",
    "version": 3
   },
   "file_extension": ".py",
   "mimetype": "text/x-python",
   "name": "python",
   "nbconvert_exporter": "python",
   "pygments_lexer": "ipython3",
   "version": "3.7.11"
  }
 },
 "nbformat": 4,
 "nbformat_minor": 5
}
